{
 "cells": [
  {
   "cell_type": "markdown",
   "id": "b3744f03",
   "metadata": {},
   "source": [
    "# <div id=A style=\"color:black;display:fill;background-color:Black;overflow:hidden\"><p style=\"padding:30px;color:white;overflow:hidden;font-size:130%;margin:0;text-align:center;font-family: Georgia; border-radius:5px;\">PROJET DE BIG DATA : ANALYSE DES DONNEES DU SECTEUR DE LA FINANCE AVEC PYSPARK</p></div>\n"
   ]
  },
  {
   "cell_type": "markdown",
   "id": "449231ef-66f6-4240-a21c-c8a1b268f710",
   "metadata": {
    "id": "449231ef-66f6-4240-a21c-c8a1b268f710"
   },
   "source": [
    "# <div  id='I' style=\"padding:20px;color:white;margin:0;font-size:35px;font-family:Verdana;text-align:center;display:fill;border-radius:5px;background-color:lightskyblue;overflow:hidden\"><b> I. Introduction</b></div>"
   ]
  },
  {
   "cell_type": "markdown",
   "id": "48b9f3c0",
   "metadata": {},
   "source": [
    "## <font color=\"#0d94cd\">Contexte</font>\n",
    "\n",
    "\n",
    "## <font color=\"#0d94cd\">Problématique</font>\n",
    "\n",
    "\n",
    "## <font color=\"#0d94cd\">Objectifs</font>"
   ]
  },
  {
   "cell_type": "markdown",
   "id": "W8WZge4jnwMU",
   "metadata": {
    "id": "W8WZge4jnwMU"
   },
   "source": [
    "# <div  id='I' style=\"padding:20px;color:white;margin:0;font-size:35px;font-family:Verdana;text-align:center;display:fill;border-radius:5px;background-color:lightskyblue;overflow:hidden\"><b> I. PREPARATION DES DONNEES</b></div>"
   ]
  },
  {
   "cell_type": "markdown",
   "id": "040a4f58",
   "metadata": {},
   "source": [
    "<a href='#top' style='text-decoration:none; font-family: cursive; color=white;'>Table des matières^</a><br>"
   ]
  },
  {
   "cell_type": "markdown",
   "id": "b06baac2",
   "metadata": {},
   "source": [
    "## <font  id=\"1.1\" color=\"#0d94cd\">1.1. Chargement des modules</font>"
   ]
  },
  {
   "cell_type": "code",
   "execution_count": 1,
   "id": "29358e0f",
   "metadata": {},
   "outputs": [],
   "source": [
    "# Importation des modules \n",
    "import plotly.express as px\n",
    "import pandas as pd\n",
    "import seaborn as sns\n",
    "import matplotlib.pyplot as plt\n",
    "from pyspark.sql import SparkSession\n"
   ]
  },
  {
   "cell_type": "markdown",
   "id": "b4dab958",
   "metadata": {},
   "source": [
    "## <font  id = '1.2' color=\"#0d94cd\">1.2. Importation et présentation du jeu de données</font>"
   ]
  },
  {
   "cell_type": "markdown",
   "id": "78d2b228",
   "metadata": {},
   "source": [
    "### <font id = '1.2.1' color=\"#0d94cd\">1.2.1. Création de la séssion Spark</font>"
   ]
  },
  {
   "cell_type": "code",
   "execution_count": 3,
   "id": "VS_90L5QlPYt",
   "metadata": {
    "colab": {
     "base_uri": "https://localhost:8080/"
    },
    "executionInfo": {
     "elapsed": 8755,
     "status": "ok",
     "timestamp": 1739820226219,
     "user": {
      "displayName": "Hadja Hadidja",
      "userId": "13124269598925753814"
     },
     "user_tz": -60
    },
    "id": "VS_90L5QlPYt",
    "outputId": "ecb953da-081a-4c0b-c1ac-a87a04578554"
   },
   "outputs": [
    {
     "name": "stdout",
     "output_type": "stream",
     "text": [
      "Spark Context Version: 3.5.4\n",
      "Application Name: DataAnalysisFince\n"
     ]
    }
   ],
   "source": [
    "# Création d'une session Spark\n",
    "spark = SparkSession.builder \\\n",
    "    .appName(\"DataAnalysisFince\") \\\n",
    "    .master(\"local[*]\") \\\n",
    "    .getOrCreate()\n",
    "# Création de l'environnement Spark\n",
    "sc = spark.sparkContext\n",
    "# Afficher les informations de l'environnement Spark\n",
    "print(\"Spark Context Version:\", sc.version)\n",
    "print(\"Application Name:\", sc.appName)"
   ]
  },
  {
   "cell_type": "markdown",
   "id": "5cdf4c5a",
   "metadata": {},
   "source": [
    "### <font id = '1.2.2' color=\"#0d94cd\">1.2.2. Importation du jeu de données</font>"
   ]
  },
  {
   "cell_type": "code",
   "execution_count": 4,
   "id": "SPyLd242dhNZ",
   "metadata": {
    "id": "SPyLd242dhNZ"
   },
   "outputs": [
    {
     "name": "stdout",
     "output_type": "stream",
     "text": [
      "+----+--------+--------+-----------+-------------+--------------+-----------+--------------+--------------+-------+--------------+\n",
      "|step|    type|  amount|   nameOrig|oldbalanceOrg|newbalanceOrig|   nameDest|oldbalanceDest|newbalanceDest|isFraud|isFlaggedFraud|\n",
      "+----+--------+--------+-----------+-------------+--------------+-----------+--------------+--------------+-------+--------------+\n",
      "|   1| PAYMENT| 9839.64|C1231006815|     170136.0|     160296.36|M1979787155|           0.0|           0.0|      0|             0|\n",
      "|   1| PAYMENT| 1864.28|C1666544295|      21249.0|      19384.72|M2044282225|           0.0|           0.0|      0|             0|\n",
      "|   1|TRANSFER|   181.0|C1305486145|        181.0|           0.0| C553264065|           0.0|           0.0|      1|             0|\n",
      "|   1|CASH_OUT|   181.0| C840083671|        181.0|           0.0|  C38997010|       21182.0|           0.0|      1|             0|\n",
      "|   1| PAYMENT|11668.14|C2048537720|      41554.0|      29885.86|M1230701703|           0.0|           0.0|      0|             0|\n",
      "+----+--------+--------+-----------+-------------+--------------+-----------+--------------+--------------+-------+--------------+\n",
      "only showing top 5 rows\n",
      "\n"
     ]
    }
   ],
   "source": [
    "# Chemin d'accès au fichier CSV sur votre Google Drive\n",
    "file_path = 'C:/Users/Dell/Desktop/ISE 2/ISE 2 S1/Big data/Projet_big_data/base.csv'\n",
    "df = spark.read.csv(file_path, header=True, inferSchema=True)\n",
    "\n",
    "# Afficher les premières lignes\n",
    "df.show(5)"
   ]
  },
  {
   "cell_type": "markdown",
   "id": "0d3d9b79",
   "metadata": {},
   "source": [
    "### <font  id = '1.2.3' color=\"#0d94cd\">1.2.3. Présentation du jeu de données</font>"
   ]
  },
  {
   "cell_type": "code",
   "execution_count": 48,
   "id": "oSumIIHqlZBA",
   "metadata": {
    "colab": {
     "base_uri": "https://localhost:8080/",
     "height": 186
    },
    "executionInfo": {
     "elapsed": 8,
     "status": "ok",
     "timestamp": 1739820251415,
     "user": {
      "displayName": "Hadja Hadidja",
      "userId": "13124269598925753814"
     },
     "user_tz": -60
    },
    "id": "oSumIIHqlZBA",
    "outputId": "2a560223-3551-4879-9bbb-f8119693483a"
   },
   "outputs": [
    {
     "data": {
      "text/plain": [
       "pyspark.sql.dataframe.DataFrame"
      ]
     },
     "execution_count": 48,
     "metadata": {},
     "output_type": "execute_result"
    }
   ],
   "source": [
    "#type \n",
    "type(df)"
   ]
  },
  {
   "cell_type": "code",
   "execution_count": 49,
   "id": "17597a78",
   "metadata": {},
   "outputs": [
    {
     "name": "stdout",
     "output_type": "stream",
     "text": [
      "Nombre de lignes : 6362620\n",
      "Nombre de colonnes : 11\n"
     ]
    }
   ],
   "source": [
    "# Afficher le nombre de lignes et de colonnes\n",
    "print(f\"Nombre de lignes : {df.count()}\")\n",
    "print(f\"Nombre de colonnes : {len(df.columns)}\")"
   ]
  },
  {
   "cell_type": "code",
   "execution_count": 50,
   "id": "9b9d0e9c",
   "metadata": {},
   "outputs": [
    {
     "name": "stdout",
     "output_type": "stream",
     "text": [
      "root\n",
      " |-- step: integer (nullable = true)\n",
      " |-- type: string (nullable = true)\n",
      " |-- amount: double (nullable = true)\n",
      " |-- nameOrig: string (nullable = true)\n",
      " |-- oldbalanceOrg: double (nullable = true)\n",
      " |-- newbalanceOrig: double (nullable = true)\n",
      " |-- nameDest: string (nullable = true)\n",
      " |-- oldbalanceDest: double (nullable = true)\n",
      " |-- newbalanceDest: double (nullable = true)\n",
      " |-- isFraud: integer (nullable = true)\n",
      " |-- isFlaggedFraud: integer (nullable = true)\n",
      "\n"
     ]
    }
   ],
   "source": [
    "# Afficher le schéma\n",
    "df.printSchema()"
   ]
  },
  {
   "cell_type": "markdown",
   "id": "fbb98d28",
   "metadata": {},
   "source": [
    "**Commentaire :** La base de données pyspark est constituée de 11 variables (colonnes) et de 6362620 observations (lignes). Parmi les 11 variables, 3 sont de type entier (step, isFraud, isFlaggedFraud), 3 de type chaîne (type, name0rig, namesDest) et 5 de type « double » (amount, oldbalanceOrg, newbalanceOrig, oldbalanceDest et newbalanceDest). \n",
    "\n",
    "Ainsi, le jeu de données est constitué de 5 variables quantitatives (amount, oldbalanceOrg, newbalanceOrig, oldbalanceDest et newbalanceDest) et 6 variables qualitatives (step, isFraud, isFlaggedFraud, type, name0rig, namesDest). \n"
   ]
  },
  {
   "cell_type": "markdown",
   "id": "6ec1a5e8",
   "metadata": {},
   "source": [
    "### <font  id = '1.2.4' color=\"#0d94cd\">1.2.4. Dictionnaire de données</font>"
   ]
  },
  {
   "cell_type": "markdown",
   "id": "17995498",
   "metadata": {},
   "source": [
    "* `step` - représente une unité de temps dans le monde réel. Dans ce cas, 1 pas correspond à 1 heure de temps. Le nombre total d'étapes est de 744 (simulation de 30 jours).\n",
    "* `type` - ENTRÉE, SORTIE, DÉBIT, PAIEMENT et TRANSFERT.\n",
    "* `montant` -montant de la transaction en monnaie locale.\n",
    "* `nameOrig` - client à l'origine de la transaction\n",
    "* `oldbalanceOrg` - solde initial avant la transaction\n",
    "* `newbalanceOrig` - nouveau solde après la transaction.\n",
    "* `nameDest` - client qui est le destinataire de la transaction\n",
    "* `oldbalanceDest` - solde initial du destinataire avant la transaction. Notez qu'il n'y a pas d'informations pour les clients qui commencent par M(Merchants).\n",
    "* `newbalanceDest` - destinataire du nouveau solde après la transaction. Notez qu'il n'y a pas d'information pour \n",
    "* les clients qui commencent par M (Merchants).\n",
    "* `isFraud` - Il s'agit des transactions effectuées par les agents frauduleux dans le cadre de la simulation. Dans cet ensemble de données spécifique, le comportement frauduleux des agents vise à faire du profit en prenant le contrôle des comptes des clients et en essayant de vider les fonds en les transférant sur un autre compte, puis en les retirant du système.\n"
   ]
  },
  {
   "cell_type": "markdown",
   "id": "d50849cf",
   "metadata": {},
   "source": [
    "### <font  id = '1.2.5' color=\"#0d94cd\">1.2.5. Traitement des données </font>"
   ]
  },
  {
   "cell_type": "markdown",
   "id": "c6fc8d9f",
   "metadata": {},
   "source": [
    "### <font color=\"#0d94cd\"> Doublons </font>"
   ]
  },
  {
   "cell_type": "code",
   "execution_count": 15,
   "id": "f497e29d",
   "metadata": {},
   "outputs": [
    {
     "name": "stdout",
     "output_type": "stream",
     "text": [
      "+----+----+------+--------+-------------+--------------+--------+--------------+--------------+-------+--------------+-----+\n",
      "|step|type|amount|nameOrig|oldbalanceOrg|newbalanceOrig|nameDest|oldbalanceDest|newbalanceDest|isFraud|isFlaggedFraud|count|\n",
      "+----+----+------+--------+-------------+--------------+--------+--------------+--------------+-------+--------------+-----+\n",
      "+----+----+------+--------+-------------+--------------+--------+--------------+--------------+-------+--------------+-----+\n",
      "\n"
     ]
    }
   ],
   "source": [
    "import pyspark.sql.functions as F\n",
    "df.groupBy(df.columns)\\\n",
    ".count()\\\n",
    ".where(F.col('count') > 1)\\\n",
    ".show()"
   ]
  },
  {
   "cell_type": "markdown",
   "id": "44460730",
   "metadata": {},
   "source": [
    "> **Commentaire :** Aucune doublon\n"
   ]
  },
  {
   "cell_type": "markdown",
   "id": "892eecc8",
   "metadata": {},
   "source": [
    "### <font color=\"#0d94cd\"> Valeurs manquantes </font>"
   ]
  },
  {
   "cell_type": "code",
   "execution_count": 16,
   "id": "36c9c69e",
   "metadata": {},
   "outputs": [
    {
     "name": "stdout",
     "output_type": "stream",
     "text": [
      "+----+----+------+--------+-------------+--------------+--------+--------------+--------------+-------+--------------+\n",
      "|step|type|amount|nameOrig|oldbalanceOrg|newbalanceOrig|nameDest|oldbalanceDest|newbalanceDest|isFraud|isFlaggedFraud|\n",
      "+----+----+------+--------+-------------+--------------+--------+--------------+--------------+-------+--------------+\n",
      "|   0|   0|     0|       0|            0|             0|       0|             0|             0|      0|             0|\n",
      "+----+----+------+--------+-------------+--------------+--------+--------------+--------------+-------+--------------+\n",
      "\n"
     ]
    }
   ],
   "source": [
    "from pyspark.sql.functions import col, sum as _sum\n",
    "# Compter les valeurs nulles par colonne\n",
    "missing_values_count = df.select([_sum(col(c).isNull().cast(\"int\")).alias(c) for c in df.columns])\n",
    "\n",
    "missing_values_count.show()"
   ]
  },
  {
   "cell_type": "markdown",
   "metadata": {},
   "source": [
    "> **Commentaire :** Aucune valeur manquante "
   ]
  },
  {
   "cell_type": "markdown",
   "id": "2f9cdee1",
   "metadata": {},
   "source": [
    "# <div  id='II' style=\"padding:20px;color:white;margin:0;font-size:35px;font-family:Verdana;text-align:center;display:fill;border-radius:5px;background-color:lightskyblue;overflow:hidden\"><b> II. DESCRIPTION DES VARIABLES </b></div>"
   ]
  },
  {
   "cell_type": "markdown",
   "id": "19d2e63e",
   "metadata": {},
   "source": [
    "<a href='#top' style='text-decoration:none; font-family: cursive; color=white;'>Table des matières^</a><br>"
   ]
  },
  {
   "cell_type": "markdown",
   "id": "66bcb04e",
   "metadata": {},
   "source": [
    "## <font id = '2.1' color=\"#0d94cd\">2.1. Description des variables qualitatives </font>"
   ]
  },
  {
   "cell_type": "markdown",
   "id": "4cbc1291",
   "metadata": {},
   "source": [
    "### <font id = '2.1.1' color=\"#0d94cd\">2.1.1. Types de transactions </font>\n"
   ]
  },
  {
   "cell_type": "code",
   "execution_count": 17,
   "id": "d7aad177",
   "metadata": {},
   "outputs": [
    {
     "name": "stdout",
     "output_type": "stream",
     "text": [
      "+--------+-------+------------------+\n",
      "|    type|  count|         fréquence|\n",
      "+--------+-------+------------------+\n",
      "|TRANSFER| 532909| 8.375621992198182|\n",
      "| CASH_IN|1399284|21.992261049693365|\n",
      "|CASH_OUT|2237500| 35.16633085112736|\n",
      "| PAYMENT|2151495| 33.81460781879163|\n",
      "|   DEBIT|  41432|0.6511782881894566|\n",
      "+--------+-------+------------------+\n",
      "\n"
     ]
    }
   ],
   "source": [
    "total_count = df.count()\n",
    "frequencies = df.groupBy(\"type\").count().withColumn(\"fréquence\", 100*F.col(\"count\") / total_count)\n",
    "\n",
    "frequencies.show()"
   ]
  },
  {
   "cell_type": "code",
   "execution_count": 18,
   "id": "fd234b4a",
   "metadata": {},
   "outputs": [
    {
     "data": {
      "application/vnd.plotly.v1+json": {
       "config": {
        "plotlyServerURL": "https://plot.ly"
       },
       "data": [
        {
         "alignmentgroup": "True",
         "hovertemplate": "Transaction Type=%{x}<br>Count=%{y}<extra></extra>",
         "legendgroup": "TRANSFER",
         "marker": {
          "color": "rgb(102, 197, 204)",
          "pattern": {
           "shape": ""
          }
         },
         "name": "TRANSFER",
         "offsetgroup": "TRANSFER",
         "orientation": "v",
         "showlegend": true,
         "textposition": "auto",
         "type": "bar",
         "x": [
          "TRANSFER"
         ],
         "xaxis": "x",
         "y": [
          532909
         ],
         "yaxis": "y"
        },
        {
         "alignmentgroup": "True",
         "hovertemplate": "Transaction Type=%{x}<br>Count=%{y}<extra></extra>",
         "legendgroup": "CASH_IN",
         "marker": {
          "color": "rgb(246, 207, 113)",
          "pattern": {
           "shape": ""
          }
         },
         "name": "CASH_IN",
         "offsetgroup": "CASH_IN",
         "orientation": "v",
         "showlegend": true,
         "textposition": "auto",
         "type": "bar",
         "x": [
          "CASH_IN"
         ],
         "xaxis": "x",
         "y": [
          1399284
         ],
         "yaxis": "y"
        },
        {
         "alignmentgroup": "True",
         "hovertemplate": "Transaction Type=%{x}<br>Count=%{y}<extra></extra>",
         "legendgroup": "CASH_OUT",
         "marker": {
          "color": "rgb(248, 156, 116)",
          "pattern": {
           "shape": ""
          }
         },
         "name": "CASH_OUT",
         "offsetgroup": "CASH_OUT",
         "orientation": "v",
         "showlegend": true,
         "textposition": "auto",
         "type": "bar",
         "x": [
          "CASH_OUT"
         ],
         "xaxis": "x",
         "y": [
          2237500
         ],
         "yaxis": "y"
        },
        {
         "alignmentgroup": "True",
         "hovertemplate": "Transaction Type=%{x}<br>Count=%{y}<extra></extra>",
         "legendgroup": "PAYMENT",
         "marker": {
          "color": "rgb(220, 176, 242)",
          "pattern": {
           "shape": ""
          }
         },
         "name": "PAYMENT",
         "offsetgroup": "PAYMENT",
         "orientation": "v",
         "showlegend": true,
         "textposition": "auto",
         "type": "bar",
         "x": [
          "PAYMENT"
         ],
         "xaxis": "x",
         "y": [
          2151495
         ],
         "yaxis": "y"
        },
        {
         "alignmentgroup": "True",
         "hovertemplate": "Transaction Type=%{x}<br>Count=%{y}<extra></extra>",
         "legendgroup": "DEBIT",
         "marker": {
          "color": "rgb(135, 197, 95)",
          "pattern": {
           "shape": ""
          }
         },
         "name": "DEBIT",
         "offsetgroup": "DEBIT",
         "orientation": "v",
         "showlegend": true,
         "textposition": "auto",
         "type": "bar",
         "x": [
          "DEBIT"
         ],
         "xaxis": "x",
         "y": [
          41432
         ],
         "yaxis": "y"
        }
       ],
       "layout": {
        "bargap": 0.1,
        "barmode": "relative",
        "font": {
         "color": "black",
         "family": "Arial",
         "size": 12
        },
        "legend": {
         "title": {
          "text": "Transaction Type"
         },
         "tracegroupgap": 0
        },
        "paper_bgcolor": "white",
        "plot_bgcolor": "white",
        "template": {
         "data": {
          "bar": [
           {
            "error_x": {
             "color": "#2a3f5f"
            },
            "error_y": {
             "color": "#2a3f5f"
            },
            "marker": {
             "line": {
              "color": "#E5ECF6",
              "width": 0.5
             },
             "pattern": {
              "fillmode": "overlay",
              "size": 10,
              "solidity": 0.2
             }
            },
            "type": "bar"
           }
          ],
          "barpolar": [
           {
            "marker": {
             "line": {
              "color": "#E5ECF6",
              "width": 0.5
             },
             "pattern": {
              "fillmode": "overlay",
              "size": 10,
              "solidity": 0.2
             }
            },
            "type": "barpolar"
           }
          ],
          "carpet": [
           {
            "aaxis": {
             "endlinecolor": "#2a3f5f",
             "gridcolor": "white",
             "linecolor": "white",
             "minorgridcolor": "white",
             "startlinecolor": "#2a3f5f"
            },
            "baxis": {
             "endlinecolor": "#2a3f5f",
             "gridcolor": "white",
             "linecolor": "white",
             "minorgridcolor": "white",
             "startlinecolor": "#2a3f5f"
            },
            "type": "carpet"
           }
          ],
          "choropleth": [
           {
            "colorbar": {
             "outlinewidth": 0,
             "ticks": ""
            },
            "type": "choropleth"
           }
          ],
          "contour": [
           {
            "colorbar": {
             "outlinewidth": 0,
             "ticks": ""
            },
            "colorscale": [
             [
              0,
              "#0d0887"
             ],
             [
              0.1111111111111111,
              "#46039f"
             ],
             [
              0.2222222222222222,
              "#7201a8"
             ],
             [
              0.3333333333333333,
              "#9c179e"
             ],
             [
              0.4444444444444444,
              "#bd3786"
             ],
             [
              0.5555555555555556,
              "#d8576b"
             ],
             [
              0.6666666666666666,
              "#ed7953"
             ],
             [
              0.7777777777777778,
              "#fb9f3a"
             ],
             [
              0.8888888888888888,
              "#fdca26"
             ],
             [
              1,
              "#f0f921"
             ]
            ],
            "type": "contour"
           }
          ],
          "contourcarpet": [
           {
            "colorbar": {
             "outlinewidth": 0,
             "ticks": ""
            },
            "type": "contourcarpet"
           }
          ],
          "heatmap": [
           {
            "colorbar": {
             "outlinewidth": 0,
             "ticks": ""
            },
            "colorscale": [
             [
              0,
              "#0d0887"
             ],
             [
              0.1111111111111111,
              "#46039f"
             ],
             [
              0.2222222222222222,
              "#7201a8"
             ],
             [
              0.3333333333333333,
              "#9c179e"
             ],
             [
              0.4444444444444444,
              "#bd3786"
             ],
             [
              0.5555555555555556,
              "#d8576b"
             ],
             [
              0.6666666666666666,
              "#ed7953"
             ],
             [
              0.7777777777777778,
              "#fb9f3a"
             ],
             [
              0.8888888888888888,
              "#fdca26"
             ],
             [
              1,
              "#f0f921"
             ]
            ],
            "type": "heatmap"
           }
          ],
          "heatmapgl": [
           {
            "colorbar": {
             "outlinewidth": 0,
             "ticks": ""
            },
            "colorscale": [
             [
              0,
              "#0d0887"
             ],
             [
              0.1111111111111111,
              "#46039f"
             ],
             [
              0.2222222222222222,
              "#7201a8"
             ],
             [
              0.3333333333333333,
              "#9c179e"
             ],
             [
              0.4444444444444444,
              "#bd3786"
             ],
             [
              0.5555555555555556,
              "#d8576b"
             ],
             [
              0.6666666666666666,
              "#ed7953"
             ],
             [
              0.7777777777777778,
              "#fb9f3a"
             ],
             [
              0.8888888888888888,
              "#fdca26"
             ],
             [
              1,
              "#f0f921"
             ]
            ],
            "type": "heatmapgl"
           }
          ],
          "histogram": [
           {
            "marker": {
             "pattern": {
              "fillmode": "overlay",
              "size": 10,
              "solidity": 0.2
             }
            },
            "type": "histogram"
           }
          ],
          "histogram2d": [
           {
            "colorbar": {
             "outlinewidth": 0,
             "ticks": ""
            },
            "colorscale": [
             [
              0,
              "#0d0887"
             ],
             [
              0.1111111111111111,
              "#46039f"
             ],
             [
              0.2222222222222222,
              "#7201a8"
             ],
             [
              0.3333333333333333,
              "#9c179e"
             ],
             [
              0.4444444444444444,
              "#bd3786"
             ],
             [
              0.5555555555555556,
              "#d8576b"
             ],
             [
              0.6666666666666666,
              "#ed7953"
             ],
             [
              0.7777777777777778,
              "#fb9f3a"
             ],
             [
              0.8888888888888888,
              "#fdca26"
             ],
             [
              1,
              "#f0f921"
             ]
            ],
            "type": "histogram2d"
           }
          ],
          "histogram2dcontour": [
           {
            "colorbar": {
             "outlinewidth": 0,
             "ticks": ""
            },
            "colorscale": [
             [
              0,
              "#0d0887"
             ],
             [
              0.1111111111111111,
              "#46039f"
             ],
             [
              0.2222222222222222,
              "#7201a8"
             ],
             [
              0.3333333333333333,
              "#9c179e"
             ],
             [
              0.4444444444444444,
              "#bd3786"
             ],
             [
              0.5555555555555556,
              "#d8576b"
             ],
             [
              0.6666666666666666,
              "#ed7953"
             ],
             [
              0.7777777777777778,
              "#fb9f3a"
             ],
             [
              0.8888888888888888,
              "#fdca26"
             ],
             [
              1,
              "#f0f921"
             ]
            ],
            "type": "histogram2dcontour"
           }
          ],
          "mesh3d": [
           {
            "colorbar": {
             "outlinewidth": 0,
             "ticks": ""
            },
            "type": "mesh3d"
           }
          ],
          "parcoords": [
           {
            "line": {
             "colorbar": {
              "outlinewidth": 0,
              "ticks": ""
             }
            },
            "type": "parcoords"
           }
          ],
          "pie": [
           {
            "automargin": true,
            "type": "pie"
           }
          ],
          "scatter": [
           {
            "fillpattern": {
             "fillmode": "overlay",
             "size": 10,
             "solidity": 0.2
            },
            "type": "scatter"
           }
          ],
          "scatter3d": [
           {
            "line": {
             "colorbar": {
              "outlinewidth": 0,
              "ticks": ""
             }
            },
            "marker": {
             "colorbar": {
              "outlinewidth": 0,
              "ticks": ""
             }
            },
            "type": "scatter3d"
           }
          ],
          "scattercarpet": [
           {
            "marker": {
             "colorbar": {
              "outlinewidth": 0,
              "ticks": ""
             }
            },
            "type": "scattercarpet"
           }
          ],
          "scattergeo": [
           {
            "marker": {
             "colorbar": {
              "outlinewidth": 0,
              "ticks": ""
             }
            },
            "type": "scattergeo"
           }
          ],
          "scattergl": [
           {
            "marker": {
             "colorbar": {
              "outlinewidth": 0,
              "ticks": ""
             }
            },
            "type": "scattergl"
           }
          ],
          "scattermapbox": [
           {
            "marker": {
             "colorbar": {
              "outlinewidth": 0,
              "ticks": ""
             }
            },
            "type": "scattermapbox"
           }
          ],
          "scatterpolar": [
           {
            "marker": {
             "colorbar": {
              "outlinewidth": 0,
              "ticks": ""
             }
            },
            "type": "scatterpolar"
           }
          ],
          "scatterpolargl": [
           {
            "marker": {
             "colorbar": {
              "outlinewidth": 0,
              "ticks": ""
             }
            },
            "type": "scatterpolargl"
           }
          ],
          "scatterternary": [
           {
            "marker": {
             "colorbar": {
              "outlinewidth": 0,
              "ticks": ""
             }
            },
            "type": "scatterternary"
           }
          ],
          "surface": [
           {
            "colorbar": {
             "outlinewidth": 0,
             "ticks": ""
            },
            "colorscale": [
             [
              0,
              "#0d0887"
             ],
             [
              0.1111111111111111,
              "#46039f"
             ],
             [
              0.2222222222222222,
              "#7201a8"
             ],
             [
              0.3333333333333333,
              "#9c179e"
             ],
             [
              0.4444444444444444,
              "#bd3786"
             ],
             [
              0.5555555555555556,
              "#d8576b"
             ],
             [
              0.6666666666666666,
              "#ed7953"
             ],
             [
              0.7777777777777778,
              "#fb9f3a"
             ],
             [
              0.8888888888888888,
              "#fdca26"
             ],
             [
              1,
              "#f0f921"
             ]
            ],
            "type": "surface"
           }
          ],
          "table": [
           {
            "cells": {
             "fill": {
              "color": "#EBF0F8"
             },
             "line": {
              "color": "white"
             }
            },
            "header": {
             "fill": {
              "color": "#C8D4E3"
             },
             "line": {
              "color": "white"
             }
            },
            "type": "table"
           }
          ]
         },
         "layout": {
          "annotationdefaults": {
           "arrowcolor": "#2a3f5f",
           "arrowhead": 0,
           "arrowwidth": 1
          },
          "autotypenumbers": "strict",
          "coloraxis": {
           "colorbar": {
            "outlinewidth": 0,
            "ticks": ""
           }
          },
          "colorscale": {
           "diverging": [
            [
             0,
             "#8e0152"
            ],
            [
             0.1,
             "#c51b7d"
            ],
            [
             0.2,
             "#de77ae"
            ],
            [
             0.3,
             "#f1b6da"
            ],
            [
             0.4,
             "#fde0ef"
            ],
            [
             0.5,
             "#f7f7f7"
            ],
            [
             0.6,
             "#e6f5d0"
            ],
            [
             0.7,
             "#b8e186"
            ],
            [
             0.8,
             "#7fbc41"
            ],
            [
             0.9,
             "#4d9221"
            ],
            [
             1,
             "#276419"
            ]
           ],
           "sequential": [
            [
             0,
             "#0d0887"
            ],
            [
             0.1111111111111111,
             "#46039f"
            ],
            [
             0.2222222222222222,
             "#7201a8"
            ],
            [
             0.3333333333333333,
             "#9c179e"
            ],
            [
             0.4444444444444444,
             "#bd3786"
            ],
            [
             0.5555555555555556,
             "#d8576b"
            ],
            [
             0.6666666666666666,
             "#ed7953"
            ],
            [
             0.7777777777777778,
             "#fb9f3a"
            ],
            [
             0.8888888888888888,
             "#fdca26"
            ],
            [
             1,
             "#f0f921"
            ]
           ],
           "sequentialminus": [
            [
             0,
             "#0d0887"
            ],
            [
             0.1111111111111111,
             "#46039f"
            ],
            [
             0.2222222222222222,
             "#7201a8"
            ],
            [
             0.3333333333333333,
             "#9c179e"
            ],
            [
             0.4444444444444444,
             "#bd3786"
            ],
            [
             0.5555555555555556,
             "#d8576b"
            ],
            [
             0.6666666666666666,
             "#ed7953"
            ],
            [
             0.7777777777777778,
             "#fb9f3a"
            ],
            [
             0.8888888888888888,
             "#fdca26"
            ],
            [
             1,
             "#f0f921"
            ]
           ]
          },
          "colorway": [
           "#636efa",
           "#EF553B",
           "#00cc96",
           "#ab63fa",
           "#FFA15A",
           "#19d3f3",
           "#FF6692",
           "#B6E880",
           "#FF97FF",
           "#FECB52"
          ],
          "font": {
           "color": "#2a3f5f"
          },
          "geo": {
           "bgcolor": "white",
           "lakecolor": "white",
           "landcolor": "#E5ECF6",
           "showlakes": true,
           "showland": true,
           "subunitcolor": "white"
          },
          "hoverlabel": {
           "align": "left"
          },
          "hovermode": "closest",
          "mapbox": {
           "style": "light"
          },
          "paper_bgcolor": "white",
          "plot_bgcolor": "#E5ECF6",
          "polar": {
           "angularaxis": {
            "gridcolor": "white",
            "linecolor": "white",
            "ticks": ""
           },
           "bgcolor": "#E5ECF6",
           "radialaxis": {
            "gridcolor": "white",
            "linecolor": "white",
            "ticks": ""
           }
          },
          "scene": {
           "xaxis": {
            "backgroundcolor": "#E5ECF6",
            "gridcolor": "white",
            "gridwidth": 2,
            "linecolor": "white",
            "showbackground": true,
            "ticks": "",
            "zerolinecolor": "white"
           },
           "yaxis": {
            "backgroundcolor": "#E5ECF6",
            "gridcolor": "white",
            "gridwidth": 2,
            "linecolor": "white",
            "showbackground": true,
            "ticks": "",
            "zerolinecolor": "white"
           },
           "zaxis": {
            "backgroundcolor": "#E5ECF6",
            "gridcolor": "white",
            "gridwidth": 2,
            "linecolor": "white",
            "showbackground": true,
            "ticks": "",
            "zerolinecolor": "white"
           }
          },
          "shapedefaults": {
           "line": {
            "color": "#2a3f5f"
           }
          },
          "ternary": {
           "aaxis": {
            "gridcolor": "white",
            "linecolor": "white",
            "ticks": ""
           },
           "baxis": {
            "gridcolor": "white",
            "linecolor": "white",
            "ticks": ""
           },
           "bgcolor": "#E5ECF6",
           "caxis": {
            "gridcolor": "white",
            "linecolor": "white",
            "ticks": ""
           }
          },
          "title": {
           "x": 0.05
          },
          "xaxis": {
           "automargin": true,
           "gridcolor": "white",
           "linecolor": "white",
           "ticks": "",
           "title": {
            "standoff": 15
           },
           "zerolinecolor": "white",
           "zerolinewidth": 2
          },
          "yaxis": {
           "automargin": true,
           "gridcolor": "white",
           "linecolor": "white",
           "ticks": "",
           "title": {
            "standoff": 15
           },
           "zerolinecolor": "white",
           "zerolinewidth": 2
          }
         }
        },
        "title": {
         "text": "Distribution of Transaction Types"
        },
        "xaxis": {
         "anchor": "y",
         "categoryarray": [
          "TRANSFER",
          "CASH_IN",
          "CASH_OUT",
          "PAYMENT",
          "DEBIT"
         ],
         "categoryorder": "array",
         "domain": [
          0,
          1
         ],
         "title": {
          "text": "Transaction Type"
         }
        },
        "yaxis": {
         "anchor": "x",
         "domain": [
          0,
          1
         ],
         "title": {
          "text": "Count"
         }
        }
       }
      }
     },
     "metadata": {},
     "output_type": "display_data"
    }
   ],
   "source": [
    "pandas_df = df.groupBy(\"type\").count().toPandas()\n",
    "\n",
    "fig = px.bar(\n",
    "       pandas_df,\n",
    "       x=\"type\",  # X-axis: Transaction types\n",
    "       y=\"count\",  # Y-axis: Transaction counts\n",
    "       title=\"Distribution of Transaction Types\",  # Chart title\n",
    "       labels={\"type\": \"Transaction Type\", \"count\": \"Count\"},  # Axis labels\n",
    "       color=\"type\",  # Color bars by transaction type\n",
    "       color_discrete_sequence=px.colors.qualitative.Pastel,  # Use a stylish color palette\n",
    "   )\n",
    "\n",
    "   # Customize the chart appearance\n",
    "fig.update_layout(\n",
    "       xaxis_title=\"Transaction Type\",  # X-axis title\n",
    "       yaxis_title=\"Count\",  # Y-axis title\n",
    "       font=dict(family=\"Arial\", size=12, color=\"black\"),  # Font settings\n",
    "       plot_bgcolor=\"white\",  # Background color\n",
    "       paper_bgcolor=\"white\",  # Paper color\n",
    "       bargap=0.1,  # Spacing between bars\n",
    "   )\n",
    "\n",
    "fig.show()"
   ]
  },
  {
   "cell_type": "markdown",
   "id": "fc76c0f3",
   "metadata": {},
   "source": [
    ">**Indicateur 1 :** Transaction la plus courante \n",
    "Il s'agit de la transaction \"CASH_OUT\" qui représente 35.17% de l'ensemble.\n",
    "\n",
    ">**Indicateur 2 :** Transaction la moins courante \n",
    "Il s'agit de la transaction \"DEBIT\" qui représente 0.65% de l'ensemble.\n",
    "\n",
    ">**Commentaire** : Ainsi, sur 3 transactions, en moyenne une est un retrait, une est un payement et l'autre est soit un dépôt, soit un tranfert, soit un débit.   "
   ]
  },
  {
   "cell_type": "markdown",
   "id": "e3665046",
   "metadata": {},
   "source": [
    " ### <font id = '2.1.2' color=\"#0d94cd\">2.1.2. Survenue de fraudes </font>"
   ]
  },
  {
   "cell_type": "code",
   "execution_count": 19,
   "id": "KoOkAKbNRqZo",
   "metadata": {
    "colab": {
     "base_uri": "https://localhost:8080/"
    },
    "executionInfo": {
     "elapsed": 9507,
     "status": "ok",
     "timestamp": 1739820298988,
     "user": {
      "displayName": "Hadja Hadidja",
      "userId": "13124269598925753814"
     },
     "user_tz": -60
    },
    "id": "KoOkAKbNRqZo",
    "outputId": "6f6e53d3-4093-4eb8-8ef6-e176578524d1"
   },
   "outputs": [
    {
     "name": "stdout",
     "output_type": "stream",
     "text": [
      "+-------+-------+-------------------+\n",
      "|isFraud|  count|          fréquence|\n",
      "+-------+-------+-------------------+\n",
      "|      1|   8213|0.12908204481801522|\n",
      "|      0|6354407|  99.87091795518198|\n",
      "+-------+-------+-------------------+\n",
      "\n"
     ]
    }
   ],
   "source": [
    "total_count = df.count()\n",
    "frequencies1 = df.groupBy(\"isFraud\").count().withColumn(\"fréquence\", 100*F.col(\"count\") / total_count)\n",
    "\n",
    "frequencies1.show()\n"
   ]
  },
  {
   "cell_type": "code",
   "execution_count": 20,
   "id": "aea3e65e",
   "metadata": {},
   "outputs": [
    {
     "data": {
      "application/vnd.plotly.v1+json": {
       "config": {
        "plotlyServerURL": "https://plot.ly"
       },
       "data": [
        {
         "domain": {
          "x": [
           0,
           1
          ],
          "y": [
           0,
           1
          ]
         },
         "hole": 0.3,
         "hovertemplate": "isFraud=%{label}<br>count=%{value}<extra></extra>",
         "labels": [
          1,
          0
         ],
         "legendgroup": "",
         "marker": {
          "line": {
           "color": "#000000",
           "width": 2
          }
         },
         "name": "",
         "showlegend": true,
         "textinfo": "percent+label",
         "textposition": "inside",
         "type": "pie",
         "values": [
          8213,
          6354407
         ]
        }
       ],
       "layout": {
        "font": {
         "color": "black",
         "family": "Arial",
         "size": 12
        },
        "legend": {
         "title": {
          "text": "Transaction Type"
         },
         "tracegroupgap": 0,
         "x": 0.8,
         "y": 0.9
        },
        "piecolorway": [
         "rgb(102, 197, 204)",
         "rgb(246, 207, 113)",
         "rgb(248, 156, 116)",
         "rgb(220, 176, 242)",
         "rgb(135, 197, 95)",
         "rgb(158, 185, 243)",
         "rgb(254, 136, 177)",
         "rgb(201, 219, 116)",
         "rgb(139, 224, 164)",
         "rgb(180, 151, 231)",
         "rgb(179, 179, 179)"
        ],
        "template": {
         "data": {
          "bar": [
           {
            "error_x": {
             "color": "#2a3f5f"
            },
            "error_y": {
             "color": "#2a3f5f"
            },
            "marker": {
             "line": {
              "color": "#E5ECF6",
              "width": 0.5
             },
             "pattern": {
              "fillmode": "overlay",
              "size": 10,
              "solidity": 0.2
             }
            },
            "type": "bar"
           }
          ],
          "barpolar": [
           {
            "marker": {
             "line": {
              "color": "#E5ECF6",
              "width": 0.5
             },
             "pattern": {
              "fillmode": "overlay",
              "size": 10,
              "solidity": 0.2
             }
            },
            "type": "barpolar"
           }
          ],
          "carpet": [
           {
            "aaxis": {
             "endlinecolor": "#2a3f5f",
             "gridcolor": "white",
             "linecolor": "white",
             "minorgridcolor": "white",
             "startlinecolor": "#2a3f5f"
            },
            "baxis": {
             "endlinecolor": "#2a3f5f",
             "gridcolor": "white",
             "linecolor": "white",
             "minorgridcolor": "white",
             "startlinecolor": "#2a3f5f"
            },
            "type": "carpet"
           }
          ],
          "choropleth": [
           {
            "colorbar": {
             "outlinewidth": 0,
             "ticks": ""
            },
            "type": "choropleth"
           }
          ],
          "contour": [
           {
            "colorbar": {
             "outlinewidth": 0,
             "ticks": ""
            },
            "colorscale": [
             [
              0,
              "#0d0887"
             ],
             [
              0.1111111111111111,
              "#46039f"
             ],
             [
              0.2222222222222222,
              "#7201a8"
             ],
             [
              0.3333333333333333,
              "#9c179e"
             ],
             [
              0.4444444444444444,
              "#bd3786"
             ],
             [
              0.5555555555555556,
              "#d8576b"
             ],
             [
              0.6666666666666666,
              "#ed7953"
             ],
             [
              0.7777777777777778,
              "#fb9f3a"
             ],
             [
              0.8888888888888888,
              "#fdca26"
             ],
             [
              1,
              "#f0f921"
             ]
            ],
            "type": "contour"
           }
          ],
          "contourcarpet": [
           {
            "colorbar": {
             "outlinewidth": 0,
             "ticks": ""
            },
            "type": "contourcarpet"
           }
          ],
          "heatmap": [
           {
            "colorbar": {
             "outlinewidth": 0,
             "ticks": ""
            },
            "colorscale": [
             [
              0,
              "#0d0887"
             ],
             [
              0.1111111111111111,
              "#46039f"
             ],
             [
              0.2222222222222222,
              "#7201a8"
             ],
             [
              0.3333333333333333,
              "#9c179e"
             ],
             [
              0.4444444444444444,
              "#bd3786"
             ],
             [
              0.5555555555555556,
              "#d8576b"
             ],
             [
              0.6666666666666666,
              "#ed7953"
             ],
             [
              0.7777777777777778,
              "#fb9f3a"
             ],
             [
              0.8888888888888888,
              "#fdca26"
             ],
             [
              1,
              "#f0f921"
             ]
            ],
            "type": "heatmap"
           }
          ],
          "heatmapgl": [
           {
            "colorbar": {
             "outlinewidth": 0,
             "ticks": ""
            },
            "colorscale": [
             [
              0,
              "#0d0887"
             ],
             [
              0.1111111111111111,
              "#46039f"
             ],
             [
              0.2222222222222222,
              "#7201a8"
             ],
             [
              0.3333333333333333,
              "#9c179e"
             ],
             [
              0.4444444444444444,
              "#bd3786"
             ],
             [
              0.5555555555555556,
              "#d8576b"
             ],
             [
              0.6666666666666666,
              "#ed7953"
             ],
             [
              0.7777777777777778,
              "#fb9f3a"
             ],
             [
              0.8888888888888888,
              "#fdca26"
             ],
             [
              1,
              "#f0f921"
             ]
            ],
            "type": "heatmapgl"
           }
          ],
          "histogram": [
           {
            "marker": {
             "pattern": {
              "fillmode": "overlay",
              "size": 10,
              "solidity": 0.2
             }
            },
            "type": "histogram"
           }
          ],
          "histogram2d": [
           {
            "colorbar": {
             "outlinewidth": 0,
             "ticks": ""
            },
            "colorscale": [
             [
              0,
              "#0d0887"
             ],
             [
              0.1111111111111111,
              "#46039f"
             ],
             [
              0.2222222222222222,
              "#7201a8"
             ],
             [
              0.3333333333333333,
              "#9c179e"
             ],
             [
              0.4444444444444444,
              "#bd3786"
             ],
             [
              0.5555555555555556,
              "#d8576b"
             ],
             [
              0.6666666666666666,
              "#ed7953"
             ],
             [
              0.7777777777777778,
              "#fb9f3a"
             ],
             [
              0.8888888888888888,
              "#fdca26"
             ],
             [
              1,
              "#f0f921"
             ]
            ],
            "type": "histogram2d"
           }
          ],
          "histogram2dcontour": [
           {
            "colorbar": {
             "outlinewidth": 0,
             "ticks": ""
            },
            "colorscale": [
             [
              0,
              "#0d0887"
             ],
             [
              0.1111111111111111,
              "#46039f"
             ],
             [
              0.2222222222222222,
              "#7201a8"
             ],
             [
              0.3333333333333333,
              "#9c179e"
             ],
             [
              0.4444444444444444,
              "#bd3786"
             ],
             [
              0.5555555555555556,
              "#d8576b"
             ],
             [
              0.6666666666666666,
              "#ed7953"
             ],
             [
              0.7777777777777778,
              "#fb9f3a"
             ],
             [
              0.8888888888888888,
              "#fdca26"
             ],
             [
              1,
              "#f0f921"
             ]
            ],
            "type": "histogram2dcontour"
           }
          ],
          "mesh3d": [
           {
            "colorbar": {
             "outlinewidth": 0,
             "ticks": ""
            },
            "type": "mesh3d"
           }
          ],
          "parcoords": [
           {
            "line": {
             "colorbar": {
              "outlinewidth": 0,
              "ticks": ""
             }
            },
            "type": "parcoords"
           }
          ],
          "pie": [
           {
            "automargin": true,
            "type": "pie"
           }
          ],
          "scatter": [
           {
            "fillpattern": {
             "fillmode": "overlay",
             "size": 10,
             "solidity": 0.2
            },
            "type": "scatter"
           }
          ],
          "scatter3d": [
           {
            "line": {
             "colorbar": {
              "outlinewidth": 0,
              "ticks": ""
             }
            },
            "marker": {
             "colorbar": {
              "outlinewidth": 0,
              "ticks": ""
             }
            },
            "type": "scatter3d"
           }
          ],
          "scattercarpet": [
           {
            "marker": {
             "colorbar": {
              "outlinewidth": 0,
              "ticks": ""
             }
            },
            "type": "scattercarpet"
           }
          ],
          "scattergeo": [
           {
            "marker": {
             "colorbar": {
              "outlinewidth": 0,
              "ticks": ""
             }
            },
            "type": "scattergeo"
           }
          ],
          "scattergl": [
           {
            "marker": {
             "colorbar": {
              "outlinewidth": 0,
              "ticks": ""
             }
            },
            "type": "scattergl"
           }
          ],
          "scattermapbox": [
           {
            "marker": {
             "colorbar": {
              "outlinewidth": 0,
              "ticks": ""
             }
            },
            "type": "scattermapbox"
           }
          ],
          "scatterpolar": [
           {
            "marker": {
             "colorbar": {
              "outlinewidth": 0,
              "ticks": ""
             }
            },
            "type": "scatterpolar"
           }
          ],
          "scatterpolargl": [
           {
            "marker": {
             "colorbar": {
              "outlinewidth": 0,
              "ticks": ""
             }
            },
            "type": "scatterpolargl"
           }
          ],
          "scatterternary": [
           {
            "marker": {
             "colorbar": {
              "outlinewidth": 0,
              "ticks": ""
             }
            },
            "type": "scatterternary"
           }
          ],
          "surface": [
           {
            "colorbar": {
             "outlinewidth": 0,
             "ticks": ""
            },
            "colorscale": [
             [
              0,
              "#0d0887"
             ],
             [
              0.1111111111111111,
              "#46039f"
             ],
             [
              0.2222222222222222,
              "#7201a8"
             ],
             [
              0.3333333333333333,
              "#9c179e"
             ],
             [
              0.4444444444444444,
              "#bd3786"
             ],
             [
              0.5555555555555556,
              "#d8576b"
             ],
             [
              0.6666666666666666,
              "#ed7953"
             ],
             [
              0.7777777777777778,
              "#fb9f3a"
             ],
             [
              0.8888888888888888,
              "#fdca26"
             ],
             [
              1,
              "#f0f921"
             ]
            ],
            "type": "surface"
           }
          ],
          "table": [
           {
            "cells": {
             "fill": {
              "color": "#EBF0F8"
             },
             "line": {
              "color": "white"
             }
            },
            "header": {
             "fill": {
              "color": "#C8D4E3"
             },
             "line": {
              "color": "white"
             }
            },
            "type": "table"
           }
          ]
         },
         "layout": {
          "annotationdefaults": {
           "arrowcolor": "#2a3f5f",
           "arrowhead": 0,
           "arrowwidth": 1
          },
          "autotypenumbers": "strict",
          "coloraxis": {
           "colorbar": {
            "outlinewidth": 0,
            "ticks": ""
           }
          },
          "colorscale": {
           "diverging": [
            [
             0,
             "#8e0152"
            ],
            [
             0.1,
             "#c51b7d"
            ],
            [
             0.2,
             "#de77ae"
            ],
            [
             0.3,
             "#f1b6da"
            ],
            [
             0.4,
             "#fde0ef"
            ],
            [
             0.5,
             "#f7f7f7"
            ],
            [
             0.6,
             "#e6f5d0"
            ],
            [
             0.7,
             "#b8e186"
            ],
            [
             0.8,
             "#7fbc41"
            ],
            [
             0.9,
             "#4d9221"
            ],
            [
             1,
             "#276419"
            ]
           ],
           "sequential": [
            [
             0,
             "#0d0887"
            ],
            [
             0.1111111111111111,
             "#46039f"
            ],
            [
             0.2222222222222222,
             "#7201a8"
            ],
            [
             0.3333333333333333,
             "#9c179e"
            ],
            [
             0.4444444444444444,
             "#bd3786"
            ],
            [
             0.5555555555555556,
             "#d8576b"
            ],
            [
             0.6666666666666666,
             "#ed7953"
            ],
            [
             0.7777777777777778,
             "#fb9f3a"
            ],
            [
             0.8888888888888888,
             "#fdca26"
            ],
            [
             1,
             "#f0f921"
            ]
           ],
           "sequentialminus": [
            [
             0,
             "#0d0887"
            ],
            [
             0.1111111111111111,
             "#46039f"
            ],
            [
             0.2222222222222222,
             "#7201a8"
            ],
            [
             0.3333333333333333,
             "#9c179e"
            ],
            [
             0.4444444444444444,
             "#bd3786"
            ],
            [
             0.5555555555555556,
             "#d8576b"
            ],
            [
             0.6666666666666666,
             "#ed7953"
            ],
            [
             0.7777777777777778,
             "#fb9f3a"
            ],
            [
             0.8888888888888888,
             "#fdca26"
            ],
            [
             1,
             "#f0f921"
            ]
           ]
          },
          "colorway": [
           "#636efa",
           "#EF553B",
           "#00cc96",
           "#ab63fa",
           "#FFA15A",
           "#19d3f3",
           "#FF6692",
           "#B6E880",
           "#FF97FF",
           "#FECB52"
          ],
          "font": {
           "color": "#2a3f5f"
          },
          "geo": {
           "bgcolor": "white",
           "lakecolor": "white",
           "landcolor": "#E5ECF6",
           "showlakes": true,
           "showland": true,
           "subunitcolor": "white"
          },
          "hoverlabel": {
           "align": "left"
          },
          "hovermode": "closest",
          "mapbox": {
           "style": "light"
          },
          "paper_bgcolor": "white",
          "plot_bgcolor": "#E5ECF6",
          "polar": {
           "angularaxis": {
            "gridcolor": "white",
            "linecolor": "white",
            "ticks": ""
           },
           "bgcolor": "#E5ECF6",
           "radialaxis": {
            "gridcolor": "white",
            "linecolor": "white",
            "ticks": ""
           }
          },
          "scene": {
           "xaxis": {
            "backgroundcolor": "#E5ECF6",
            "gridcolor": "white",
            "gridwidth": 2,
            "linecolor": "white",
            "showbackground": true,
            "ticks": "",
            "zerolinecolor": "white"
           },
           "yaxis": {
            "backgroundcolor": "#E5ECF6",
            "gridcolor": "white",
            "gridwidth": 2,
            "linecolor": "white",
            "showbackground": true,
            "ticks": "",
            "zerolinecolor": "white"
           },
           "zaxis": {
            "backgroundcolor": "#E5ECF6",
            "gridcolor": "white",
            "gridwidth": 2,
            "linecolor": "white",
            "showbackground": true,
            "ticks": "",
            "zerolinecolor": "white"
           }
          },
          "shapedefaults": {
           "line": {
            "color": "#2a3f5f"
           }
          },
          "ternary": {
           "aaxis": {
            "gridcolor": "white",
            "linecolor": "white",
            "ticks": ""
           },
           "baxis": {
            "gridcolor": "white",
            "linecolor": "white",
            "ticks": ""
           },
           "bgcolor": "#E5ECF6",
           "caxis": {
            "gridcolor": "white",
            "linecolor": "white",
            "ticks": ""
           }
          },
          "title": {
           "x": 0.05
          },
          "xaxis": {
           "automargin": true,
           "gridcolor": "white",
           "linecolor": "white",
           "ticks": "",
           "title": {
            "standoff": 15
           },
           "zerolinecolor": "white",
           "zerolinewidth": 2
          },
          "yaxis": {
           "automargin": true,
           "gridcolor": "white",
           "linecolor": "white",
           "ticks": "",
           "title": {
            "standoff": 15
           },
           "zerolinecolor": "white",
           "zerolinewidth": 2
          }
         }
        },
        "title": {
         "text": "Distribution of Fraudulent Transactions"
        }
       }
      }
     },
     "metadata": {},
     "output_type": "display_data"
    }
   ],
   "source": [
    "pandas_df = df.groupBy(\"isFraud\").count().toPandas()\n",
    "fig = px.pie(\n",
    "       pandas_df,\n",
    "       values='count',\n",
    "       names='isFraud',\n",
    "       title='Distribution of Fraudulent Transactions',\n",
    "       color_discrete_sequence=px.colors.qualitative.Pastel,  # Customize colors\n",
    "       hole=0.3  # Add a hole in the center for a donut chart effect\n",
    "   )\n",
    "\n",
    "fig.update_traces(\n",
    "       textposition='inside',  # Show labels inside the slices\n",
    "       textinfo='percent+label',  # Display percentage and label\n",
    "       marker=dict(line=dict(color='#000000', width=2))  # Add black borders to slices\n",
    "   )\n",
    "\n",
    "fig.update_layout(\n",
    "       font=dict(family=\"Arial\", size=12, color=\"black\"),  # Customize font\n",
    "       legend_title=\"Transaction Type\",  # Customize legend title\n",
    "       legend=dict(x=0.8, y=0.9)  # Position the legend\n",
    "   )\n",
    "\n",
    "   # Display the chart\n",
    "fig.show()"
   ]
  },
  {
   "cell_type": "markdown",
   "id": "61e82776",
   "metadata": {},
   "source": [
    ">**Indicateur 3 :** Nombre et proportion de fraudes \n",
    "Sur la période étudiée il y a eu 8213 fraudes soit 0.13% du nombre total de transactions.\n",
    "\n",
    ">**Commentaire** : Ainsi, il n'existe qu'une proportion apparemment infime de fraudes (0.13%), mais le nombre de transactions étant élevé cela revient à **8213** fraudes ce qui est assez important à l'échelle d'une institution financière comme une banque."
   ]
  },
  {
   "cell_type": "markdown",
   "id": "b964acbd",
   "metadata": {},
   "source": [
    " ### <font id = '2.1.3' color=\"#0d94cd\">2.1.3. Transactions soupçonnées de fraudes </font>\n",
    " #"
   ]
  },
  {
   "cell_type": "code",
   "execution_count": 21,
   "id": "MpfbCCgoRww7",
   "metadata": {
    "colab": {
     "base_uri": "https://localhost:8080/"
    },
    "executionInfo": {
     "elapsed": 7460,
     "status": "ok",
     "timestamp": 1739820306442,
     "user": {
      "displayName": "Hadja Hadidja",
      "userId": "13124269598925753814"
     },
     "user_tz": -60
    },
    "id": "MpfbCCgoRww7",
    "outputId": "df5c350a-64a8-4632-dd52-b53dc7feea0d"
   },
   "outputs": [
    {
     "name": "stdout",
     "output_type": "stream",
     "text": [
      "+--------------+-------+--------------------+\n",
      "|isFlaggedFraud|  count|           fréquence|\n",
      "+--------------+-------+--------------------+\n",
      "|             0|6362604|   99.99974853126542|\n",
      "|             1|     16|2.514687345778940...|\n",
      "+--------------+-------+--------------------+\n",
      "\n"
     ]
    }
   ],
   "source": [
    "total_count = df.count()\n",
    "frequencies1 = df.groupBy(\"isFlaggedFraud\").count().withColumn(\"fréquence\", 100*F.col(\"count\") / total_count)\n",
    "frequencies1.show()"
   ]
  },
  {
   "cell_type": "markdown",
   "id": "0ca5aad8",
   "metadata": {},
   "source": [
    ">**Indicateur 4** : Nombre de transactions soupçonnées frauduleuses \n",
    "Il vaut 16.\n",
    "\n",
    ">**Commentaire** : Seulement 16 transactions sont soupçonnées frauduleuses parmi les 6362604, ce qui représente une faible proportion de l'ensemble des transactions. "
   ]
  },
  {
   "cell_type": "code",
   "execution_count": 22,
   "id": "_XZ0qMG9p828",
   "metadata": {
    "colab": {
     "base_uri": "https://localhost:8080/"
    },
    "executionInfo": {
     "elapsed": 7,
     "status": "ok",
     "timestamp": 1739820306442,
     "user": {
      "displayName": "Hadja Hadidja",
      "userId": "13124269598925753814"
     },
     "user_tz": -60
    },
    "id": "_XZ0qMG9p828",
    "outputId": "2466c0d8-e1f7-49a9-af05-cafdb4d9808a"
   },
   "outputs": [
    {
     "data": {
      "text/plain": [
       "DataFrame[step: int, type: string, amount: double, nameOrig: string, oldbalanceOrg: double, newbalanceOrig: double, nameDest: string, oldbalanceDest: double, newbalanceDest: double, isFraud: int, isFlaggedFraud: int]"
      ]
     },
     "execution_count": 22,
     "metadata": {},
     "output_type": "execute_result"
    }
   ],
   "source": [
    "df.cache()"
   ]
  },
  {
   "cell_type": "markdown",
   "id": "N1KuB8kwSKLM",
   "metadata": {
    "id": "N1KuB8kwSKLM"
   },
   "source": [
    "## <font id = '2.2' color=\"#0d94cd\">2.2. Description des variables quantitatives </font>"
   ]
  },
  {
   "cell_type": "markdown",
   "id": "e7e97faa",
   "metadata": {},
   "source": [
    "### <font id = '2.2' color=\"#0d94cd\"> 2.2.1. Tableau récapitulatif des statistiques descriptives </font>"
   ]
  },
  {
   "cell_type": "code",
   "execution_count": 23,
   "id": "RN2pKANdN13U",
   "metadata": {
    "colab": {
     "base_uri": "https://localhost:8080/"
    },
    "executionInfo": {
     "elapsed": 37225,
     "status": "ok",
     "timestamp": 1739820343664,
     "user": {
      "displayName": "Hadja Hadidja",
      "userId": "13124269598925753814"
     },
     "user_tz": -60
    },
    "id": "RN2pKANdN13U",
    "outputId": "669011c6-f83c-40a1-fa14-a298a1d3c415"
   },
   "outputs": [
    {
     "name": "stdout",
     "output_type": "stream",
     "text": [
      "+-------+------------------+-----------------+-----------------+------------------+------------------+\n",
      "|summary|            amount|    oldbalanceOrg|   newbalanceOrig|    oldbalanceDest|    newbalanceDest|\n",
      "+-------+------------------+-----------------+-----------------+------------------+------------------+\n",
      "|  count|           6362620|          6362620|          6362620|           6362620|           6362620|\n",
      "|   mean|179861.90354913412|833883.1040744719|855113.6685785714|1100701.6665196654|1224996.3982019408|\n",
      "| stddev| 603858.2314629498|2888242.673037545|2924048.502954253|3399180.1129944855|3674128.9421195714|\n",
      "|    min|               0.0|              0.0|              0.0|               0.0|               0.0|\n",
      "|    max|     9.244551664E7|    5.958504037E7|    4.958504037E7|    3.5601588935E8|    3.5617927892E8|\n",
      "+-------+------------------+-----------------+-----------------+------------------+------------------+\n",
      "\n"
     ]
    }
   ],
   "source": [
    "# Obtenir les statistiques descriptives\n",
    "description = df.select('amount', 'oldbalanceOrg', 'newbalanceOrig', 'oldbalanceDest','newbalanceDest').describe()\n",
    "\n",
    "# Afficher les statistiques descriptives \n",
    "description.show()"
   ]
  },
  {
   "cell_type": "markdown",
   "id": "7Dk6a5nsWmbu",
   "metadata": {
    "id": "7Dk6a5nsWmbu"
   },
   "source": [
    ">**Indicateur 5** : Montant moyen des transactions \n",
    "\n",
    ">**Indicateur 6** : Montant minimal des transactions \n",
    "\n",
    ">**Indicateur 7** : Montant maximal des transactions \n",
    "\n",
    ">**Indicateur 8** : Soldes moyens des clients à l'origine de transactions avant et après les transactions \n",
    "\n",
    ">**Indicateur 9** : Solde moyen des clients destinataires de transactions avant et après les transactions"
   ]
  },
  {
   "cell_type": "code",
   "execution_count": 24,
   "id": "1ecfe6f5",
   "metadata": {},
   "outputs": [
    {
     "name": "stdout",
     "output_type": "stream",
     "text": [
      "+--------------------+--------------------+--------------------+--------------------+--------------------+\n",
      "|        total_amount| total_oldbalanceOrg|total_newbalanceOrig|total_oldbalanceDest|total_newbalanceDest|\n",
      "+--------------------+--------------------+--------------------+--------------------+--------------------+\n",
      "|1.144392944759791...|5.305681315646316E12| 5.44076332997139E12|7.003346437431354E12|7.794186583127633E12|\n",
      "+--------------------+--------------------+--------------------+--------------------+--------------------+\n",
      "\n"
     ]
    }
   ],
   "source": [
    "# Calcul des sommes des variables \n",
    "from pyspark.sql.functions import sum\n",
    "\n",
    "sums = df.select(\n",
    "    sum('amount').alias('total_amount'),\n",
    "    sum('oldbalanceOrg').alias('total_oldbalanceOrg'),\n",
    "    sum('newbalanceOrig').alias('total_newbalanceOrig'),\n",
    "    sum('oldbalanceDest').alias('total_oldbalanceDest'),\n",
    "    sum('newbalanceDest').alias('total_newbalanceDest'),\n",
    ")\n",
    "sums.show()"
   ]
  },
  {
   "cell_type": "markdown",
   "id": "68499311",
   "metadata": {},
   "source": [
    "### <font id = '2.2.2' color=\"#0d94cd\"> 2.2.2. Sommes et totaux des variables quantitatives </font>"
   ]
  },
  {
   "cell_type": "markdown",
   "id": "3c0cc005",
   "metadata": {},
   "source": [
    ">**Indicateur 10** : Montant total des transactions \n",
    "\n",
    ">**Indicateur 11** : Somme des soldes des clients à l'origine de transactions avant et après les transactions \n",
    "\n",
    ">**Indicateur 11** : Somme des soldes des clients destinataires de transactions avant et après les transactions "
   ]
  },
  {
   "cell_type": "markdown",
   "id": "cefd3372",
   "metadata": {},
   "source": [
    "### <font id = '2.2.3' color=\"#0d94cd\"> 2.2.3. Sommes et totaux des variables quantitatives </font>"
   ]
  },
  {
   "cell_type": "code",
   "execution_count": 45,
   "id": "fZg0G3BkSabh",
   "metadata": {
    "colab": {
     "base_uri": "https://localhost:8080/",
     "height": 1000
    },
    "executionInfo": {
     "elapsed": 336749,
     "status": "ok",
     "timestamp": 1739820680410,
     "user": {
      "displayName": "Hadja Hadidja",
      "userId": "13124269598925753814"
     },
     "user_tz": -60
    },
    "id": "fZg0G3BkSabh",
    "outputId": "9e79ae15-b069-4cfe-ef87-282ffa592171"
   },
   "outputs": [
    {
     "data": {
      "image/png": "[encoded data removed]",
      "text/plain": [
       "<Figure size 720x432 with 1 Axes>"
      ]
     },
     "metadata": {
      "needs_background": "light"
     },
     "output_type": "display_data"
    },
    {
     "data": {
      "image/png": "[encoded data removed]",
      "text/plain": [
       "<Figure size 720x432 with 1 Axes>"
      ]
     },
     "metadata": {
      "needs_background": "light"
     },
     "output_type": "display_data"
    },
    {
     "data": {
      "image/png": "[encoded data removed]",
      "text/plain": [
       "<Figure size 720x432 with 1 Axes>"
      ]
     },
     "metadata": {
      "needs_background": "light"
     },
     "output_type": "display_data"
    },
    {
     "data": {
      "image/png": "[encoded data removed]",
      "text/plain": [
       "<Figure size 720x432 with 1 Axes>"
      ]
     },
     "metadata": {
      "needs_background": "light"
     },
     "output_type": "display_data"
    },
    {
     "data": {
      "image/png": "[encoded data removed]",
      "text/plain": [
       "<Figure size 720x432 with 1 Axes>"
      ]
     },
     "metadata": {
      "needs_background": "light"
     },
     "output_type": "display_data"
    }
   ],
   "source": [
    "from pyspark.sql.functions import floor, col\n",
    "# Liste des colonnes à traiter\n",
    "columns_to_bin = [\"amount\", \"oldbalanceOrg\", \"newbalanceOrig\", \"oldbalanceDest\", \"newbalanceDest\"]\n",
    "\n",
    "# Nombre d'intervalles (bins)\n",
    "num_bins = 20  # Ajustez ce nombre selon vos besoins\n",
    "\n",
    "for col_name in columns_to_bin:\n",
    "    # 1. Déterminer les valeurs min et max pour chaque colonne\n",
    "    min_val = df.selectExpr(f\"min({col_name})\").first()[0]\n",
    "    max_val = df.selectExpr(f\"max({col_name})\").first()[0]\n",
    "\n",
    "    # 2. Calculer la largeur de chaque intervalle\n",
    "    bin_width = (max_val - min_val) / num_bins\n",
    "\n",
    "    # 3. Créer une nouvelle colonne avec les valeurs regroupées par intervalles (binning)\n",
    "    binned_col_name = f\"{col_name}_binned\"\n",
    "    df = df.withColumn(binned_col_name, floor((col(col_name) - min_val) / bin_width))\n",
    "\n",
    "    # 4. Convertir la colonne regroupée en intervalles en DataFrame Pandas pour la visualisation\n",
    "    pandas_df = df.select(binned_col_name).toPandas()\n",
    "\n",
    "    # 5. Tracer l'histogramme à l'aide de Seaborn\n",
    "    plt.figure(figsize=(10, 6))  # Ajuster la taille de la figure\n",
    "    sns.histplot(pandas_df[binned_col_name], kde=False) # kde=False pour un histogramme simple\n",
    "    plt.title(f\"Histogramme de {col_name} (Regroupé par intervalles)\")\n",
    "    plt.xlabel(\"Intervalle\")\n",
    "    plt.ylabel(\"Fréquence\")\n",
    "    plt.show()\n"
   ]
  },
  {
   "cell_type": "markdown",
   "id": "d9e3480d",
   "metadata": {},
   "source": [
    "# <div  id='III' style=\"padding:20px;color:white;margin:0;font-size:35px;font-family:Verdana;text-align:center;display:fill;border-radius:5px;background-color:lightskyblue;overflow:hidden\"><b> III. ANALYSE DES PRINCIPAUX INDICATEURS </b></div>"
   ]
  },
  {
   "cell_type": "markdown",
   "id": "d9de125a",
   "metadata": {},
   "source": [
    "<a href='#top' style='text-decoration:none; font-family: cursive; color=white;'>Table des matières^</a><br>"
   ]
  },
  {
   "cell_type": "markdown",
   "id": "d4f6abfe",
   "metadata": {},
   "source": [
    "## <font id = '3.1' color=\"#0d94cd\">3.1. Analyse des clients  </font>"
   ]
  },
  {
   "cell_type": "markdown",
   "id": "8b84b0de",
   "metadata": {},
   "source": [
    "### <font color=\"#0d94cd\">Indicateur : Nombre unique de clients à l'origine des transactions </font>"
   ]
  },
  {
   "cell_type": "code",
   "execution_count": 26,
   "id": "9320f6c1",
   "metadata": {},
   "outputs": [
    {
     "name": "stdout",
     "output_type": "stream",
     "text": [
      "Nombre unique de clients à l'origine des transactions: 6353307\n"
     ]
    }
   ],
   "source": [
    "nombre_clients_uniques = df.select(\"nameOrig\").distinct().count()\n",
    "print(f\"Nombre unique de clients à l'origine des transactions: {nombre_clients_uniques}\")"
   ]
  },
  {
   "cell_type": "markdown",
   "id": "3f5971ed",
   "metadata": {},
   "source": [
    "### <font color=\"#0d94cd\">Indicateur : Nombre unique de clients destinataires des transactions </font>"
   ]
  },
  {
   "cell_type": "code",
   "execution_count": 27,
   "id": "e417298a",
   "metadata": {},
   "outputs": [
    {
     "name": "stdout",
     "output_type": "stream",
     "text": [
      "Nombre unique de clients à l'origine des transactions: 2722362\n"
     ]
    }
   ],
   "source": [
    "nombre_clients_uniques = df.select(\"nameDest\").distinct().count()\n",
    "print(f\"Nombre unique de clients à l'origine des transactions: {nombre_clients_uniques}\")"
   ]
  },
  {
   "cell_type": "markdown",
   "id": "84695733",
   "metadata": {},
   "source": [
    "### <font color=\"#0d94cd\">Indicateur : Top 10 des clients qui sont à l'origine des plus grands nombres de transactions </font>"
   ]
  },
  {
   "cell_type": "code",
   "execution_count": null,
   "id": "a0f77504",
   "metadata": {},
   "outputs": [
    {
     "name": "stdout",
     "output_type": "stream",
     "text": [
      "Top 10 Clients à l'Origine des Transactions:\n",
      "+-----------+----------------------+\n",
      "|   nameOrig|transaction_count_orig|\n",
      "+-----------+----------------------+\n",
      "|C1065307291|                     3|\n",
      "|C1462946854|                     3|\n",
      "|C1530544995|                     3|\n",
      "|C1677795071|                     3|\n",
      "|C1784010646|                     3|\n",
      "| C400299098|                     3|\n",
      "|C1902386530|                     3|\n",
      "| C545315117|                     3|\n",
      "|C1976208114|                     3|\n",
      "|C1832548028|                     3|\n",
      "+-----------+----------------------+\n",
      "\n"
     ]
    }
   ],
   "source": [
    "from pyspark.sql.functions import count\n",
    "\n",
    "# Compter le nombre de transactions par client à l'origine\n",
    "origin_counts = df.groupBy(\"nameOrig\").agg(count(\"*\").alias(\"transaction_count_orig\"))\n",
    "\n",
    "# Obtenir le top 10 des clients à l'origine des transactions\n",
    "top_10_orig = origin_counts.orderBy(\"transaction_count_orig\", ascending=False).limit(10)\n",
    "\n",
    "# Afficher les résultats\n",
    "print(\"Top 10 Clients à l'Origine du plus grand nombre de Transactions:\")\n",
    "top_10_orig.show()"
   ]
  },
  {
   "cell_type": "markdown",
   "id": "505f93ba",
   "metadata": {},
   "source": [
    "### <font color=\"#0d94cd\">Indicateur : Top 10 des clients qui sont à l'origine des plus gros montants de transactions </font>"
   ]
  },
  {
   "cell_type": "code",
   "execution_count": null,
   "id": "5f8a69da",
   "metadata": {},
   "outputs": [
    {
     "name": "stdout",
     "output_type": "stream",
     "text": [
      "Top 10 Clients à l'Origine des Montants de Transactions:\n",
      "+-----------+-----------------+\n",
      "|   nameOrig|total_amount_orig|\n",
      "+-----------+-----------------+\n",
      "|C1715283297|    9.244551664E7|\n",
      "|C2127282686|    7.382349036E7|\n",
      "|C2044643633|    7.117248042E7|\n",
      "|C1425667947|     6.98867313E7|\n",
      "|C1584456031|    6.933731627E7|\n",
      "| C811810230|    6.750076129E7|\n",
      "| C420748282|    6.676127221E7|\n",
      "|C1139847449|    6.423444819E7|\n",
      "| C300140823|    6.384799258E7|\n",
      "| C372535854|    6.329483963E7|\n",
      "+-----------+-----------------+\n",
      "\n"
     ]
    }
   ],
   "source": [
    "from pyspark.sql.functions import sum\n",
    "\n",
    "# Calculer le montant total des transactions par client à l'origine\n",
    "origin_amounts = df.groupBy(\"nameOrig\").agg(sum(\"amount\").alias(\"total_amount_orig\"))\n",
    "\n",
    "# Obtenir le top 10 des clients à l'origine des transactions\n",
    "top_10_orig = origin_amounts.orderBy(\"total_amount_orig\", ascending=False).limit(10)\n",
    "\n",
    "# Afficher les résultats\n",
    "print(\"Top 10 Clients à l'Origine des plus gros Montants de Transactions:\")\n",
    "top_10_orig.show()\n",
    "\n"
   ]
  },
  {
   "cell_type": "markdown",
   "id": "7a9655b9",
   "metadata": {},
   "source": [
    "### <font color=\"#0d94cd\">Indicateur : Top 10 des clients qui sont destinataires des plus grands nombres de transactions </font>"
   ]
  },
  {
   "cell_type": "code",
   "execution_count": 34,
   "id": "92647d0c",
   "metadata": {},
   "outputs": [
    {
     "name": "stdout",
     "output_type": "stream",
     "text": [
      "Top 10 Clients Destinataires des Transactions:\n",
      "+-----------+----------------------+\n",
      "|   nameDest|transaction_count_dest|\n",
      "+-----------+----------------------+\n",
      "|C1286084959|                   113|\n",
      "| C985934102|                   109|\n",
      "| C665576141|                   105|\n",
      "|C2083562754|                   102|\n",
      "| C248609774|                   101|\n",
      "|C1590550415|                   101|\n",
      "| C451111351|                    99|\n",
      "|C1789550256|                    99|\n",
      "|C1360767589|                    98|\n",
      "|C1023714065|                    97|\n",
      "+-----------+----------------------+\n",
      "\n"
     ]
    }
   ],
   "source": [
    "# Compter le nombre de transactions par client destinataire\n",
    "dest_counts = df.groupBy(\"nameDest\").agg(count(\"*\").alias(\"transaction_count_dest\"))\n",
    "\n",
    "# Obtenir le top 10 des clients destinataires des transactions\n",
    "top_10_dest = dest_counts.orderBy(\"transaction_count_dest\", ascending=False).limit(10)\n",
    "\n",
    "print(\"Top 10 Clients Destinataires des Transactions:\")\n",
    "top_10_dest.show()\n"
   ]
  },
  {
   "cell_type": "markdown",
   "id": "b2057b98",
   "metadata": {},
   "source": [
    "### <font color=\"#0d94cd\">Indicateur : Top 10 des clients qui sont destinataires des plus gros montants de transactions </font>"
   ]
  },
  {
   "cell_type": "code",
   "execution_count": 37,
   "id": "b4ac5de2",
   "metadata": {},
   "outputs": [
    {
     "name": "stdout",
     "output_type": "stream",
     "text": [
      "Top 10 Clients Destinataires des Montants de Transactions:\n",
      "+-----------+--------------------+\n",
      "|   nameDest|   total_amount_dest|\n",
      "+-----------+--------------------+\n",
      "| C439737079| 3.574408314400001E8|\n",
      "| C707403537|2.9937441841999996E8|\n",
      "| C167875008|       2.747364328E8|\n",
      "|  C20253152|      2.7011618869E8|\n",
      "| C172409641|      2.5531017425E8|\n",
      "| C268913927|2.5348458809999993E8|\n",
      "| C936857833|2.2778001201999998E8|\n",
      "|  C65111466|      2.2744384585E8|\n",
      "| C744189981|      2.2517386173E8|\n",
      "|C1406193485|      2.2477896183E8|\n",
      "+-----------+--------------------+\n",
      "\n"
     ]
    }
   ],
   "source": [
    "# Calculer le montant total des transactions par client destinataire\n",
    "dest_amounts = df.groupBy(\"nameDest\").agg(sum(\"amount\").alias(\"total_amount_dest\"))\n",
    "\n",
    "# Obtenir le top 10 des clients destinataires des transactions\n",
    "top_10_dest = dest_amounts.orderBy(\"total_amount_dest\", ascending=False).limit(10)\n",
    "\n",
    "# Afficher les résultats\n",
    "print(\"Top 10 Clients Destinataires des Montants de Transactions:\")\n",
    "top_10_dest.show()"
   ]
  },
  {
   "cell_type": "markdown",
   "id": "7855bc99",
   "metadata": {},
   "source": [
    "### <font color=\"#0d94cd\">Indicateur : Liste des clients qui sont à l'origine de transferts massifs et Statut de Signalement de Fraude</font>"
   ]
  },
  {
   "cell_type": "code",
   "execution_count": 55,
   "id": "86fe7d3b",
   "metadata": {},
   "outputs": [
    {
     "name": "stdout",
     "output_type": "stream",
     "text": [
      "Clients à l'origine de Transferts Massifs ( > 200 000) et Statut de Signalement de Fraude:\n",
      "+----+-----------+----------+--------------+-------+\n",
      "|step|   nameOrig|    amount|isFlaggedFraud|isFraud|\n",
      "+----+-----------+----------+--------------+-------+\n",
      "|   1|C1670993182|  215310.3|             0|      0|\n",
      "|   1|C1984094095| 311685.89|             0|      0|\n",
      "|   1| C873175411| 224606.64|             0|      0|\n",
      "|   1|C1449772539| 379856.23|             0|      0|\n",
      "|   1| C926859124|1505626.01|             0|      0|\n",
      "|   1|C1603696865| 554026.99|             0|      0|\n",
      "|   1| C412788346| 761507.39|             0|      0|\n",
      "|   1|C1520267010|1429051.47|             0|      0|\n",
      "|   1| C908084672| 358831.92|             0|      0|\n",
      "|   1| C288306765|  367768.4|             0|      0|\n",
      "|   1|C1556867940| 209711.11|             0|      0|\n",
      "|   1|C1839168128| 583848.46|             0|      0|\n",
      "|   1|C1495608502|1724887.05|             0|      0|\n",
      "|   1| C835773569| 710544.77|             0|      0|\n",
      "|   1| C843299092| 581294.26|             0|      0|\n",
      "|   1|C1494346128| 330757.04|             0|      0|\n",
      "|   1| C722417467| 679502.24|             0|      0|\n",
      "|   1| C201677908| 480222.51|             0|      0|\n",
      "|   1|C1927963027| 522264.81|             0|      0|\n",
      "|   1|C1540894701| 211075.91|             0|      0|\n",
      "+----+-----------+----------+--------------+-------+\n",
      "only showing top 20 rows\n",
      "\n",
      "\n",
      "Nombre de transferts massifs signalés comme frauduleux : 16\n",
      "\n",
      "Nombre de transferts massifs non signalés comme frauduleux : 409094\n"
     ]
    }
   ],
   "source": [
    "# Filtrer les transactions de type TRANSFERT avec un montant supérieur à 200 000\n",
    "massive_transfers = df.filter((col(\"type\") == \"TRANSFER\") & (col(\"amount\") > 200000))\n",
    "\n",
    "# Sélectionner les colonnes pertinentes\n",
    "selected_columns = massive_transfers.select(\"step\", \"nameOrig\", \"amount\", \"isFlaggedFraud\", \"isFraud\")\n",
    "\n",
    "# Afficher les résultats\n",
    "print(\"Clients à l'origine de Transferts Massifs ( > 200 000) et Statut de Signalement de Fraude:\")\n",
    "selected_columns.show()\n",
    "\n",
    "# Compter le nombre de transferts massifs qui ont été signalés comme frauduleux\n",
    "flagged_fraud_count = massive_transfers.filter(col(\"isFlaggedFraud\") == 1).count()\n",
    "\n",
    "# Compter le nombre de transferts massifs qui n'ont pas été signalés comme frauduleux\n",
    "flagged_fraud_count1 = massive_transfers.filter(col(\"isFlaggedFraud\") == 0).count()  \n",
    "\n",
    "print(f\"\\nNombre de transferts massifs signalés comme frauduleux : {flagged_fraud_count}\")\n",
    "print(f\"\\nNombre de transferts massifs non signalés comme frauduleux : {flagged_fraud_count1}\")"
   ]
  },
  {
   "cell_type": "markdown",
   "id": "437b9a11",
   "metadata": {},
   "source": [
    "### <font color=\"#0d94cd\">Indicateur : Liste des clients qui sont destinataires de transferts massifs et Statut de Signalement de Fraude</font>"
   ]
  },
  {
   "cell_type": "code",
   "execution_count": 54,
   "id": "6fa16cfc",
   "metadata": {},
   "outputs": [
    {
     "name": "stdout",
     "output_type": "stream",
     "text": [
      "Clients destinataires de Transferts Massifs ( > 200 000) et Statut de Signalement de Fraude:\n",
      "+----+-----------+----------+--------------+-------+\n",
      "|step|   nameDest|    amount|isFlaggedFraud|isFraud|\n",
      "+----+-----------+----------+--------------+-------+\n",
      "|   1|C1100439041|  215310.3|             0|      0|\n",
      "|   1| C932583850| 311685.89|             0|      0|\n",
      "|   1| C766572210| 224606.64|             0|      0|\n",
      "|   1|C1590550415| 379856.23|             0|      0|\n",
      "|   1| C665576141|1505626.01|             0|      0|\n",
      "|   1| C766572210| 554026.99|             0|      0|\n",
      "|   1|C1590550415| 761507.39|             0|      0|\n",
      "|   1|C1590550415|1429051.47|             0|      0|\n",
      "|   1| C392292416| 358831.92|             0|      0|\n",
      "|   1|C1359044626|  367768.4|             0|      0|\n",
      "|   1|C1509514333| 209711.11|             0|      0|\n",
      "|   1|C1286084959| 583848.46|             0|      0|\n",
      "|   1|C1590550415|1724887.05|             0|      0|\n",
      "|   1|C1359044626| 710544.77|             0|      0|\n",
      "|   1|C1590550415| 581294.26|             0|      0|\n",
      "|   1| C564160838| 330757.04|             0|      0|\n",
      "|   1| C451111351| 679502.24|             0|      0|\n",
      "|   1| C451111351| 480222.51|             0|      0|\n",
      "|   1|C1234776885| 522264.81|             0|      0|\n",
      "|   1| C564160838| 211075.91|             0|      0|\n",
      "+----+-----------+----------+--------------+-------+\n",
      "only showing top 20 rows\n",
      "\n",
      "\n",
      "Nombre de transferts massifs signalés comme frauduleux : 16\n",
      "\n",
      "Nombre de transferts massifs non signalés comme frauduleux : 409094\n"
     ]
    }
   ],
   "source": [
    "# Filtrer les transactions de type TRANSFERT avec un montant supérieur à 200 000\n",
    "massive_transfers = df.filter((col(\"type\") == \"TRANSFER\") & (col(\"amount\") > 200000))\n",
    "\n",
    "# Sélectionner les colonnes pertinentes\n",
    "selected_columns = massive_transfers.select(\"step\", \"nameDest\", \"amount\", \"isFlaggedFraud\", \"isFraud\")\n",
    "\n",
    "# Afficher les résultats\n",
    "print(\"Clients destinataires de Transferts Massifs ( > 200 000) et Statut de Signalement de Fraude:\")\n",
    "selected_columns.show()\n",
    "\n",
    "# Compter le nombre de transferts massifs qui ont été signalés comme frauduleux\n",
    "flagged_fraud_count = massive_transfers.filter(col(\"isFlaggedFraud\") == 1).count()\n",
    "\n",
    "# Compter le nombre de transferts massifs qui n'ont pas été signalés comme frauduleux\n",
    "flagged_fraud_count1 = massive_transfers.filter(col(\"isFlaggedFraud\") == 0).count()  \n",
    "\n",
    "print(f\"\\nNombre de transferts massifs signalés comme frauduleux : {flagged_fraud_count}\")\n",
    "print(f\"\\nNombre de transferts massifs non signalés comme frauduleux : {flagged_fraud_count1}\")"
   ]
  },
  {
   "cell_type": "markdown",
   "id": "7c759588",
   "metadata": {},
   "source": [
    "### <font color=\"#0d94cd\">Indicateur : Liste des et nombre des clients à l'origine de transactions qui sont des \"Merchants\"</font>"
   ]
  },
  {
   "cell_type": "code",
   "execution_count": 65,
   "id": "a297eb8a",
   "metadata": {},
   "outputs": [
    {
     "name": "stdout",
     "output_type": "stream",
     "text": [
      "Liste des clients à l'origine de transactions qui sont des 'Merchants':\n",
      "+--------+-----------------+\n",
      "|nameOrig|transaction_count|\n",
      "+--------+-----------------+\n",
      "+--------+-----------------+\n",
      "\n"
     ]
    }
   ],
   "source": [
    "# Liste des transactions dont l'origine est un Merchant (nameOrig commence par 'M')\n",
    "merchant_transactions = df.filter(col(\"nameOrig\").startswith(\"M\"))\n",
    "\n",
    "# SSelectionner les différents Merchant\n",
    "merchant_summary = merchant_transactions.groupBy(\"nameOrig\").agg(count(\"*\").alias(\"transaction_count\"))\n",
    "\n",
    "# Afficher les résultats\n",
    "print(\"Liste des clients à l'origine de transactions qui sont des 'Merchants':\")\n",
    "merchant_summary.show()"
   ]
  },
  {
   "cell_type": "markdown",
   "id": "30561665",
   "metadata": {},
   "source": [
    "### <font color=\"#0d94cd\">Indicateur : Liste des et nombre des clients destinataires de transactions qui sont des \"Merchants\"</font>"
   ]
  },
  {
   "cell_type": "code",
   "execution_count": 71,
   "id": "3e214f57",
   "metadata": {},
   "outputs": [
    {
     "name": "stdout",
     "output_type": "stream",
     "text": [
      "Liste des clients destinataires de transactions qui sont des 'Merchants':\n",
      "+-----------+-----+\n",
      "|   nameDest|count|\n",
      "+-----------+-----+\n",
      "|M1437988306|    1|\n",
      "|  M73698537|    1|\n",
      "|M2024945312|    1|\n",
      "| M949314262|    1|\n",
      "|M2054997292|    1|\n",
      "| M279963418|    1|\n",
      "|M1456464145|    1|\n",
      "| M650797503|    1|\n",
      "|M2135563436|    1|\n",
      "| M401355610|    1|\n",
      "| M201036751|    1|\n",
      "| M981865495|    1|\n",
      "| M954976358|    1|\n",
      "|M1908321704|    1|\n",
      "| M884858691|    1|\n",
      "|M1042853700|    1|\n",
      "| M902894836|    1|\n",
      "|M2072818307|    1|\n",
      "|M1858702540|    1|\n",
      "|M1388117264|    1|\n",
      "+-----------+-----+\n",
      "only showing top 20 rows\n",
      "\n",
      "Nombre de Merchants :  2150401\n"
     ]
    }
   ],
   "source": [
    "# Filter for transactions where nameDest starts with 'M' indicating merchants\n",
    "merchant_recipients = df.filter(col(\"nameDest\").startswith(\"M\"))\n",
    "\n",
    "# Count unique merchant recipients and their occurrences\n",
    "merchant_counts = merchant_recipients.groupBy(\"nameDest\").count()\n",
    "\n",
    "# Display results\n",
    "print(\"Liste des clients destinataires de transactions qui sont des 'Merchants':\")\n",
    "merchant_counts.show()\n",
    "print(\"Nombre de Merchants : \",merchant_counts.select(\"NameDest\").distinct().count()) \n"
   ]
  },
  {
   "cell_type": "markdown",
   "id": "33647b37",
   "metadata": {},
   "source": [
    "## <font id = '3.2' color=\"#0d94cd\">3.2. Analyse temporelle des transactions  </font>"
   ]
  },
  {
   "cell_type": "markdown",
   "id": "e7856453",
   "metadata": {},
   "source": [
    "### <font color=\"#0d94cd\">Indicateur : Nombre et montant total des transactions par heure</font>"
   ]
  },
  {
   "cell_type": "code",
   "execution_count": 5,
   "id": "673fcf8c",
   "metadata": {},
   "outputs": [
    {
     "name": "stdout",
     "output_type": "stream",
     "text": [
      "Nombre total et montant des transactions par heure:\n",
      "+----+------------------+--------------------+\n",
      "|step|total_transactions|        total_amount|\n",
      "+----+------------------+--------------------+\n",
      "|   1|              2708| 2.854291811500002E8|\n",
      "|   2|              1014| 8.592160402000001E7|\n",
      "|   3|               552|       4.329388442E7|\n",
      "|   4|               565|  7.29100285699998E7|\n",
      "|   5|               665|4.5548089749999985E7|\n",
      "|   6|              1660| 1.643105512199997E8|\n",
      "|   7|              6837| 8.329308142399985E8|\n",
      "|   8|             21097| 3.439602407349995E9|\n",
      "|   9|             37628| 7.008379239430003E9|\n",
      "|  10|             35991| 7.124214893710039E9|\n",
      "|  11|             37241| 7.015066478010027E9|\n",
      "|  12|             36153| 6.754284804750042E9|\n",
      "|  13|             37515| 6.847540999970063E9|\n",
      "|  14|             41485| 6.874186933619984E9|\n",
      "|  15|             44609| 7.183723206529984E9|\n",
      "|  16|             42471|6.9600846911499815E9|\n",
      "|  17|             43361| 7.116325732270042E9|\n",
      "|  18|             49579| 7.255071578259955E9|\n",
      "|  19|             51352| 7.103846529969915E9|\n",
      "|  20|             40625| 5.173930961929953E9|\n",
      "+----+------------------+--------------------+\n",
      "only showing top 20 rows\n",
      "\n"
     ]
    }
   ],
   "source": [
    "from pyspark.sql.functions import col, sum, count\n",
    "# Calculer le nombre total de transactions et le montant total par heure\n",
    "hourly_summary = df.groupBy(\"step\") \\\n",
    "                   .agg(count(\"*\").alias(\"total_transactions\"), \n",
    "                        sum(\"amount\").alias(\"total_amount\")) \\\n",
    "                   .orderBy(\"step\")\n",
    "\n",
    "# Afficher les résultats\n",
    "print(\"Nombre total et montant des transactions par heure:\")\n",
    "hourly_summary.show()"
   ]
  },
  {
   "cell_type": "code",
   "execution_count": 6,
   "id": "bfd36829",
   "metadata": {},
   "outputs": [
    {
     "data": {
      "application/vnd.plotly.v1+json": {
       "config": {
        "plotlyServerURL": "https://plot.ly"
       },
       "data": [
        {
         "alignmentgroup": "True",
         "hovertemplate": "Hour=%{x}<br>Total Transactions=%{y}<extra></extra>",
         "legendgroup": "",
         "marker": {
          "color": "#636efa",
          "pattern": {
           "shape": ""
          }
         },
         "name": "",
         "offsetgroup": "",
         "orientation": "v",
         "showlegend": false,
         "textposition": "auto",
         "type": "bar",
         "x": [
          1,
          2,
          3,
          4,
          5,
          6,
          7,
          8,
          9,
          10,
          11,
          12,
          13,
          14,
          15,
          16,
          17,
          18,
          19,
          20,
          21,
          22,
          23,
          24,
          25,
          26,
          27,
          28,
          29,
          30,
          31,
          32,
          33,
          34,
          35,
          36,
          37,
          38,
          39,
          40,
          41,
          42,
          43,
          44,
          45,
          46,
          47,
          48,
          49,
          50,
          51,
          52,
          53,
          54,
          55,
          56,
          57,
          58,
          59,
          60,
          61,
          62,
          63,
          64,
          65,
          66,
          67,
          68,
          69,
          70,
          71,
          72,
          73,
          74,
          75,
          76,
          77,
          78,
          79,
          80,
          81,
          82,
          83,
          84,
          85,
          86,
          87,
          88,
          89,
          90,
          91,
          92,
          93,
          94,
          95,
          96,
          97,
          98,
          99,
          100,
          101,
          102,
          103,
          104,
          105,
          106,
          107,
          108,
          109,
          110,
          111,
          112,
          113,
          114,
          115,
          116,
          117,
          118,
          119,
          120,
          121,
          122,
          123,
          124,
          125,
          126,
          127,
          128,
          129,
          130,
          131,
          132,
          133,
          134,
          135,
          136,
          137,
          138,
          139,
          140,
          141,
          142,
          143,
          144,
          145,
          146,
          147,
          148,
          149,
          150,
          151,
          152,
          153,
          154,
          155,
          156,
          157,
          158,
          159,
          160,
          161,
          162,
          163,
          164,
          165,
          166,
          167,
          168,
          169,
          170,
          171,
          172,
          173,
          174,
          175,
          176,
          177,
          178,
          179,
          180,
          181,
          182,
          183,
          184,
          185,
          186,
          187,
          188,
          189,
          190,
          191,
          192,
          193,
          194,
          195,
          196,
          197,
          198,
          199,
          200,
          201,
          202,
          203,
          204,
          205,
          206,
          207,
          208,
          209,
          210,
          211,
          212,
          213,
          214,
          215,
          216,
          217,
          218,
          219,
          220,
          221,
          222,
          223,
          224,
          225,
          226,
          227,
          228,
          229,
          230,
          231,
          232,
          233,
          234,
          235,
          236,
          237,
          238,
          239,
          240,
          241,
          242,
          243,
          244,
          245,
          246,
          247,
          248,
          249,
          250,
          251,
          252,
          253,
          254,
          255,
          256,
          257,
          258,
          259,
          260,
          261,
          262,
          263,
          264,
          265,
          266,
          267,
          268,
          269,
          270,
          271,
          272,
          273,
          274,
          275,
          276,
          277,
          278,
          279,
          280,
          281,
          282,
          283,
          284,
          285,
          286,
          287,
          288,
          289,
          290,
          291,
          292,
          293,
          294,
          295,
          296,
          297,
          298,
          299,
          300,
          301,
          302,
          303,
          304,
          305,
          306,
          307,
          308,
          309,
          310,
          311,
          312,
          313,
          314,
          315,
          316,
          317,
          318,
          319,
          320,
          321,
          322,
          323,
          324,
          325,
          326,
          327,
          328,
          329,
          330,
          331,
          332,
          333,
          334,
          335,
          336,
          337,
          338,
          339,
          340,
          341,
          342,
          343,
          344,
          345,
          346,
          347,
          348,
          349,
          350,
          351,
          352,
          353,
          354,
          355,
          356,
          357,
          358,
          359,
          360,
          361,
          362,
          363,
          364,
          365,
          366,
          367,
          368,
          369,
          370,
          371,
          372,
          373,
          374,
          375,
          376,
          377,
          378,
          379,
          380,
          381,
          382,
          383,
          384,
          385,
          386,
          387,
          388,
          389,
          390,
          391,
          392,
          393,
          394,
          395,
          396,
          397,
          398,
          399,
          400,
          401,
          402,
          403,
          404,
          405,
          406,
          407,
          408,
          409,
          410,
          411,
          412,
          413,
          414,
          415,
          416,
          417,
          418,
          419,
          420,
          421,
          422,
          423,
          424,
          425,
          426,
          427,
          428,
          429,
          430,
          431,
          432,
          433,
          434,
          435,
          436,
          437,
          438,
          439,
          440,
          441,
          442,
          443,
          444,
          445,
          446,
          447,
          448,
          449,
          450,
          451,
          452,
          453,
          454,
          455,
          456,
          457,
          458,
          459,
          460,
          461,
          462,
          463,
          464,
          465,
          466,
          467,
          468,
          469,
          470,
          471,
          472,
          473,
          474,
          475,
          476,
          477,
          478,
          479,
          480,
          481,
          482,
          483,
          484,
          485,
          486,
          487,
          488,
          489,
          490,
          491,
          492,
          493,
          494,
          495,
          496,
          497,
          498,
          499,
          500,
          501,
          502,
          503,
          504,
          505,
          506,
          507,
          508,
          509,
          510,
          511,
          512,
          513,
          514,
          515,
          516,
          517,
          518,
          519,
          520,
          521,
          522,
          523,
          524,
          525,
          526,
          527,
          528,
          529,
          530,
          531,
          532,
          533,
          534,
          535,
          536,
          537,
          538,
          539,
          540,
          541,
          542,
          543,
          544,
          545,
          546,
          547,
          548,
          549,
          550,
          551,
          552,
          553,
          554,
          555,
          556,
          557,
          558,
          559,
          560,
          561,
          562,
          563,
          564,
          565,
          566,
          567,
          568,
          569,
          570,
          571,
          572,
          573,
          574,
          575,
          576,
          577,
          578,
          579,
          580,
          581,
          582,
          583,
          584,
          585,
          586,
          587,
          588,
          589,
          590,
          591,
          592,
          593,
          594,
          595,
          596,
          597,
          598,
          599,
          600,
          601,
          602,
          603,
          604,
          605,
          606,
          607,
          608,
          609,
          610,
          611,
          612,
          613,
          614,
          615,
          616,
          617,
          618,
          619,
          620,
          621,
          622,
          623,
          624,
          625,
          626,
          627,
          628,
          629,
          630,
          631,
          632,
          633,
          634,
          635,
          636,
          637,
          638,
          639,
          640,
          641,
          642,
          643,
          644,
          645,
          646,
          647,
          648,
          649,
          650,
          651,
          652,
          653,
          654,
          655,
          656,
          657,
          658,
          659,
          660,
          661,
          662,
          663,
          664,
          665,
          666,
          667,
          668,
          669,
          670,
          671,
          672,
          673,
          674,
          675,
          676,
          677,
          678,
          679,
          680,
          681,
          682,
          683,
          684,
          685,
          686,
          687,
          688,
          689,
          690,
          691,
          692,
          693,
          694,
          695,
          696,
          697,
          698,
          699,
          700,
          701,
          702,
          703,
          704,
          705,
          706,
          707,
          708,
          709,
          710,
          711,
          712,
          713,
          714,
          715,
          716,
          717,
          718,
          719,
          720,
          721,
          722,
          723,
          724,
          725,
          726,
          727,
          728,
          729,
          730,
          731,
          732,
          733,
          734,
          735,
          736,
          737,
          738,
          739,
          740,
          741,
          742,
          743
         ],
         "xaxis": "x",
         "y": [
          2708,
          1014,
          552,
          565,
          665,
          1660,
          6837,
          21097,
          37628,
          35991,
          37241,
          36153,
          37515,
          41485,
          44609,
          42471,
          43361,
          49579,
          51352,
          40625,
          19152,
          12635,
          6144,
          3216,
          1598,
          440,
          41,
          4,
          4,
          8,
          12,
          12,
          23616,
          30904,
          29157,
          39774,
          34000,
          31453,
          23391,
          34270,
          36348,
          41304,
          45060,
          38523,
          18500,
          12445,
          8681,
          5693,
          764,
          6,
          14,
          8,
          10,
          4,
          12,
          18,
          6,
          20,
          20,
          12,
          14,
          8,
          8,
          18,
          20,
          24,
          6,
          18,
          20,
          6,
          20,
          14,
          8,
          22,
          8,
          4,
          10,
          10,
          10,
          10,
          10,
          10,
          12,
          16,
          14,
          18,
          6,
          8,
          6,
          16,
          8,
          10,
          4444,
          10372,
          6858,
          6350,
          685,
          14,
          8,
          6,
          12,
          12,
          8,
          14,
          18,
          18,
          10,
          8,
          12,
          10,
          10,
          2,
          6,
          4,
          10,
          14,
          12,
          12,
          5740,
          3144,
          1074,
          414,
          52,
          4,
          10,
          6,
          14,
          8,
          21986,
          32890,
          36375,
          35936,
          35147,
          32391,
          27556,
          30340,
          32559,
          31422,
          46054,
          37012,
          16434,
          12189,
          7609,
          3523,
          1117,
          522,
          84,
          12,
          22,
          14,
          18,
          6,
          19475,
          29241,
          29927,
          27603,
          29764,
          27839,
          27561,
          27765,
          33049,
          40622,
          46352,
          39102,
          16542,
          12176,
          7946,
          3824,
          1464,
          529,
          14,
          10,
          14,
          10,
          8,
          10,
          17336,
          28204,
          30534,
          31481,
          31749,
          31900,
          31199,
          32175,
          37323,
          43747,
          49083,
          39079,
          17674,
          12669,
          9111,
          4314,
          1511,
          671,
          141,
          8,
          4,
          12,
          10,
          8,
          17963,
          31949,
          36176,
          36856,
          33549,
          29777,
          28288,
          29058,
          30372,
          33004,
          36889,
          34047,
          14775,
          10746,
          7975,
          4130,
          3347,
          12,
          10,
          6,
          10,
          8,
          8,
          10,
          18366,
          27522,
          30871,
          30965,
          28304,
          26034,
          26968,
          27482,
          14703,
          34053,
          47491,
          37109,
          16003,
          10920,
          8554,
          4189,
          1865,
          637,
          8,
          12,
          4,
          4,
          8,
          10,
          23209,
          31854,
          35269,
          35590,
          33311,
          29553,
          28840,
          28570,
          26843,
          27662,
          43328,
          33674,
          14420,
          11125,
          8021,
          4042,
          1581,
          767,
          77,
          6,
          14,
          16,
          12,
          12,
          7871,
          19202,
          24797,
          26383,
          25925,
          25737,
          25925,
          25956,
          27778,
          31118,
          36644,
          33449,
          14266,
          11333,
          6889,
          4018,
          1437,
          487,
          44,
          8,
          4,
          18,
          10,
          22,
          20609,
          29579,
          31940,
          31176,
          30881,
          29127,
          24714,
          26697,
          34595,
          43615,
          46968,
          36983,
          15147,
          11393,
          9863,
          3266,
          1305,
          512,
          12,
          12,
          20,
          6,
          8,
          14,
          17768,
          27147,
          29884,
          29430,
          27901,
          26655,
          25183,
          26877,
          32161,
          36682,
          40186,
          36156,
          14553,
          12016,
          10456,
          2932,
          320,
          529,
          10,
          10,
          10,
          14,
          12,
          6,
          14670,
          26073,
          30222,
          29467,
          29552,
          28245,
          26927,
          27139,
          30420,
          40696,
          44787,
          33528,
          15096,
          12050,
          7991,
          3508,
          1441,
          504,
          14,
          6,
          14,
          10,
          14,
          6,
          14490,
          25429,
          28388,
          29515,
          28853,
          27727,
          26103,
          20122,
          18183,
          37127,
          41759,
          37693,
          14961,
          11829,
          7818,
          3588,
          1419,
          633,
          28,
          18,
          10,
          12,
          12,
          10,
          19269,
          28959,
          22797,
          34075,
          30348,
          26656,
          30223,
          30910,
          33468,
          40218,
          45155,
          36726,
          16604,
          12023,
          7937,
          8256,
          483,
          20,
          16,
          8,
          289,
          16,
          16,
          2182,
          6,
          6,
          1257,
          2620,
          14,
          1259,
          766,
          14,
          28,
          5139,
          14,
          2792,
          2357,
          8,
          1685,
          4,
          6,
          8,
          4,
          248,
          16,
          12,
          883,
          18,
          10,
          1222,
          10,
          20,
          64,
          12,
          10,
          2548,
          1194,
          16,
          3751,
          308,
          59,
          39,
          824,
          18,
          10,
          438,
          8,
          59,
          83,
          16,
          10,
          16,
          12,
          984,
          12,
          12,
          6016,
          12,
          2620,
          84,
          10,
          2728,
          14,
          3755,
          10,
          1908,
          904,
          6,
          14,
          16,
          317,
          6,
          12,
          8,
          912,
          8,
          14,
          3820,
          12,
          5119,
          1819,
          8,
          3256,
          873,
          20,
          12,
          10,
          6108,
          28,
          313,
          1878,
          10,
          936,
          8,
          14,
          6,
          288,
          10,
          6,
          12,
          10,
          8733,
          6,
          14,
          1391,
          3488,
          12,
          3037,
          14,
          18631,
          30,
          2664,
          8023,
          2470,
          2697,
          937,
          33,
          409,
          250,
          95,
          12,
          531,
          6,
          12,
          18,
          3120,
          4,
          5476,
          12,
          4475,
          6,
          9358,
          3562,
          7771,
          2261,
          5689,
          642,
          4804,
          949,
          1517,
          8,
          18,
          144,
          6,
          20,
          14,
          10,
          10,
          16,
          10,
          3284,
          3546,
          5425,
          1421,
          4356,
          14,
          1182,
          1965,
          4256,
          18,
          3487,
          2614,
          8,
          877,
          364,
          269,
          12,
          58,
          10,
          775,
          16,
          281,
          2047,
          1581,
          2740,
          4894,
          6245,
          6584,
          57,
          5373,
          4,
          6536,
          5434,
          9319,
          2486,
          934,
          1816,
          18,
          865,
          8,
          12,
          8,
          16,
          14,
          8,
          1082,
          8,
          1199,
          14,
          2677,
          45,
          1278,
          8,
          6,
          2680,
          8,
          2800,
          8,
          1121,
          4,
          6,
          10,
          24,
          6,
          4,
          6,
          20,
          150,
          12,
          8,
          8,
          10,
          16,
          12,
          3390,
          14,
          14,
          1398,
          10,
          1141,
          14,
          2267,
          10,
          20,
          10,
          14,
          263,
          16,
          10,
          14,
          8,
          8,
          4,
          1965,
          10,
          14,
          2500,
          12,
          4877,
          2,
          10,
          1125,
          10,
          6,
          1400,
          8,
          322,
          1906,
          18,
          153,
          445,
          14,
          30,
          8,
          8,
          6,
          72,
          22,
          4703,
          6,
          2192,
          4562,
          14,
          4689,
          8040,
          7885,
          14,
          4972,
          4809,
          6898,
          4,
          2664,
          2827,
          6,
          12,
          65,
          55,
          6,
          18,
          14,
          8,
          16,
          2362,
          4,
          309,
          4,
          2313,
          1788,
          8,
          23,
          8,
          681,
          1879,
          140,
          632,
          918,
          14,
          10,
          4,
          10,
          14,
          14,
          4,
          22,
          12,
          10,
          4,
          28,
          16,
          10,
          10,
          8,
          12,
          14,
          10,
          10,
          10,
          6,
          22,
          14,
          8
         ],
         "yaxis": "y"
        }
       ],
       "layout": {
        "barmode": "relative",
        "legend": {
         "tracegroupgap": 0
        },
        "template": {
         "data": {
          "bar": [
           {
            "error_x": {
             "color": "#2a3f5f"
            },
            "error_y": {
             "color": "#2a3f5f"
            },
            "marker": {
             "line": {
              "color": "#E5ECF6",
              "width": 0.5
             },
             "pattern": {
              "fillmode": "overlay",
              "size": 10,
              "solidity": 0.2
             }
            },
            "type": "bar"
           }
          ],
          "barpolar": [
           {
            "marker": {
             "line": {
              "color": "#E5ECF6",
              "width": 0.5
             },
             "pattern": {
              "fillmode": "overlay",
              "size": 10,
              "solidity": 0.2
             }
            },
            "type": "barpolar"
           }
          ],
          "carpet": [
           {
            "aaxis": {
             "endlinecolor": "#2a3f5f",
             "gridcolor": "white",
             "linecolor": "white",
             "minorgridcolor": "white",
             "startlinecolor": "#2a3f5f"
            },
            "baxis": {
             "endlinecolor": "#2a3f5f",
             "gridcolor": "white",
             "linecolor": "white",
             "minorgridcolor": "white",
             "startlinecolor": "#2a3f5f"
            },
            "type": "carpet"
           }
          ],
          "choropleth": [
           {
            "colorbar": {
             "outlinewidth": 0,
             "ticks": ""
            },
            "type": "choropleth"
           }
          ],
          "contour": [
           {
            "colorbar": {
             "outlinewidth": 0,
             "ticks": ""
            },
            "colorscale": [
             [
              0,
              "#0d0887"
             ],
             [
              0.1111111111111111,
              "#46039f"
             ],
             [
              0.2222222222222222,
              "#7201a8"
             ],
             [
              0.3333333333333333,
              "#9c179e"
             ],
             [
              0.4444444444444444,
              "#bd3786"
             ],
             [
              0.5555555555555556,
              "#d8576b"
             ],
             [
              0.6666666666666666,
              "#ed7953"
             ],
             [
              0.7777777777777778,
              "#fb9f3a"
             ],
             [
              0.8888888888888888,
              "#fdca26"
             ],
             [
              1,
              "#f0f921"
             ]
            ],
            "type": "contour"
           }
          ],
          "contourcarpet": [
           {
            "colorbar": {
             "outlinewidth": 0,
             "ticks": ""
            },
            "type": "contourcarpet"
           }
          ],
          "heatmap": [
           {
            "colorbar": {
             "outlinewidth": 0,
             "ticks": ""
            },
            "colorscale": [
             [
              0,
              "#0d0887"
             ],
             [
              0.1111111111111111,
              "#46039f"
             ],
             [
              0.2222222222222222,
              "#7201a8"
             ],
             [
              0.3333333333333333,
              "#9c179e"
             ],
             [
              0.4444444444444444,
              "#bd3786"
             ],
             [
              0.5555555555555556,
              "#d8576b"
             ],
             [
              0.6666666666666666,
              "#ed7953"
             ],
             [
              0.7777777777777778,
              "#fb9f3a"
             ],
             [
              0.8888888888888888,
              "#fdca26"
             ],
             [
              1,
              "#f0f921"
             ]
            ],
            "type": "heatmap"
           }
          ],
          "heatmapgl": [
           {
            "colorbar": {
             "outlinewidth": 0,
             "ticks": ""
            },
            "colorscale": [
             [
              0,
              "#0d0887"
             ],
             [
              0.1111111111111111,
              "#46039f"
             ],
             [
              0.2222222222222222,
              "#7201a8"
             ],
             [
              0.3333333333333333,
              "#9c179e"
             ],
             [
              0.4444444444444444,
              "#bd3786"
             ],
             [
              0.5555555555555556,
              "#d8576b"
             ],
             [
              0.6666666666666666,
              "#ed7953"
             ],
             [
              0.7777777777777778,
              "#fb9f3a"
             ],
             [
              0.8888888888888888,
              "#fdca26"
             ],
             [
              1,
              "#f0f921"
             ]
            ],
            "type": "heatmapgl"
           }
          ],
          "histogram": [
           {
            "marker": {
             "pattern": {
              "fillmode": "overlay",
              "size": 10,
              "solidity": 0.2
             }
            },
            "type": "histogram"
           }
          ],
          "histogram2d": [
           {
            "colorbar": {
             "outlinewidth": 0,
             "ticks": ""
            },
            "colorscale": [
             [
              0,
              "#0d0887"
             ],
             [
              0.1111111111111111,
              "#46039f"
             ],
             [
              0.2222222222222222,
              "#7201a8"
             ],
             [
              0.3333333333333333,
              "#9c179e"
             ],
             [
              0.4444444444444444,
              "#bd3786"
             ],
             [
              0.5555555555555556,
              "#d8576b"
             ],
             [
              0.6666666666666666,
              "#ed7953"
             ],
             [
              0.7777777777777778,
              "#fb9f3a"
             ],
             [
              0.8888888888888888,
              "#fdca26"
             ],
             [
              1,
              "#f0f921"
             ]
            ],
            "type": "histogram2d"
           }
          ],
          "histogram2dcontour": [
           {
            "colorbar": {
             "outlinewidth": 0,
             "ticks": ""
            },
            "colorscale": [
             [
              0,
              "#0d0887"
             ],
             [
              0.1111111111111111,
              "#46039f"
             ],
             [
              0.2222222222222222,
              "#7201a8"
             ],
             [
              0.3333333333333333,
              "#9c179e"
             ],
             [
              0.4444444444444444,
              "#bd3786"
             ],
             [
              0.5555555555555556,
              "#d8576b"
             ],
             [
              0.6666666666666666,
              "#ed7953"
             ],
             [
              0.7777777777777778,
              "#fb9f3a"
             ],
             [
              0.8888888888888888,
              "#fdca26"
             ],
             [
              1,
              "#f0f921"
             ]
            ],
            "type": "histogram2dcontour"
           }
          ],
          "mesh3d": [
           {
            "colorbar": {
             "outlinewidth": 0,
             "ticks": ""
            },
            "type": "mesh3d"
           }
          ],
          "parcoords": [
           {
            "line": {
             "colorbar": {
              "outlinewidth": 0,
              "ticks": ""
             }
            },
            "type": "parcoords"
           }
          ],
          "pie": [
           {
            "automargin": true,
            "type": "pie"
           }
          ],
          "scatter": [
           {
            "fillpattern": {
             "fillmode": "overlay",
             "size": 10,
             "solidity": 0.2
            },
            "type": "scatter"
           }
          ],
          "scatter3d": [
           {
            "line": {
             "colorbar": {
              "outlinewidth": 0,
              "ticks": ""
             }
            },
            "marker": {
             "colorbar": {
              "outlinewidth": 0,
              "ticks": ""
             }
            },
            "type": "scatter3d"
           }
          ],
          "scattercarpet": [
           {
            "marker": {
             "colorbar": {
              "outlinewidth": 0,
              "ticks": ""
             }
            },
            "type": "scattercarpet"
           }
          ],
          "scattergeo": [
           {
            "marker": {
             "colorbar": {
              "outlinewidth": 0,
              "ticks": ""
             }
            },
            "type": "scattergeo"
           }
          ],
          "scattergl": [
           {
            "marker": {
             "colorbar": {
              "outlinewidth": 0,
              "ticks": ""
             }
            },
            "type": "scattergl"
           }
          ],
          "scattermapbox": [
           {
            "marker": {
             "colorbar": {
              "outlinewidth": 0,
              "ticks": ""
             }
            },
            "type": "scattermapbox"
           }
          ],
          "scatterpolar": [
           {
            "marker": {
             "colorbar": {
              "outlinewidth": 0,
              "ticks": ""
             }
            },
            "type": "scatterpolar"
           }
          ],
          "scatterpolargl": [
           {
            "marker": {
             "colorbar": {
              "outlinewidth": 0,
              "ticks": ""
             }
            },
            "type": "scatterpolargl"
           }
          ],
          "scatterternary": [
           {
            "marker": {
             "colorbar": {
              "outlinewidth": 0,
              "ticks": ""
             }
            },
            "type": "scatterternary"
           }
          ],
          "surface": [
           {
            "colorbar": {
             "outlinewidth": 0,
             "ticks": ""
            },
            "colorscale": [
             [
              0,
              "#0d0887"
             ],
             [
              0.1111111111111111,
              "#46039f"
             ],
             [
              0.2222222222222222,
              "#7201a8"
             ],
             [
              0.3333333333333333,
              "#9c179e"
             ],
             [
              0.4444444444444444,
              "#bd3786"
             ],
             [
              0.5555555555555556,
              "#d8576b"
             ],
             [
              0.6666666666666666,
              "#ed7953"
             ],
             [
              0.7777777777777778,
              "#fb9f3a"
             ],
             [
              0.8888888888888888,
              "#fdca26"
             ],
             [
              1,
              "#f0f921"
             ]
            ],
            "type": "surface"
           }
          ],
          "table": [
           {
            "cells": {
             "fill": {
              "color": "#EBF0F8"
             },
             "line": {
              "color": "white"
             }
            },
            "header": {
             "fill": {
              "color": "#C8D4E3"
             },
             "line": {
              "color": "white"
             }
            },
            "type": "table"
           }
          ]
         },
         "layout": {
          "annotationdefaults": {
           "arrowcolor": "#2a3f5f",
           "arrowhead": 0,
           "arrowwidth": 1
          },
          "autotypenumbers": "strict",
          "coloraxis": {
           "colorbar": {
            "outlinewidth": 0,
            "ticks": ""
           }
          },
          "colorscale": {
           "diverging": [
            [
             0,
             "#8e0152"
            ],
            [
             0.1,
             "#c51b7d"
            ],
            [
             0.2,
             "#de77ae"
            ],
            [
             0.3,
             "#f1b6da"
            ],
            [
             0.4,
             "#fde0ef"
            ],
            [
             0.5,
             "#f7f7f7"
            ],
            [
             0.6,
             "#e6f5d0"
            ],
            [
             0.7,
             "#b8e186"
            ],
            [
             0.8,
             "#7fbc41"
            ],
            [
             0.9,
             "#4d9221"
            ],
            [
             1,
             "#276419"
            ]
           ],
           "sequential": [
            [
             0,
             "#0d0887"
            ],
            [
             0.1111111111111111,
             "#46039f"
            ],
            [
             0.2222222222222222,
             "#7201a8"
            ],
            [
             0.3333333333333333,
             "#9c179e"
            ],
            [
             0.4444444444444444,
             "#bd3786"
            ],
            [
             0.5555555555555556,
             "#d8576b"
            ],
            [
             0.6666666666666666,
             "#ed7953"
            ],
            [
             0.7777777777777778,
             "#fb9f3a"
            ],
            [
             0.8888888888888888,
             "#fdca26"
            ],
            [
             1,
             "#f0f921"
            ]
           ],
           "sequentialminus": [
            [
             0,
             "#0d0887"
            ],
            [
             0.1111111111111111,
             "#46039f"
            ],
            [
             0.2222222222222222,
             "#7201a8"
            ],
            [
             0.3333333333333333,
             "#9c179e"
            ],
            [
             0.4444444444444444,
             "#bd3786"
            ],
            [
             0.5555555555555556,
             "#d8576b"
            ],
            [
             0.6666666666666666,
             "#ed7953"
            ],
            [
             0.7777777777777778,
             "#fb9f3a"
            ],
            [
             0.8888888888888888,
             "#fdca26"
            ],
            [
             1,
             "#f0f921"
            ]
           ]
          },
          "colorway": [
           "#636efa",
           "#EF553B",
           "#00cc96",
           "#ab63fa",
           "#FFA15A",
           "#19d3f3",
           "#FF6692",
           "#B6E880",
           "#FF97FF",
           "#FECB52"
          ],
          "font": {
           "color": "#2a3f5f"
          },
          "geo": {
           "bgcolor": "white",
           "lakecolor": "white",
           "landcolor": "#E5ECF6",
           "showlakes": true,
           "showland": true,
           "subunitcolor": "white"
          },
          "hoverlabel": {
           "align": "left"
          },
          "hovermode": "closest",
          "mapbox": {
           "style": "light"
          },
          "paper_bgcolor": "white",
          "plot_bgcolor": "#E5ECF6",
          "polar": {
           "angularaxis": {
            "gridcolor": "white",
            "linecolor": "white",
            "ticks": ""
           },
           "bgcolor": "#E5ECF6",
           "radialaxis": {
            "gridcolor": "white",
            "linecolor": "white",
            "ticks": ""
           }
          },
          "scene": {
           "xaxis": {
            "backgroundcolor": "#E5ECF6",
            "gridcolor": "white",
            "gridwidth": 2,
            "linecolor": "white",
            "showbackground": true,
            "ticks": "",
            "zerolinecolor": "white"
           },
           "yaxis": {
            "backgroundcolor": "#E5ECF6",
            "gridcolor": "white",
            "gridwidth": 2,
            "linecolor": "white",
            "showbackground": true,
            "ticks": "",
            "zerolinecolor": "white"
           },
           "zaxis": {
            "backgroundcolor": "#E5ECF6",
            "gridcolor": "white",
            "gridwidth": 2,
            "linecolor": "white",
            "showbackground": true,
            "ticks": "",
            "zerolinecolor": "white"
           }
          },
          "shapedefaults": {
           "line": {
            "color": "#2a3f5f"
           }
          },
          "ternary": {
           "aaxis": {
            "gridcolor": "white",
            "linecolor": "white",
            "ticks": ""
           },
           "baxis": {
            "gridcolor": "white",
            "linecolor": "white",
            "ticks": ""
           },
           "bgcolor": "#E5ECF6",
           "caxis": {
            "gridcolor": "white",
            "linecolor": "white",
            "ticks": ""
           }
          },
          "title": {
           "x": 0.05
          },
          "xaxis": {
           "automargin": true,
           "gridcolor": "white",
           "linecolor": "white",
           "ticks": "",
           "title": {
            "standoff": 15
           },
           "zerolinecolor": "white",
           "zerolinewidth": 2
          },
          "yaxis": {
           "automargin": true,
           "gridcolor": "white",
           "linecolor": "white",
           "ticks": "",
           "title": {
            "standoff": 15
           },
           "zerolinecolor": "white",
           "zerolinewidth": 2
          }
         }
        },
        "title": {
         "text": "Total Transactions per Hour"
        },
        "xaxis": {
         "anchor": "y",
         "domain": [
          0,
          1
         ],
         "title": {
          "text": "Hour"
         }
        },
        "yaxis": {
         "anchor": "x",
         "domain": [
          0,
          1
         ],
         "title": {
          "text": "Total Transactions"
         }
        }
       }
      }
     },
     "metadata": {},
     "output_type": "display_data"
    },
    {
     "data": {
      "application/vnd.plotly.v1+json": {
       "config": {
        "plotlyServerURL": "https://plot.ly"
       },
       "data": [
        {
         "alignmentgroup": "True",
         "hovertemplate": "Hour=%{x}<br>Total Amount=%{y}<extra></extra>",
         "legendgroup": "",
         "marker": {
          "color": "#636efa",
          "pattern": {
           "shape": ""
          }
         },
         "name": "",
         "offsetgroup": "",
         "orientation": "v",
         "showlegend": false,
         "textposition": "auto",
         "type": "bar",
         "x": [
          1,
          2,
          3,
          4,
          5,
          6,
          7,
          8,
          9,
          10,
          11,
          12,
          13,
          14,
          15,
          16,
          17,
          18,
          19,
          20,
          21,
          22,
          23,
          24,
          25,
          26,
          27,
          28,
          29,
          30,
          31,
          32,
          33,
          34,
          35,
          36,
          37,
          38,
          39,
          40,
          41,
          42,
          43,
          44,
          45,
          46,
          47,
          48,
          49,
          50,
          51,
          52,
          53,
          54,
          55,
          56,
          57,
          58,
          59,
          60,
          61,
          62,
          63,
          64,
          65,
          66,
          67,
          68,
          69,
          70,
          71,
          72,
          73,
          74,
          75,
          76,
          77,
          78,
          79,
          80,
          81,
          82,
          83,
          84,
          85,
          86,
          87,
          88,
          89,
          90,
          91,
          92,
          93,
          94,
          95,
          96,
          97,
          98,
          99,
          100,
          101,
          102,
          103,
          104,
          105,
          106,
          107,
          108,
          109,
          110,
          111,
          112,
          113,
          114,
          115,
          116,
          117,
          118,
          119,
          120,
          121,
          122,
          123,
          124,
          125,
          126,
          127,
          128,
          129,
          130,
          131,
          132,
          133,
          134,
          135,
          136,
          137,
          138,
          139,
          140,
          141,
          142,
          143,
          144,
          145,
          146,
          147,
          148,
          149,
          150,
          151,
          152,
          153,
          154,
          155,
          156,
          157,
          158,
          159,
          160,
          161,
          162,
          163,
          164,
          165,
          166,
          167,
          168,
          169,
          170,
          171,
          172,
          173,
          174,
          175,
          176,
          177,
          178,
          179,
          180,
          181,
          182,
          183,
          184,
          185,
          186,
          187,
          188,
          189,
          190,
          191,
          192,
          193,
          194,
          195,
          196,
          197,
          198,
          199,
          200,
          201,
          202,
          203,
          204,
          205,
          206,
          207,
          208,
          209,
          210,
          211,
          212,
          213,
          214,
          215,
          216,
          217,
          218,
          219,
          220,
          221,
          222,
          223,
          224,
          225,
          226,
          227,
          228,
          229,
          230,
          231,
          232,
          233,
          234,
          235,
          236,
          237,
          238,
          239,
          240,
          241,
          242,
          243,
          244,
          245,
          246,
          247,
          248,
          249,
          250,
          251,
          252,
          253,
          254,
          255,
          256,
          257,
          258,
          259,
          260,
          261,
          262,
          263,
          264,
          265,
          266,
          267,
          268,
          269,
          270,
          271,
          272,
          273,
          274,
          275,
          276,
          277,
          278,
          279,
          280,
          281,
          282,
          283,
          284,
          285,
          286,
          287,
          288,
          289,
          290,
          291,
          292,
          293,
          294,
          295,
          296,
          297,
          298,
          299,
          300,
          301,
          302,
          303,
          304,
          305,
          306,
          307,
          308,
          309,
          310,
          311,
          312,
          313,
          314,
          315,
          316,
          317,
          318,
          319,
          320,
          321,
          322,
          323,
          324,
          325,
          326,
          327,
          328,
          329,
          330,
          331,
          332,
          333,
          334,
          335,
          336,
          337,
          338,
          339,
          340,
          341,
          342,
          343,
          344,
          345,
          346,
          347,
          348,
          349,
          350,
          351,
          352,
          353,
          354,
          355,
          356,
          357,
          358,
          359,
          360,
          361,
          362,
          363,
          364,
          365,
          366,
          367,
          368,
          369,
          370,
          371,
          372,
          373,
          374,
          375,
          376,
          377,
          378,
          379,
          380,
          381,
          382,
          383,
          384,
          385,
          386,
          387,
          388,
          389,
          390,
          391,
          392,
          393,
          394,
          395,
          396,
          397,
          398,
          399,
          400,
          401,
          402,
          403,
          404,
          405,
          406,
          407,
          408,
          409,
          410,
          411,
          412,
          413,
          414,
          415,
          416,
          417,
          418,
          419,
          420,
          421,
          422,
          423,
          424,
          425,
          426,
          427,
          428,
          429,
          430,
          431,
          432,
          433,
          434,
          435,
          436,
          437,
          438,
          439,
          440,
          441,
          442,
          443,
          444,
          445,
          446,
          447,
          448,
          449,
          450,
          451,
          452,
          453,
          454,
          455,
          456,
          457,
          458,
          459,
          460,
          461,
          462,
          463,
          464,
          465,
          466,
          467,
          468,
          469,
          470,
          471,
          472,
          473,
          474,
          475,
          476,
          477,
          478,
          479,
          480,
          481,
          482,
          483,
          484,
          485,
          486,
          487,
          488,
          489,
          490,
          491,
          492,
          493,
          494,
          495,
          496,
          497,
          498,
          499,
          500,
          501,
          502,
          503,
          504,
          505,
          506,
          507,
          508,
          509,
          510,
          511,
          512,
          513,
          514,
          515,
          516,
          517,
          518,
          519,
          520,
          521,
          522,
          523,
          524,
          525,
          526,
          527,
          528,
          529,
          530,
          531,
          532,
          533,
          534,
          535,
          536,
          537,
          538,
          539,
          540,
          541,
          542,
          543,
          544,
          545,
          546,
          547,
          548,
          549,
          550,
          551,
          552,
          553,
          554,
          555,
          556,
          557,
          558,
          559,
          560,
          561,
          562,
          563,
          564,
          565,
          566,
          567,
          568,
          569,
          570,
          571,
          572,
          573,
          574,
          575,
          576,
          577,
          578,
          579,
          580,
          581,
          582,
          583,
          584,
          585,
          586,
          587,
          588,
          589,
          590,
          591,
          592,
          593,
          594,
          595,
          596,
          597,
          598,
          599,
          600,
          601,
          602,
          603,
          604,
          605,
          606,
          607,
          608,
          609,
          610,
          611,
          612,
          613,
          614,
          615,
          616,
          617,
          618,
          619,
          620,
          621,
          622,
          623,
          624,
          625,
          626,
          627,
          628,
          629,
          630,
          631,
          632,
          633,
          634,
          635,
          636,
          637,
          638,
          639,
          640,
          641,
          642,
          643,
          644,
          645,
          646,
          647,
          648,
          649,
          650,
          651,
          652,
          653,
          654,
          655,
          656,
          657,
          658,
          659,
          660,
          661,
          662,
          663,
          664,
          665,
          666,
          667,
          668,
          669,
          670,
          671,
          672,
          673,
          674,
          675,
          676,
          677,
          678,
          679,
          680,
          681,
          682,
          683,
          684,
          685,
          686,
          687,
          688,
          689,
          690,
          691,
          692,
          693,
          694,
          695,
          696,
          697,
          698,
          699,
          700,
          701,
          702,
          703,
          704,
          705,
          706,
          707,
          708,
          709,
          710,
          711,
          712,
          713,
          714,
          715,
          716,
          717,
          718,
          719,
          720,
          721,
          722,
          723,
          724,
          725,
          726,
          727,
          728,
          729,
          730,
          731,
          732,
          733,
          734,
          735,
          736,
          737,
          738,
          739,
          740,
          741,
          742,
          743
         ],
         "xaxis": "x",
         "y": [
          285429181.1500002,
          85921604.02000001,
          43293884.42,
          72910028.5699998,
          45548089.749999985,
          164310551.2199997,
          832930814.2399985,
          3439602407.349995,
          7008379239.430003,
          7124214893.710039,
          7015066478.010027,
          6754284804.750042,
          6847540999.970063,
          6874186933.619984,
          7183723206.529984,
          6960084691.1499815,
          7116325732.270042,
          7255071578.259955,
          7103846529.969915,
          5173930961.929953,
          2239833155.380003,
          1456148844.670003,
          657117971.2299985,
          392163044.0499993,
          190670809.5899998,
          53827747.85000004,
          10549062.829999998,
          8647152.219999999,
          1217680.46,
          975200.9199999999,
          12927128.04,
          9361820.08,
          4235326534.629976,
          5510123134.350036,
          5295843667.350032,
          6832213559.909975,
          5962020479.159993,
          5242347779.470019,
          3777663323.280013,
          5610763049.0400095,
          5788068602.390041,
          6360574481.599996,
          6511754245.66997,
          4830178103.069978,
          2159618105.609988,
          1396954333.9600015,
          896077856.9300009,
          540938538.7500004,
          54845905.75000004,
          3345118.9400000004,
          8313333.940000001,
          19349931.919999998,
          12617901.54,
          3577598.3600000003,
          4969150.82,
          21799570.76,
          3053734.92,
          40832628.86,
          25707837.720000003,
          5051824.599999999,
          10326374.760000002,
          4512316.5600000005,
          4106789.76,
          14681327.96,
          16326827.82,
          43525991.11999999,
          2354600.5600000005,
          29882358.080000006,
          41458369.279999994,
          2941247.94,
          13655351.439999996,
          59848379.22,
          2582474.42,
          33794195.05999999,
          5970615.06,
          4152727.08,
          35925500,
          11208144.899999999,
          6261606.14,
          2992622.6,
          10202118.94,
          35812474.28000001,
          10608310.4,
          36611285.98,
          25618937.119999997,
          53565564.56000001,
          2627321.58,
          34628042.4,
          2157581.12,
          20774510.339999996,
          4339885.100000001,
          3754118.7599999993,
          608142230.2700003,
          1286675245.1200044,
          853594039.5600017,
          738547809.8000011,
          74683514.70000002,
          12891419.98,
          13044113.799999999,
          3013658.28,
          12062241.02,
          6442999.62,
          5482907.76,
          7764539.000000001,
          15487769.300000004,
          12407586.84,
          5062020.640000001,
          15526032.36,
          8388165.940000001,
          8845515.58,
          11801388.460000003,
          84837.7,
          3976999.0999999996,
          7748974.38,
          7226221.720000002,
          16376396.780000001,
          13355288.92,
          33446321.980000004,
          652470324.7500021,
          377544600.4400001,
          111898438.65999997,
          63367833.73999997,
          22572340.19,
          22077380.04,
          18369419.18,
          14855403.24,
          22089204.560000006,
          15992485.520000003,
          4391391782.559984,
          6698931223.319981,
          6783763408.089992,
          6687443284.33997,
          6475193394.209982,
          5611630988.640025,
          4825611448.519994,
          5402422002.029997,
          5123734992.959964,
          4430204695.769995,
          6807832968.00003,
          4940313493.579968,
          2084368981.7800016,
          1546712100.150003,
          931760710.6700013,
          377448388.5900002,
          113049826.97999996,
          66316130.02999994,
          20314127.36999999,
          10802770.020000001,
          42013551.06,
          14014584.440000001,
          10203595.360000001,
          5335020.24,
          3684861307.080027,
          5375430913.08999,
          5606061971.1599865,
          4960414720.230005,
          5050314367.420008,
          4789734067.880005,
          4573981952.639976,
          4657390938.930023,
          5387907144.990025,
          6199143085.369992,
          6710359139.229969,
          4981351201.619965,
          2053484812.3300016,
          1382688727.4600058,
          933051702.0799967,
          442551927.7599998,
          136069265.3300001,
          82260708.28999992,
          30834521.24,
          7312840.08,
          27327876.340000004,
          6161251.799999999,
          2700000.9000000004,
          3362807.2600000002,
          3047457482.649982,
          5861954398.259996,
          5115943490.929976,
          5639808481.309991,
          5681319969.669982,
          5233469114.4900055,
          4692443326.210002,
          5061974881.999967,
          6153894465.290062,
          6531302921.009944,
          7391259249.560027,
          4675322824.450033,
          2001807262.6700032,
          1350395827.2199929,
          886835789.3800004,
          409379744.1399999,
          136595891.10000008,
          58442261.12999999,
          20572775.969999995,
          4998965.9399999995,
          4894973.5,
          39553204.839999996,
          10151804.44,
          26179145.6,
          2444701645.2099934,
          4604339087.279982,
          5277176879.030033,
          5284768973.080003,
          5365333264.480015,
          4206648534.9900208,
          4078718390.730009,
          4081255354.45001,
          4141703465.120006,
          4369134560.910011,
          4763104506.090031,
          4386135424.320013,
          1876024774.8399954,
          1331914189.9999995,
          1040812156.9099948,
          514605168.4599999,
          412718375.85999995,
          22237883.979999997,
          8562844.34,
          9687097.079999998,
          5286186.14,
          5949300.24,
          6587448.479999999,
          20234992.57999999,
          3585708429.109985,
          6125641173.050035,
          6004298462.840066,
          5912909516.100004,
          5042346774.470042,
          4431692044.840017,
          4651274087.590006,
          4836628260.069973,
          2401809316.279998,
          5373207185.739999,
          7298145078.920031,
          4564006648.720011,
          1868247705.7999983,
          1211714724.4700036,
          931485164.9199964,
          459973475.39999944,
          180380700.47000024,
          65930719.52000003,
          16247876.120000001,
          27299325.08,
          1624691.7799999998,
          1692137.58,
          6475558.04,
          28243774.700000003,
          3792800922.7799625,
          6326260900.289996,
          5771315721.229972,
          5854918089.560019,
          5942227724.38004,
          4521637821.260002,
          3974800979.949983,
          3918809333.850009,
          3605125811.2899837,
          3583780336.6000047,
          5076897554.770013,
          3787449731.7899823,
          1569022159.2099957,
          1221492417.0200021,
          685238193.2000006,
          368989231.1300005,
          144773162.35999995,
          105005135.03000034,
          54389457.76999999,
          8090414.719999999,
          30786900.71999999,
          7453709.259999998,
          21611875.279999997,
          14762929.300000003,
          1057528069.9200002,
          2826244635.489998,
          3508304287.570024,
          4412622274.430009,
          4044242654.870004,
          4022655172.1799936,
          4231256216.7600017,
          4068126710.0299788,
          4504317592.5299635,
          5081155730.239999,
          6258571159.979987,
          5923047332.079986,
          2842978700.689987,
          2435387156.5000043,
          1444658464.9200068,
          940528731.7300009,
          200942836.62000024,
          52148206.040000066,
          55410020.12,
          6010883.12,
          1529597.5,
          26816796.08,
          13248845.16,
          49873410.000000015,
          6011228116.560019,
          9417978632.749947,
          8851568808.700045,
          9602057363.439966,
          8875641423.119991,
          9284963497.209927,
          11724714959.120007,
          24963550343.940037,
          19005246565.95013,
          7955426526.719964,
          8512005039.479916,
          6343967072.679968,
          2901153885.8200064,
          2351222355.0599895,
          1843736745.9399946,
          622626160.8200003,
          264148736.08000028,
          70940145.75999998,
          33201719.3,
          9279425.26,
          6354087.94,
          3384709.38,
          12220382.46,
          20764447.78,
          4616167707.849985,
          7614594107.810004,
          7861111520.100001,
          7306624172.490019,
          7416314396.780044,
          8548289956.850029,
          14324072141.330004,
          11647709104.030085,
          6102660553.069952,
          5933645454.239944,
          6407948389.009919,
          5232580956.619972,
          2519375123.83999,
          1965439321.8699884,
          1650698226.6499977,
          469835508.2799997,
          37511725.72999999,
          54096226.84000004,
          4839777.760000001,
          20576578.259999998,
          9681273.680000002,
          2872763.5,
          5299923.58,
          5246154.580000001,
          3775109118.9099874,
          5826660716.37,
          6964456131.759931,
          7929207505.030018,
          5701716349.719986,
          5640295178.529973,
          5172213957.190008,
          5047833554.760001,
          6779388634.990054,
          6965215256.25004,
          7234253609.70005,
          4693535568.259993,
          2291105832.4900007,
          1754502433.7600005,
          1081719923.4699998,
          475026460.9500015,
          170127306.86999997,
          120469553.48,
          38027813.679999985,
          7708375.620000001,
          18737996.099999998,
          23250735.879999995,
          6965470.32,
          2900938.68,
          3283341857.45001,
          6337254252.829957,
          5968864151.179987,
          5506549073.949962,
          5407533849.389999,
          5003598395.759998,
          5510846318.729992,
          6138973352.870053,
          2963739223.1199913,
          5531479167.979978,
          5847754144.070039,
          4803245990.129988,
          2043308095.1899984,
          1657430074.4800045,
          1055020916.8499974,
          443414417.7899989,
          142296140.07,
          131912135.27999993,
          147237648.39,
          34064057.059999995,
          25595859.900000002,
          17235988.419999998,
          13642966.840000004,
          7935358.760000001,
          4577025882.600003,
          6433780283.850033,
          3912610392.8199773,
          6436763739.339999,
          5915512509.770008,
          5024591202.609987,
          5917459225.069958,
          5608205263.279958,
          5718920109.1200485,
          6596385476.639976,
          6746761157.950008,
          4862065083.490025,
          2252761583.9100056,
          1737107629.1799893,
          970894107.0799958,
          1019370201.3700008,
          124249603.63000003,
          28815915.800000012,
          44434467.260000005,
          6931488.540000001,
          56035634.04,
          40395346.04000001,
          11738866.76,
          345168018.5400005,
          6632519.28,
          2758272.8599999994,
          193638577.0500002,
          516175683.2,
          54903247.379999995,
          243906571.78,
          121423443.10999998,
          23591968.119999997,
          110298471.22999999,
          888380417.6899991,
          22280093.620000005,
          369181208.02000004,
          306539468.19999975,
          13356935.200000001,
          176579531.51999974,
          4115551.4800000004,
          3740353.9,
          15066379.4,
          3018541.02,
          57243868.85000002,
          24046445.400000002,
          13988340.3,
          90178693.01999997,
          106424896.32,
          16704956.399999999,
          150273831.39000002,
          9883266.22,
          55929980.99999999,
          20604103.08000001,
          23247205.76,
          17027129.519999996,
          382255817.0200003,
          168249336.65000007,
          42903268.1,
          523928034.9099999,
          62669683.02,
          20125779.259999987,
          13318758.339999996,
          84116910.53999999,
          31949963.719999995,
          4996140.54,
          40738860.82,
          2962101.96,
          21889297.819999993,
          38674234.929999985,
          12933930.56,
          15575691.759999998,
          19647849.88,
          20195821.5,
          165540424.32999974,
          6673898.26,
          8427756.379999999,
          1128548350.4500027,
          13929861.7,
          479065942.25000066,
          50577039.28999999,
          1423133.56,
          578338723.6199999,
          4167837.46,
          593405934.9099996,
          38321192.76,
          249631132.25000012,
          98762802.42999999,
          1945259.1,
          7476067.6,
          7618253.760000002,
          63937791.88000002,
          501135.22000000003,
          16670389.879999999,
          12307851.5,
          112818882.03000006,
          11535648.86,
          20060606.220000006,
          770912131.6699996,
          9649155.400000002,
          1172822465.130001,
          422340538.13999987,
          22656512.980000004,
          722693286.4000014,
          162350118.59999985,
          44196804.32000001,
          42134942.800000004,
          3823494.9,
          881206032.8299986,
          79614672.48000002,
          56704614.489999935,
          186350409.67000026,
          10039514.88,
          98603049.61000006,
          37329805.019999996,
          42107207.220000006,
          1907268.1600000001,
          48899871.07000002,
          16351972.119999997,
          3040983.8200000003,
          24542548.839999996,
          4352810.34,
          1999273152.6499944,
          854962.98,
          49316030.559999995,
          233099715.32999998,
          649922857.8599994,
          5862921.82,
          589367419.2600007,
          11945989.739999998,
          3670726387.0800066,
          69540142.4,
          367784058.73999983,
          956470572.5200007,
          272760266.41999966,
          275898931.95999956,
          85319692.74,
          15241906.520000003,
          54769365.81000004,
          57770528.47000003,
          13926809.05,
          13069443.86,
          52014715.12999999,
          2535105.66,
          7342744.300000001,
          7191162.74,
          803923598.2499976,
          556966.14,
          1069628453.0699996,
          43310664.08,
          763897085.0200001,
          5380517.800000001,
          1644902213.3100057,
          545060662.9499992,
          1169423725.3399992,
          359716407.2200001,
          703318157.5800023,
          61541864.88000001,
          552312295.4799984,
          98573979.62,
          149337625.67,
          4677417.000000001,
          85876715.24,
          23050207.140000008,
          3120878.8199999994,
          19343563.1,
          8472680.219999999,
          8614436.239999998,
          4471218.4399999995,
          17311068.86,
          34103614.620000005,
          680900659.4100026,
          593339197.8500019,
          929420893.7500008,
          210434744.41000003,
          692432804.6099995,
          21012595.979999997,
          196460391.2100003,
          290204523.9400001,
          637073127.5400012,
          11261178.000000002,
          389848074.5099995,
          295795973.70000124,
          4362409.579999999,
          81920995.88000016,
          45191071.070000015,
          59022160.43999998,
          13391113.62,
          16815292.89,
          8109043.620000001,
          68649688.10999998,
          12437199.900000002,
          42427857.92999998,
          299768066.4800002,
          317120822.11,
          543681227.4299984,
          775258607.3099983,
          1070599526.9799998,
          1141494285.490001,
          23057518.83,
          898961370.6300023,
          795846.68,
          998077347.4200027,
          725710623.9299996,
          1459229978.3200011,
          334291994.34999967,
          101198178.90999994,
          186384113.39000005,
          35814392.02,
          86666912.33999997,
          5697984.219999999,
          19318593.140000004,
          11736101.32,
          10418263.959999999,
          29801780.800000004,
          1402691.2600000002,
          153163443.40000027,
          1962933.2999999998,
          151695358.52,
          7014769.800000001,
          442827835.17000073,
          20714053.120000005,
          176103740.92000002,
          18864296.14,
          17192937.16,
          491921999.5599976,
          4093382.08,
          379732051.64000046,
          1470584.1199999999,
          167092597.89999974,
          1667642.96,
          842672.1599999999,
          27307081.339999996,
          59187126.15999997,
          265400.04000000004,
          7419082.84,
          2388645.6199999996,
          27300034.539999995,
          33632566.489999995,
          34322908.44,
          2045006.0000000002,
          9469682.559999999,
          19967336.1,
          9757174.240000002,
          6594877.6000000015,
          595977588.5899992,
          30445090.82,
          3833999.2600000002,
          235460464.64000013,
          11484847.26,
          153551791.7000001,
          15829698.559999999,
          331214212.5800001,
          24279751.58,
          124559607.04,
          9725016.579999998,
          7556887.520000001,
          37659787.21999999,
          15453019.099999998,
          27449340.320000004,
          13800111.760000002,
          3335889.22,
          4244319.9,
          598814.7799999999,
          259853656.59999964,
          12898473.720000003,
          22548885.34,
          873676951.7500007,
          1937697.7800000003,
          901440925.1399993,
          2936608.7,
          3242072.3,
          206521853.9400002,
          8904817.299999999,
          1527287.0999999999,
          179970457.39999974,
          26890502.800000004,
          58813878.19000004,
          237652009.99,
          64327964.70000001,
          41032712.71000001,
          46009039.61000001,
          42027958.24,
          42253301.82,
          18117891.119999997,
          44065100.36,
          4961854.36,
          25048646.980000008,
          60114590.72,
          910235264.290003,
          877562.34,
          459245005.1700008,
          1484350041.8000026,
          47544533.980000004,
          831815555.8500012,
          1366713387.509998,
          1187365885.549998,
          20273406.88,
          702292231.9399999,
          614821524.289999,
          833578997.7199993,
          2965073.0199999996,
          327597102.24,
          282980385.4800007,
          2382110.8,
          7788654.280000001,
          70036302.89,
          16390227.150000002,
          2189920.6599999997,
          25820556.980000004,
          65416667.71000001,
          14723066.04,
          31025756.86,
          361371329.0999999,
          2401102.9,
          59112032.049999945,
          6459344.859999999,
          360113385.3900008,
          378576308.51000017,
          14371325.16,
          5062673.8100000005,
          14119525.3,
          124975261.94000004,
          246325271.48999992,
          32909274.65,
          57639917.81000002,
          78195898.52999982,
          19259355.639999997,
          1617246.4599999997,
          189712.36,
          9511315.58,
          20923093.02,
          6120113.759999999,
          1993163.7,
          20213984.400000002,
          15852217.100000003,
          21656065.239999995,
          2385956.5799999996,
          115003435.05,
          3880955.34,
          4391950.92,
          6113203.279999999,
          27827406.36,
          3155523.32,
          32530967.33999999,
          9560119.88,
          2883702.9800000004,
          16587831.359999998,
          7632963.58,
          87828992.99,
          14323735.200000001,
          17519825.5
         ],
         "yaxis": "y"
        }
       ],
       "layout": {
        "barmode": "relative",
        "legend": {
         "tracegroupgap": 0
        },
        "template": {
         "data": {
          "bar": [
           {
            "error_x": {
             "color": "#2a3f5f"
            },
            "error_y": {
             "color": "#2a3f5f"
            },
            "marker": {
             "line": {
              "color": "#E5ECF6",
              "width": 0.5
             },
             "pattern": {
              "fillmode": "overlay",
              "size": 10,
              "solidity": 0.2
             }
            },
            "type": "bar"
           }
          ],
          "barpolar": [
           {
            "marker": {
             "line": {
              "color": "#E5ECF6",
              "width": 0.5
             },
             "pattern": {
              "fillmode": "overlay",
              "size": 10,
              "solidity": 0.2
             }
            },
            "type": "barpolar"
           }
          ],
          "carpet": [
           {
            "aaxis": {
             "endlinecolor": "#2a3f5f",
             "gridcolor": "white",
             "linecolor": "white",
             "minorgridcolor": "white",
             "startlinecolor": "#2a3f5f"
            },
            "baxis": {
             "endlinecolor": "#2a3f5f",
             "gridcolor": "white",
             "linecolor": "white",
             "minorgridcolor": "white",
             "startlinecolor": "#2a3f5f"
            },
            "type": "carpet"
           }
          ],
          "choropleth": [
           {
            "colorbar": {
             "outlinewidth": 0,
             "ticks": ""
            },
            "type": "choropleth"
           }
          ],
          "contour": [
           {
            "colorbar": {
             "outlinewidth": 0,
             "ticks": ""
            },
            "colorscale": [
             [
              0,
              "#0d0887"
             ],
             [
              0.1111111111111111,
              "#46039f"
             ],
             [
              0.2222222222222222,
              "#7201a8"
             ],
             [
              0.3333333333333333,
              "#9c179e"
             ],
             [
              0.4444444444444444,
              "#bd3786"
             ],
             [
              0.5555555555555556,
              "#d8576b"
             ],
             [
              0.6666666666666666,
              "#ed7953"
             ],
             [
              0.7777777777777778,
              "#fb9f3a"
             ],
             [
              0.8888888888888888,
              "#fdca26"
             ],
             [
              1,
              "#f0f921"
             ]
            ],
            "type": "contour"
           }
          ],
          "contourcarpet": [
           {
            "colorbar": {
             "outlinewidth": 0,
             "ticks": ""
            },
            "type": "contourcarpet"
           }
          ],
          "heatmap": [
           {
            "colorbar": {
             "outlinewidth": 0,
             "ticks": ""
            },
            "colorscale": [
             [
              0,
              "#0d0887"
             ],
             [
              0.1111111111111111,
              "#46039f"
             ],
             [
              0.2222222222222222,
              "#7201a8"
             ],
             [
              0.3333333333333333,
              "#9c179e"
             ],
             [
              0.4444444444444444,
              "#bd3786"
             ],
             [
              0.5555555555555556,
              "#d8576b"
             ],
             [
              0.6666666666666666,
              "#ed7953"
             ],
             [
              0.7777777777777778,
              "#fb9f3a"
             ],
             [
              0.8888888888888888,
              "#fdca26"
             ],
             [
              1,
              "#f0f921"
             ]
            ],
            "type": "heatmap"
           }
          ],
          "heatmapgl": [
           {
            "colorbar": {
             "outlinewidth": 0,
             "ticks": ""
            },
            "colorscale": [
             [
              0,
              "#0d0887"
             ],
             [
              0.1111111111111111,
              "#46039f"
             ],
             [
              0.2222222222222222,
              "#7201a8"
             ],
             [
              0.3333333333333333,
              "#9c179e"
             ],
             [
              0.4444444444444444,
              "#bd3786"
             ],
             [
              0.5555555555555556,
              "#d8576b"
             ],
             [
              0.6666666666666666,
              "#ed7953"
             ],
             [
              0.7777777777777778,
              "#fb9f3a"
             ],
             [
              0.8888888888888888,
              "#fdca26"
             ],
             [
              1,
              "#f0f921"
             ]
            ],
            "type": "heatmapgl"
           }
          ],
          "histogram": [
           {
            "marker": {
             "pattern": {
              "fillmode": "overlay",
              "size": 10,
              "solidity": 0.2
             }
            },
            "type": "histogram"
           }
          ],
          "histogram2d": [
           {
            "colorbar": {
             "outlinewidth": 0,
             "ticks": ""
            },
            "colorscale": [
             [
              0,
              "#0d0887"
             ],
             [
              0.1111111111111111,
              "#46039f"
             ],
             [
              0.2222222222222222,
              "#7201a8"
             ],
             [
              0.3333333333333333,
              "#9c179e"
             ],
             [
              0.4444444444444444,
              "#bd3786"
             ],
             [
              0.5555555555555556,
              "#d8576b"
             ],
             [
              0.6666666666666666,
              "#ed7953"
             ],
             [
              0.7777777777777778,
              "#fb9f3a"
             ],
             [
              0.8888888888888888,
              "#fdca26"
             ],
             [
              1,
              "#f0f921"
             ]
            ],
            "type": "histogram2d"
           }
          ],
          "histogram2dcontour": [
           {
            "colorbar": {
             "outlinewidth": 0,
             "ticks": ""
            },
            "colorscale": [
             [
              0,
              "#0d0887"
             ],
             [
              0.1111111111111111,
              "#46039f"
             ],
             [
              0.2222222222222222,
              "#7201a8"
             ],
             [
              0.3333333333333333,
              "#9c179e"
             ],
             [
              0.4444444444444444,
              "#bd3786"
             ],
             [
              0.5555555555555556,
              "#d8576b"
             ],
             [
              0.6666666666666666,
              "#ed7953"
             ],
             [
              0.7777777777777778,
              "#fb9f3a"
             ],
             [
              0.8888888888888888,
              "#fdca26"
             ],
             [
              1,
              "#f0f921"
             ]
            ],
            "type": "histogram2dcontour"
           }
          ],
          "mesh3d": [
           {
            "colorbar": {
             "outlinewidth": 0,
             "ticks": ""
            },
            "type": "mesh3d"
           }
          ],
          "parcoords": [
           {
            "line": {
             "colorbar": {
              "outlinewidth": 0,
              "ticks": ""
             }
            },
            "type": "parcoords"
           }
          ],
          "pie": [
           {
            "automargin": true,
            "type": "pie"
           }
          ],
          "scatter": [
           {
            "fillpattern": {
             "fillmode": "overlay",
             "size": 10,
             "solidity": 0.2
            },
            "type": "scatter"
           }
          ],
          "scatter3d": [
           {
            "line": {
             "colorbar": {
              "outlinewidth": 0,
              "ticks": ""
             }
            },
            "marker": {
             "colorbar": {
              "outlinewidth": 0,
              "ticks": ""
             }
            },
            "type": "scatter3d"
           }
          ],
          "scattercarpet": [
           {
            "marker": {
             "colorbar": {
              "outlinewidth": 0,
              "ticks": ""
             }
            },
            "type": "scattercarpet"
           }
          ],
          "scattergeo": [
           {
            "marker": {
             "colorbar": {
              "outlinewidth": 0,
              "ticks": ""
             }
            },
            "type": "scattergeo"
           }
          ],
          "scattergl": [
           {
            "marker": {
             "colorbar": {
              "outlinewidth": 0,
              "ticks": ""
             }
            },
            "type": "scattergl"
           }
          ],
          "scattermapbox": [
           {
            "marker": {
             "colorbar": {
              "outlinewidth": 0,
              "ticks": ""
             }
            },
            "type": "scattermapbox"
           }
          ],
          "scatterpolar": [
           {
            "marker": {
             "colorbar": {
              "outlinewidth": 0,
              "ticks": ""
             }
            },
            "type": "scatterpolar"
           }
          ],
          "scatterpolargl": [
           {
            "marker": {
             "colorbar": {
              "outlinewidth": 0,
              "ticks": ""
             }
            },
            "type": "scatterpolargl"
           }
          ],
          "scatterternary": [
           {
            "marker": {
             "colorbar": {
              "outlinewidth": 0,
              "ticks": ""
             }
            },
            "type": "scatterternary"
           }
          ],
          "surface": [
           {
            "colorbar": {
             "outlinewidth": 0,
             "ticks": ""
            },
            "colorscale": [
             [
              0,
              "#0d0887"
             ],
             [
              0.1111111111111111,
              "#46039f"
             ],
             [
              0.2222222222222222,
              "#7201a8"
             ],
             [
              0.3333333333333333,
              "#9c179e"
             ],
             [
              0.4444444444444444,
              "#bd3786"
             ],
             [
              0.5555555555555556,
              "#d8576b"
             ],
             [
              0.6666666666666666,
              "#ed7953"
             ],
             [
              0.7777777777777778,
              "#fb9f3a"
             ],
             [
              0.8888888888888888,
              "#fdca26"
             ],
             [
              1,
              "#f0f921"
             ]
            ],
            "type": "surface"
           }
          ],
          "table": [
           {
            "cells": {
             "fill": {
              "color": "#EBF0F8"
             },
             "line": {
              "color": "white"
             }
            },
            "header": {
             "fill": {
              "color": "#C8D4E3"
             },
             "line": {
              "color": "white"
             }
            },
            "type": "table"
           }
          ]
         },
         "layout": {
          "annotationdefaults": {
           "arrowcolor": "#2a3f5f",
           "arrowhead": 0,
           "arrowwidth": 1
          },
          "autotypenumbers": "strict",
          "coloraxis": {
           "colorbar": {
            "outlinewidth": 0,
            "ticks": ""
           }
          },
          "colorscale": {
           "diverging": [
            [
             0,
             "#8e0152"
            ],
            [
             0.1,
             "#c51b7d"
            ],
            [
             0.2,
             "#de77ae"
            ],
            [
             0.3,
             "#f1b6da"
            ],
            [
             0.4,
             "#fde0ef"
            ],
            [
             0.5,
             "#f7f7f7"
            ],
            [
             0.6,
             "#e6f5d0"
            ],
            [
             0.7,
             "#b8e186"
            ],
            [
             0.8,
             "#7fbc41"
            ],
            [
             0.9,
             "#4d9221"
            ],
            [
             1,
             "#276419"
            ]
           ],
           "sequential": [
            [
             0,
             "#0d0887"
            ],
            [
             0.1111111111111111,
             "#46039f"
            ],
            [
             0.2222222222222222,
             "#7201a8"
            ],
            [
             0.3333333333333333,
             "#9c179e"
            ],
            [
             0.4444444444444444,
             "#bd3786"
            ],
            [
             0.5555555555555556,
             "#d8576b"
            ],
            [
             0.6666666666666666,
             "#ed7953"
            ],
            [
             0.7777777777777778,
             "#fb9f3a"
            ],
            [
             0.8888888888888888,
             "#fdca26"
            ],
            [
             1,
             "#f0f921"
            ]
           ],
           "sequentialminus": [
            [
             0,
             "#0d0887"
            ],
            [
             0.1111111111111111,
             "#46039f"
            ],
            [
             0.2222222222222222,
             "#7201a8"
            ],
            [
             0.3333333333333333,
             "#9c179e"
            ],
            [
             0.4444444444444444,
             "#bd3786"
            ],
            [
             0.5555555555555556,
             "#d8576b"
            ],
            [
             0.6666666666666666,
             "#ed7953"
            ],
            [
             0.7777777777777778,
             "#fb9f3a"
            ],
            [
             0.8888888888888888,
             "#fdca26"
            ],
            [
             1,
             "#f0f921"
            ]
           ]
          },
          "colorway": [
           "#636efa",
           "#EF553B",
           "#00cc96",
           "#ab63fa",
           "#FFA15A",
           "#19d3f3",
           "#FF6692",
           "#B6E880",
           "#FF97FF",
           "#FECB52"
          ],
          "font": {
           "color": "#2a3f5f"
          },
          "geo": {
           "bgcolor": "white",
           "lakecolor": "white",
           "landcolor": "#E5ECF6",
           "showlakes": true,
           "showland": true,
           "subunitcolor": "white"
          },
          "hoverlabel": {
           "align": "left"
          },
          "hovermode": "closest",
          "mapbox": {
           "style": "light"
          },
          "paper_bgcolor": "white",
          "plot_bgcolor": "#E5ECF6",
          "polar": {
           "angularaxis": {
            "gridcolor": "white",
            "linecolor": "white",
            "ticks": ""
           },
           "bgcolor": "#E5ECF6",
           "radialaxis": {
            "gridcolor": "white",
            "linecolor": "white",
            "ticks": ""
           }
          },
          "scene": {
           "xaxis": {
            "backgroundcolor": "#E5ECF6",
            "gridcolor": "white",
            "gridwidth": 2,
            "linecolor": "white",
            "showbackground": true,
            "ticks": "",
            "zerolinecolor": "white"
           },
           "yaxis": {
            "backgroundcolor": "#E5ECF6",
            "gridcolor": "white",
            "gridwidth": 2,
            "linecolor": "white",
            "showbackground": true,
            "ticks": "",
            "zerolinecolor": "white"
           },
           "zaxis": {
            "backgroundcolor": "#E5ECF6",
            "gridcolor": "white",
            "gridwidth": 2,
            "linecolor": "white",
            "showbackground": true,
            "ticks": "",
            "zerolinecolor": "white"
           }
          },
          "shapedefaults": {
           "line": {
            "color": "#2a3f5f"
           }
          },
          "ternary": {
           "aaxis": {
            "gridcolor": "white",
            "linecolor": "white",
            "ticks": ""
           },
           "baxis": {
            "gridcolor": "white",
            "linecolor": "white",
            "ticks": ""
           },
           "bgcolor": "#E5ECF6",
           "caxis": {
            "gridcolor": "white",
            "linecolor": "white",
            "ticks": ""
           }
          },
          "title": {
           "x": 0.05
          },
          "xaxis": {
           "automargin": true,
           "gridcolor": "white",
           "linecolor": "white",
           "ticks": "",
           "title": {
            "standoff": 15
           },
           "zerolinecolor": "white",
           "zerolinewidth": 2
          },
          "yaxis": {
           "automargin": true,
           "gridcolor": "white",
           "linecolor": "white",
           "ticks": "",
           "title": {
            "standoff": 15
           },
           "zerolinecolor": "white",
           "zerolinewidth": 2
          }
         }
        },
        "title": {
         "text": "Total Amount per Hour"
        },
        "xaxis": {
         "anchor": "y",
         "domain": [
          0,
          1
         ],
         "title": {
          "text": "Hour"
         }
        },
        "yaxis": {
         "anchor": "x",
         "domain": [
          0,
          1
         ],
         "title": {
          "text": "Total Amount"
         }
        }
       }
      }
     },
     "metadata": {},
     "output_type": "display_data"
    }
   ],
   "source": [
    "# Convert to Pandas DataFrame for visualization\n",
    "hourly_summary_pd = hourly_summary.toPandas()\n",
    "\n",
    "# Create a bar chart for total transactions\n",
    "fig_transactions = px.bar(hourly_summary_pd, x='step', y='total_transactions',\n",
    "                          title='Total Transactions per Hour',\n",
    "                          labels={'step': 'Hour', 'total_transactions': 'Total Transactions'})\n",
    "\n",
    "# Create a bar chart for total amount\n",
    "fig_amounts = px.bar(hourly_summary_pd, x='step', y='total_amount',\n",
    "                     title='Total Amount per Hour',\n",
    "                     labels={'step': 'Hour', 'total_amount': 'Total Amount'})\n",
    "\n",
    "# Show the plots\n",
    "fig_transactions.show()\n",
    "fig_amounts.show()"
   ]
  },
  {
   "cell_type": "markdown",
   "id": "613197cb",
   "metadata": {},
   "source": [
    "### <font color=\"#0d94cd\">Indicateur : Top 10 des heures comptant le plus grand nombre de transactions </font>"
   ]
  },
  {
   "cell_type": "code",
   "execution_count": 7,
   "id": "a426de05",
   "metadata": {},
   "outputs": [
    {
     "name": "stdout",
     "output_type": "stream",
     "text": [
      "Top 10 des heures comptant le plus grand nombre de transactions:\n",
      "+----+-----------------+\n",
      "|step|transaction_count|\n",
      "+----+-----------------+\n",
      "|  19|            51352|\n",
      "|  18|            49579|\n",
      "| 187|            49083|\n",
      "| 235|            47491|\n",
      "| 307|            46968|\n",
      "| 163|            46352|\n",
      "| 139|            46054|\n",
      "| 403|            45155|\n",
      "|  43|            45060|\n",
      "| 355|            44787|\n",
      "+----+-----------------+\n",
      "\n"
     ]
    }
   ],
   "source": [
    "# Regrouper par 'step' and compter les transactions\n",
    "hourly_transactions = df.groupBy(\"step\").agg(count(\"*\").alias(\"transaction_count\"))\n",
    "\n",
    "# Trouver les 10 heures avec le plus grand nombre de transactions\n",
    "top_10_hours = hourly_transactions.orderBy(\"transaction_count\", ascending=False).limit(10)\n",
    "\n",
    "# Afficher les résultats\n",
    "print(\"Top 10 des heures comptant le plus grand nombre de transactions:\")\n",
    "top_10_hours.show()"
   ]
  },
  {
   "cell_type": "code",
   "execution_count": null,
   "id": "8441ada6",
   "metadata": {},
   "outputs": [
    {
     "data": {
      "application/vnd.plotly.v1+json": {
       "config": {
        "plotlyServerURL": "https://plot.ly"
       },
       "data": [
        {
         "marker": {
          "color": "rgb(158,202,225)",
          "line": {
           "color": "rgb(8,48,107)",
           "width": 1.5
          }
         },
         "opacity": 0.6,
         "type": "bar",
         "x": [
          19,
          18,
          187,
          235,
          307,
          163,
          139,
          403,
          43,
          355
         ],
         "y": [
          51352,
          49579,
          49083,
          47491,
          46968,
          46352,
          46054,
          45155,
          45060,
          44787
         ]
        }
       ],
       "layout": {
        "paper_bgcolor": "rgba(0,0,0,0)",
        "plot_bgcolor": "rgba(0,0,0,0)",
        "template": {
         "data": {
          "bar": [
           {
            "error_x": {
             "color": "#2a3f5f"
            },
            "error_y": {
             "color": "#2a3f5f"
            },
            "marker": {
             "line": {
              "color": "#E5ECF6",
              "width": 0.5
             },
             "pattern": {
              "fillmode": "overlay",
              "size": 10,
              "solidity": 0.2
             }
            },
            "type": "bar"
           }
          ],
          "barpolar": [
           {
            "marker": {
             "line": {
              "color": "#E5ECF6",
              "width": 0.5
             },
             "pattern": {
              "fillmode": "overlay",
              "size": 10,
              "solidity": 0.2
             }
            },
            "type": "barpolar"
           }
          ],
          "carpet": [
           {
            "aaxis": {
             "endlinecolor": "#2a3f5f",
             "gridcolor": "white",
             "linecolor": "white",
             "minorgridcolor": "white",
             "startlinecolor": "#2a3f5f"
            },
            "baxis": {
             "endlinecolor": "#2a3f5f",
             "gridcolor": "white",
             "linecolor": "white",
             "minorgridcolor": "white",
             "startlinecolor": "#2a3f5f"
            },
            "type": "carpet"
           }
          ],
          "choropleth": [
           {
            "colorbar": {
             "outlinewidth": 0,
             "ticks": ""
            },
            "type": "choropleth"
           }
          ],
          "contour": [
           {
            "colorbar": {
             "outlinewidth": 0,
             "ticks": ""
            },
            "colorscale": [
             [
              0,
              "#0d0887"
             ],
             [
              0.1111111111111111,
              "#46039f"
             ],
             [
              0.2222222222222222,
              "#7201a8"
             ],
             [
              0.3333333333333333,
              "#9c179e"
             ],
             [
              0.4444444444444444,
              "#bd3786"
             ],
             [
              0.5555555555555556,
              "#d8576b"
             ],
             [
              0.6666666666666666,
              "#ed7953"
             ],
             [
              0.7777777777777778,
              "#fb9f3a"
             ],
             [
              0.8888888888888888,
              "#fdca26"
             ],
             [
              1,
              "#f0f921"
             ]
            ],
            "type": "contour"
           }
          ],
          "contourcarpet": [
           {
            "colorbar": {
             "outlinewidth": 0,
             "ticks": ""
            },
            "type": "contourcarpet"
           }
          ],
          "heatmap": [
           {
            "colorbar": {
             "outlinewidth": 0,
             "ticks": ""
            },
            "colorscale": [
             [
              0,
              "#0d0887"
             ],
             [
              0.1111111111111111,
              "#46039f"
             ],
             [
              0.2222222222222222,
              "#7201a8"
             ],
             [
              0.3333333333333333,
              "#9c179e"
             ],
             [
              0.4444444444444444,
              "#bd3786"
             ],
             [
              0.5555555555555556,
              "#d8576b"
             ],
             [
              0.6666666666666666,
              "#ed7953"
             ],
             [
              0.7777777777777778,
              "#fb9f3a"
             ],
             [
              0.8888888888888888,
              "#fdca26"
             ],
             [
              1,
              "#f0f921"
             ]
            ],
            "type": "heatmap"
           }
          ],
          "heatmapgl": [
           {
            "colorbar": {
             "outlinewidth": 0,
             "ticks": ""
            },
            "colorscale": [
             [
              0,
              "#0d0887"
             ],
             [
              0.1111111111111111,
              "#46039f"
             ],
             [
              0.2222222222222222,
              "#7201a8"
             ],
             [
              0.3333333333333333,
              "#9c179e"
             ],
             [
              0.4444444444444444,
              "#bd3786"
             ],
             [
              0.5555555555555556,
              "#d8576b"
             ],
             [
              0.6666666666666666,
              "#ed7953"
             ],
             [
              0.7777777777777778,
              "#fb9f3a"
             ],
             [
              0.8888888888888888,
              "#fdca26"
             ],
             [
              1,
              "#f0f921"
             ]
            ],
            "type": "heatmapgl"
           }
          ],
          "histogram": [
           {
            "marker": {
             "pattern": {
              "fillmode": "overlay",
              "size": 10,
              "solidity": 0.2
             }
            },
            "type": "histogram"
           }
          ],
          "histogram2d": [
           {
            "colorbar": {
             "outlinewidth": 0,
             "ticks": ""
            },
            "colorscale": [
             [
              0,
              "#0d0887"
             ],
             [
              0.1111111111111111,
              "#46039f"
             ],
             [
              0.2222222222222222,
              "#7201a8"
             ],
             [
              0.3333333333333333,
              "#9c179e"
             ],
             [
              0.4444444444444444,
              "#bd3786"
             ],
             [
              0.5555555555555556,
              "#d8576b"
             ],
             [
              0.6666666666666666,
              "#ed7953"
             ],
             [
              0.7777777777777778,
              "#fb9f3a"
             ],
             [
              0.8888888888888888,
              "#fdca26"
             ],
             [
              1,
              "#f0f921"
             ]
            ],
            "type": "histogram2d"
           }
          ],
          "histogram2dcontour": [
           {
            "colorbar": {
             "outlinewidth": 0,
             "ticks": ""
            },
            "colorscale": [
             [
              0,
              "#0d0887"
             ],
             [
              0.1111111111111111,
              "#46039f"
             ],
             [
              0.2222222222222222,
              "#7201a8"
             ],
             [
              0.3333333333333333,
              "#9c179e"
             ],
             [
              0.4444444444444444,
              "#bd3786"
             ],
             [
              0.5555555555555556,
              "#d8576b"
             ],
             [
              0.6666666666666666,
              "#ed7953"
             ],
             [
              0.7777777777777778,
              "#fb9f3a"
             ],
             [
              0.8888888888888888,
              "#fdca26"
             ],
             [
              1,
              "#f0f921"
             ]
            ],
            "type": "histogram2dcontour"
           }
          ],
          "mesh3d": [
           {
            "colorbar": {
             "outlinewidth": 0,
             "ticks": ""
            },
            "type": "mesh3d"
           }
          ],
          "parcoords": [
           {
            "line": {
             "colorbar": {
              "outlinewidth": 0,
              "ticks": ""
             }
            },
            "type": "parcoords"
           }
          ],
          "pie": [
           {
            "automargin": true,
            "type": "pie"
           }
          ],
          "scatter": [
           {
            "fillpattern": {
             "fillmode": "overlay",
             "size": 10,
             "solidity": 0.2
            },
            "type": "scatter"
           }
          ],
          "scatter3d": [
           {
            "line": {
             "colorbar": {
              "outlinewidth": 0,
              "ticks": ""
             }
            },
            "marker": {
             "colorbar": {
              "outlinewidth": 0,
              "ticks": ""
             }
            },
            "type": "scatter3d"
           }
          ],
          "scattercarpet": [
           {
            "marker": {
             "colorbar": {
              "outlinewidth": 0,
              "ticks": ""
             }
            },
            "type": "scattercarpet"
           }
          ],
          "scattergeo": [
           {
            "marker": {
             "colorbar": {
              "outlinewidth": 0,
              "ticks": ""
             }
            },
            "type": "scattergeo"
           }
          ],
          "scattergl": [
           {
            "marker": {
             "colorbar": {
              "outlinewidth": 0,
              "ticks": ""
             }
            },
            "type": "scattergl"
           }
          ],
          "scattermapbox": [
           {
            "marker": {
             "colorbar": {
              "outlinewidth": 0,
              "ticks": ""
             }
            },
            "type": "scattermapbox"
           }
          ],
          "scatterpolar": [
           {
            "marker": {
             "colorbar": {
              "outlinewidth": 0,
              "ticks": ""
             }
            },
            "type": "scatterpolar"
           }
          ],
          "scatterpolargl": [
           {
            "marker": {
             "colorbar": {
              "outlinewidth": 0,
              "ticks": ""
             }
            },
            "type": "scatterpolargl"
           }
          ],
          "scatterternary": [
           {
            "marker": {
             "colorbar": {
              "outlinewidth": 0,
              "ticks": ""
             }
            },
            "type": "scatterternary"
           }
          ],
          "surface": [
           {
            "colorbar": {
             "outlinewidth": 0,
             "ticks": ""
            },
            "colorscale": [
             [
              0,
              "#0d0887"
             ],
             [
              0.1111111111111111,
              "#46039f"
             ],
             [
              0.2222222222222222,
              "#7201a8"
             ],
             [
              0.3333333333333333,
              "#9c179e"
             ],
             [
              0.4444444444444444,
              "#bd3786"
             ],
             [
              0.5555555555555556,
              "#d8576b"
             ],
             [
              0.6666666666666666,
              "#ed7953"
             ],
             [
              0.7777777777777778,
              "#fb9f3a"
             ],
             [
              0.8888888888888888,
              "#fdca26"
             ],
             [
              1,
              "#f0f921"
             ]
            ],
            "type": "surface"
           }
          ],
          "table": [
           {
            "cells": {
             "fill": {
              "color": "#EBF0F8"
             },
             "line": {
              "color": "white"
             }
            },
            "header": {
             "fill": {
              "color": "#C8D4E3"
             },
             "line": {
              "color": "white"
             }
            },
            "type": "table"
           }
          ]
         },
         "layout": {
          "annotationdefaults": {
           "arrowcolor": "#2a3f5f",
           "arrowhead": 0,
           "arrowwidth": 1
          },
          "autotypenumbers": "strict",
          "coloraxis": {
           "colorbar": {
            "outlinewidth": 0,
            "ticks": ""
           }
          },
          "colorscale": {
           "diverging": [
            [
             0,
             "#8e0152"
            ],
            [
             0.1,
             "#c51b7d"
            ],
            [
             0.2,
             "#de77ae"
            ],
            [
             0.3,
             "#f1b6da"
            ],
            [
             0.4,
             "#fde0ef"
            ],
            [
             0.5,
             "#f7f7f7"
            ],
            [
             0.6,
             "#e6f5d0"
            ],
            [
             0.7,
             "#b8e186"
            ],
            [
             0.8,
             "#7fbc41"
            ],
            [
             0.9,
             "#4d9221"
            ],
            [
             1,
             "#276419"
            ]
           ],
           "sequential": [
            [
             0,
             "#0d0887"
            ],
            [
             0.1111111111111111,
             "#46039f"
            ],
            [
             0.2222222222222222,
             "#7201a8"
            ],
            [
             0.3333333333333333,
             "#9c179e"
            ],
            [
             0.4444444444444444,
             "#bd3786"
            ],
            [
             0.5555555555555556,
             "#d8576b"
            ],
            [
             0.6666666666666666,
             "#ed7953"
            ],
            [
             0.7777777777777778,
             "#fb9f3a"
            ],
            [
             0.8888888888888888,
             "#fdca26"
            ],
            [
             1,
             "#f0f921"
            ]
           ],
           "sequentialminus": [
            [
             0,
             "#0d0887"
            ],
            [
             0.1111111111111111,
             "#46039f"
            ],
            [
             0.2222222222222222,
             "#7201a8"
            ],
            [
             0.3333333333333333,
             "#9c179e"
            ],
            [
             0.4444444444444444,
             "#bd3786"
            ],
            [
             0.5555555555555556,
             "#d8576b"
            ],
            [
             0.6666666666666666,
             "#ed7953"
            ],
            [
             0.7777777777777778,
             "#fb9f3a"
            ],
            [
             0.8888888888888888,
             "#fdca26"
            ],
            [
             1,
             "#f0f921"
            ]
           ]
          },
          "colorway": [
           "#636efa",
           "#EF553B",
           "#00cc96",
           "#ab63fa",
           "#FFA15A",
           "#19d3f3",
           "#FF6692",
           "#B6E880",
           "#FF97FF",
           "#FECB52"
          ],
          "font": {
           "color": "#2a3f5f"
          },
          "geo": {
           "bgcolor": "white",
           "lakecolor": "white",
           "landcolor": "#E5ECF6",
           "showlakes": true,
           "showland": true,
           "subunitcolor": "white"
          },
          "hoverlabel": {
           "align": "left"
          },
          "hovermode": "closest",
          "mapbox": {
           "style": "light"
          },
          "paper_bgcolor": "white",
          "plot_bgcolor": "#E5ECF6",
          "polar": {
           "angularaxis": {
            "gridcolor": "white",
            "linecolor": "white",
            "ticks": ""
           },
           "bgcolor": "#E5ECF6",
           "radialaxis": {
            "gridcolor": "white",
            "linecolor": "white",
            "ticks": ""
           }
          },
          "scene": {
           "xaxis": {
            "backgroundcolor": "#E5ECF6",
            "gridcolor": "white",
            "gridwidth": 2,
            "linecolor": "white",
            "showbackground": true,
            "ticks": "",
            "zerolinecolor": "white"
           },
           "yaxis": {
            "backgroundcolor": "#E5ECF6",
            "gridcolor": "white",
            "gridwidth": 2,
            "linecolor": "white",
            "showbackground": true,
            "ticks": "",
            "zerolinecolor": "white"
           },
           "zaxis": {
            "backgroundcolor": "#E5ECF6",
            "gridcolor": "white",
            "gridwidth": 2,
            "linecolor": "white",
            "showbackground": true,
            "ticks": "",
            "zerolinecolor": "white"
           }
          },
          "shapedefaults": {
           "line": {
            "color": "#2a3f5f"
           }
          },
          "ternary": {
           "aaxis": {
            "gridcolor": "white",
            "linecolor": "white",
            "ticks": ""
           },
           "baxis": {
            "gridcolor": "white",
            "linecolor": "white",
            "ticks": ""
           },
           "bgcolor": "#E5ECF6",
           "caxis": {
            "gridcolor": "white",
            "linecolor": "white",
            "ticks": ""
           }
          },
          "title": {
           "x": 0.05
          },
          "xaxis": {
           "automargin": true,
           "gridcolor": "white",
           "linecolor": "white",
           "ticks": "",
           "title": {
            "standoff": 15
           },
           "zerolinecolor": "white",
           "zerolinewidth": 2
          },
          "yaxis": {
           "automargin": true,
           "gridcolor": "white",
           "linecolor": "white",
           "ticks": "",
           "title": {
            "standoff": 15
           },
           "zerolinecolor": "white",
           "zerolinewidth": 2
          }
         }
        },
        "title": {
         "text": "Top 10 des heures avec le plus grand nombre de transactions"
        },
        "xaxis": {
         "title": {
          "text": "Heure (step)"
         }
        },
        "yaxis": {
         "title": {
          "text": "Nombre de transactions"
         }
        }
       }
      }
     },
     "metadata": {},
     "output_type": "display_data"
    }
   ],
   "source": [
    "\n",
    "# Convertir le DataFrame Spark en un Pandas DataFrame pour Plotly\n",
    "pandas_df = top_10_hours.toPandas()\n",
    "\n",
    "# Créer le graphique à barres\n",
    "fig = go.Figure(data=[go.Bar(\n",
    "    x=pandas_df[\"step\"],\n",
    "    y=pandas_df[\"transaction_count\"],\n",
    "    marker_color='rgb(158,202,225)',\n",
    "    marker_line_color='rgb(8,48,107)',\n",
    "    marker_line_width=1.5,\n",
    "    opacity=0.6\n",
    ")])\n",
    "\n",
    "# Personnaliser le graphique\n",
    "fig.update_layout(\n",
    "    title='Top 10 des heures avec le plus grand nombre de transactions',\n",
    "    xaxis_title='Heure (step)',\n",
    "    yaxis_title='Nombre de transactions',\n",
    "    plot_bgcolor='rgba(0,0,0,0)',  # Fond transparent\n",
    "    paper_bgcolor='rgba(0,0,0,0)'   # Fond transparent\n",
    ")\n",
    "\n",
    "# Afficher le graphique\n",
    "fig.show()"
   ]
  },
  {
   "cell_type": "markdown",
   "id": "ffce8d11",
   "metadata": {},
   "source": [
    "### <font color=\"#0d94cd\">Indicateur : Top 10 des heures comptant le plus petit nombre de transactions </font>"
   ]
  },
  {
   "cell_type": "code",
   "execution_count": 18,
   "id": "4f1bdce6",
   "metadata": {},
   "outputs": [
    {
     "name": "stdout",
     "output_type": "stream",
     "text": [
      " Top 10 des heures comptant le plus petit nombre de transactions :\n",
      "+----+-----------------+\n",
      "|step|transaction_count|\n",
      "+----+-----------------+\n",
      "| 112|                2|\n",
      "| 662|                2|\n",
      "| 729|                4|\n",
      "| 197|                4|\n",
      "| 246|                4|\n",
      "| 245|                4|\n",
      "|  54|                4|\n",
      "| 293|                4|\n",
      "|  29|                4|\n",
      "| 593|                4|\n",
      "+----+-----------------+\n",
      "\n"
     ]
    }
   ],
   "source": [
    "# Regrouper par 'step' and compter les transactions\n",
    "hourly_transactions = df.groupBy(\"step\").agg(count(\"*\").alias(\"transaction_count\"))\n",
    "\n",
    "# Trouver les 10 heures avec le plus petit nombre de transactions\n",
    "top_10_least_hours = hourly_transactions.orderBy(\"transaction_count\").limit(10)\n",
    "\n",
    "# Afficher les résultats\n",
    "print(\" Top 10 des heures comptant le plus petit nombre de transactions :\")\n",
    "top_10_least_hours.show()"
   ]
  },
  {
   "cell_type": "code",
   "execution_count": 19,
   "id": "4de80271",
   "metadata": {},
   "outputs": [
    {
     "data": {
      "application/vnd.plotly.v1+json": {
       "config": {
        "plotlyServerURL": "https://plot.ly"
       },
       "data": [
        {
         "marker": {
          "color": "rgb(255, 165, 0)",
          "line": {
           "color": "rgb(205, 133, 63)",
           "width": 1.5
          }
         },
         "opacity": 0.8,
         "type": "bar",
         "x": [
          112,
          662,
          729,
          197,
          246,
          245,
          54,
          293,
          29,
          593
         ],
         "y": [
          2,
          2,
          4,
          4,
          4,
          4,
          4,
          4,
          4,
          4
         ]
        }
       ],
       "layout": {
        "paper_bgcolor": "rgba(0,0,0,0)",
        "plot_bgcolor": "rgba(0,0,0,0)",
        "template": {
         "data": {
          "bar": [
           {
            "error_x": {
             "color": "#2a3f5f"
            },
            "error_y": {
             "color": "#2a3f5f"
            },
            "marker": {
             "line": {
              "color": "#E5ECF6",
              "width": 0.5
             },
             "pattern": {
              "fillmode": "overlay",
              "size": 10,
              "solidity": 0.2
             }
            },
            "type": "bar"
           }
          ],
          "barpolar": [
           {
            "marker": {
             "line": {
              "color": "#E5ECF6",
              "width": 0.5
             },
             "pattern": {
              "fillmode": "overlay",
              "size": 10,
              "solidity": 0.2
             }
            },
            "type": "barpolar"
           }
          ],
          "carpet": [
           {
            "aaxis": {
             "endlinecolor": "#2a3f5f",
             "gridcolor": "white",
             "linecolor": "white",
             "minorgridcolor": "white",
             "startlinecolor": "#2a3f5f"
            },
            "baxis": {
             "endlinecolor": "#2a3f5f",
             "gridcolor": "white",
             "linecolor": "white",
             "minorgridcolor": "white",
             "startlinecolor": "#2a3f5f"
            },
            "type": "carpet"
           }
          ],
          "choropleth": [
           {
            "colorbar": {
             "outlinewidth": 0,
             "ticks": ""
            },
            "type": "choropleth"
           }
          ],
          "contour": [
           {
            "colorbar": {
             "outlinewidth": 0,
             "ticks": ""
            },
            "colorscale": [
             [
              0,
              "#0d0887"
             ],
             [
              0.1111111111111111,
              "#46039f"
             ],
             [
              0.2222222222222222,
              "#7201a8"
             ],
             [
              0.3333333333333333,
              "#9c179e"
             ],
             [
              0.4444444444444444,
              "#bd3786"
             ],
             [
              0.5555555555555556,
              "#d8576b"
             ],
             [
              0.6666666666666666,
              "#ed7953"
             ],
             [
              0.7777777777777778,
              "#fb9f3a"
             ],
             [
              0.8888888888888888,
              "#fdca26"
             ],
             [
              1,
              "#f0f921"
             ]
            ],
            "type": "contour"
           }
          ],
          "contourcarpet": [
           {
            "colorbar": {
             "outlinewidth": 0,
             "ticks": ""
            },
            "type": "contourcarpet"
           }
          ],
          "heatmap": [
           {
            "colorbar": {
             "outlinewidth": 0,
             "ticks": ""
            },
            "colorscale": [
             [
              0,
              "#0d0887"
             ],
             [
              0.1111111111111111,
              "#46039f"
             ],
             [
              0.2222222222222222,
              "#7201a8"
             ],
             [
              0.3333333333333333,
              "#9c179e"
             ],
             [
              0.4444444444444444,
              "#bd3786"
             ],
             [
              0.5555555555555556,
              "#d8576b"
             ],
             [
              0.6666666666666666,
              "#ed7953"
             ],
             [
              0.7777777777777778,
              "#fb9f3a"
             ],
             [
              0.8888888888888888,
              "#fdca26"
             ],
             [
              1,
              "#f0f921"
             ]
            ],
            "type": "heatmap"
           }
          ],
          "heatmapgl": [
           {
            "colorbar": {
             "outlinewidth": 0,
             "ticks": ""
            },
            "colorscale": [
             [
              0,
              "#0d0887"
             ],
             [
              0.1111111111111111,
              "#46039f"
             ],
             [
              0.2222222222222222,
              "#7201a8"
             ],
             [
              0.3333333333333333,
              "#9c179e"
             ],
             [
              0.4444444444444444,
              "#bd3786"
             ],
             [
              0.5555555555555556,
              "#d8576b"
             ],
             [
              0.6666666666666666,
              "#ed7953"
             ],
             [
              0.7777777777777778,
              "#fb9f3a"
             ],
             [
              0.8888888888888888,
              "#fdca26"
             ],
             [
              1,
              "#f0f921"
             ]
            ],
            "type": "heatmapgl"
           }
          ],
          "histogram": [
           {
            "marker": {
             "pattern": {
              "fillmode": "overlay",
              "size": 10,
              "solidity": 0.2
             }
            },
            "type": "histogram"
           }
          ],
          "histogram2d": [
           {
            "colorbar": {
             "outlinewidth": 0,
             "ticks": ""
            },
            "colorscale": [
             [
              0,
              "#0d0887"
             ],
             [
              0.1111111111111111,
              "#46039f"
             ],
             [
              0.2222222222222222,
              "#7201a8"
             ],
             [
              0.3333333333333333,
              "#9c179e"
             ],
             [
              0.4444444444444444,
              "#bd3786"
             ],
             [
              0.5555555555555556,
              "#d8576b"
             ],
             [
              0.6666666666666666,
              "#ed7953"
             ],
             [
              0.7777777777777778,
              "#fb9f3a"
             ],
             [
              0.8888888888888888,
              "#fdca26"
             ],
             [
              1,
              "#f0f921"
             ]
            ],
            "type": "histogram2d"
           }
          ],
          "histogram2dcontour": [
           {
            "colorbar": {
             "outlinewidth": 0,
             "ticks": ""
            },
            "colorscale": [
             [
              0,
              "#0d0887"
             ],
             [
              0.1111111111111111,
              "#46039f"
             ],
             [
              0.2222222222222222,
              "#7201a8"
             ],
             [
              0.3333333333333333,
              "#9c179e"
             ],
             [
              0.4444444444444444,
              "#bd3786"
             ],
             [
              0.5555555555555556,
              "#d8576b"
             ],
             [
              0.6666666666666666,
              "#ed7953"
             ],
             [
              0.7777777777777778,
              "#fb9f3a"
             ],
             [
              0.8888888888888888,
              "#fdca26"
             ],
             [
              1,
              "#f0f921"
             ]
            ],
            "type": "histogram2dcontour"
           }
          ],
          "mesh3d": [
           {
            "colorbar": {
             "outlinewidth": 0,
             "ticks": ""
            },
            "type": "mesh3d"
           }
          ],
          "parcoords": [
           {
            "line": {
             "colorbar": {
              "outlinewidth": 0,
              "ticks": ""
             }
            },
            "type": "parcoords"
           }
          ],
          "pie": [
           {
            "automargin": true,
            "type": "pie"
           }
          ],
          "scatter": [
           {
            "fillpattern": {
             "fillmode": "overlay",
             "size": 10,
             "solidity": 0.2
            },
            "type": "scatter"
           }
          ],
          "scatter3d": [
           {
            "line": {
             "colorbar": {
              "outlinewidth": 0,
              "ticks": ""
             }
            },
            "marker": {
             "colorbar": {
              "outlinewidth": 0,
              "ticks": ""
             }
            },
            "type": "scatter3d"
           }
          ],
          "scattercarpet": [
           {
            "marker": {
             "colorbar": {
              "outlinewidth": 0,
              "ticks": ""
             }
            },
            "type": "scattercarpet"
           }
          ],
          "scattergeo": [
           {
            "marker": {
             "colorbar": {
              "outlinewidth": 0,
              "ticks": ""
             }
            },
            "type": "scattergeo"
           }
          ],
          "scattergl": [
           {
            "marker": {
             "colorbar": {
              "outlinewidth": 0,
              "ticks": ""
             }
            },
            "type": "scattergl"
           }
          ],
          "scattermapbox": [
           {
            "marker": {
             "colorbar": {
              "outlinewidth": 0,
              "ticks": ""
             }
            },
            "type": "scattermapbox"
           }
          ],
          "scatterpolar": [
           {
            "marker": {
             "colorbar": {
              "outlinewidth": 0,
              "ticks": ""
             }
            },
            "type": "scatterpolar"
           }
          ],
          "scatterpolargl": [
           {
            "marker": {
             "colorbar": {
              "outlinewidth": 0,
              "ticks": ""
             }
            },
            "type": "scatterpolargl"
           }
          ],
          "scatterternary": [
           {
            "marker": {
             "colorbar": {
              "outlinewidth": 0,
              "ticks": ""
             }
            },
            "type": "scatterternary"
           }
          ],
          "surface": [
           {
            "colorbar": {
             "outlinewidth": 0,
             "ticks": ""
            },
            "colorscale": [
             [
              0,
              "#0d0887"
             ],
             [
              0.1111111111111111,
              "#46039f"
             ],
             [
              0.2222222222222222,
              "#7201a8"
             ],
             [
              0.3333333333333333,
              "#9c179e"
             ],
             [
              0.4444444444444444,
              "#bd3786"
             ],
             [
              0.5555555555555556,
              "#d8576b"
             ],
             [
              0.6666666666666666,
              "#ed7953"
             ],
             [
              0.7777777777777778,
              "#fb9f3a"
             ],
             [
              0.8888888888888888,
              "#fdca26"
             ],
             [
              1,
              "#f0f921"
             ]
            ],
            "type": "surface"
           }
          ],
          "table": [
           {
            "cells": {
             "fill": {
              "color": "#EBF0F8"
             },
             "line": {
              "color": "white"
             }
            },
            "header": {
             "fill": {
              "color": "#C8D4E3"
             },
             "line": {
              "color": "white"
             }
            },
            "type": "table"
           }
          ]
         },
         "layout": {
          "annotationdefaults": {
           "arrowcolor": "#2a3f5f",
           "arrowhead": 0,
           "arrowwidth": 1
          },
          "autotypenumbers": "strict",
          "coloraxis": {
           "colorbar": {
            "outlinewidth": 0,
            "ticks": ""
           }
          },
          "colorscale": {
           "diverging": [
            [
             0,
             "#8e0152"
            ],
            [
             0.1,
             "#c51b7d"
            ],
            [
             0.2,
             "#de77ae"
            ],
            [
             0.3,
             "#f1b6da"
            ],
            [
             0.4,
             "#fde0ef"
            ],
            [
             0.5,
             "#f7f7f7"
            ],
            [
             0.6,
             "#e6f5d0"
            ],
            [
             0.7,
             "#b8e186"
            ],
            [
             0.8,
             "#7fbc41"
            ],
            [
             0.9,
             "#4d9221"
            ],
            [
             1,
             "#276419"
            ]
           ],
           "sequential": [
            [
             0,
             "#0d0887"
            ],
            [
             0.1111111111111111,
             "#46039f"
            ],
            [
             0.2222222222222222,
             "#7201a8"
            ],
            [
             0.3333333333333333,
             "#9c179e"
            ],
            [
             0.4444444444444444,
             "#bd3786"
            ],
            [
             0.5555555555555556,
             "#d8576b"
            ],
            [
             0.6666666666666666,
             "#ed7953"
            ],
            [
             0.7777777777777778,
             "#fb9f3a"
            ],
            [
             0.8888888888888888,
             "#fdca26"
            ],
            [
             1,
             "#f0f921"
            ]
           ],
           "sequentialminus": [
            [
             0,
             "#0d0887"
            ],
            [
             0.1111111111111111,
             "#46039f"
            ],
            [
             0.2222222222222222,
             "#7201a8"
            ],
            [
             0.3333333333333333,
             "#9c179e"
            ],
            [
             0.4444444444444444,
             "#bd3786"
            ],
            [
             0.5555555555555556,
             "#d8576b"
            ],
            [
             0.6666666666666666,
             "#ed7953"
            ],
            [
             0.7777777777777778,
             "#fb9f3a"
            ],
            [
             0.8888888888888888,
             "#fdca26"
            ],
            [
             1,
             "#f0f921"
            ]
           ]
          },
          "colorway": [
           "#636efa",
           "#EF553B",
           "#00cc96",
           "#ab63fa",
           "#FFA15A",
           "#19d3f3",
           "#FF6692",
           "#B6E880",
           "#FF97FF",
           "#FECB52"
          ],
          "font": {
           "color": "#2a3f5f"
          },
          "geo": {
           "bgcolor": "white",
           "lakecolor": "white",
           "landcolor": "#E5ECF6",
           "showlakes": true,
           "showland": true,
           "subunitcolor": "white"
          },
          "hoverlabel": {
           "align": "left"
          },
          "hovermode": "closest",
          "mapbox": {
           "style": "light"
          },
          "paper_bgcolor": "white",
          "plot_bgcolor": "#E5ECF6",
          "polar": {
           "angularaxis": {
            "gridcolor": "white",
            "linecolor": "white",
            "ticks": ""
           },
           "bgcolor": "#E5ECF6",
           "radialaxis": {
            "gridcolor": "white",
            "linecolor": "white",
            "ticks": ""
           }
          },
          "scene": {
           "xaxis": {
            "backgroundcolor": "#E5ECF6",
            "gridcolor": "white",
            "gridwidth": 2,
            "linecolor": "white",
            "showbackground": true,
            "ticks": "",
            "zerolinecolor": "white"
           },
           "yaxis": {
            "backgroundcolor": "#E5ECF6",
            "gridcolor": "white",
            "gridwidth": 2,
            "linecolor": "white",
            "showbackground": true,
            "ticks": "",
            "zerolinecolor": "white"
           },
           "zaxis": {
            "backgroundcolor": "#E5ECF6",
            "gridcolor": "white",
            "gridwidth": 2,
            "linecolor": "white",
            "showbackground": true,
            "ticks": "",
            "zerolinecolor": "white"
           }
          },
          "shapedefaults": {
           "line": {
            "color": "#2a3f5f"
           }
          },
          "ternary": {
           "aaxis": {
            "gridcolor": "white",
            "linecolor": "white",
            "ticks": ""
           },
           "baxis": {
            "gridcolor": "white",
            "linecolor": "white",
            "ticks": ""
           },
           "bgcolor": "#E5ECF6",
           "caxis": {
            "gridcolor": "white",
            "linecolor": "white",
            "ticks": ""
           }
          },
          "title": {
           "x": 0.05
          },
          "xaxis": {
           "automargin": true,
           "gridcolor": "white",
           "linecolor": "white",
           "ticks": "",
           "title": {
            "standoff": 15
           },
           "zerolinecolor": "white",
           "zerolinewidth": 2
          },
          "yaxis": {
           "automargin": true,
           "gridcolor": "white",
           "linecolor": "white",
           "ticks": "",
           "title": {
            "standoff": 15
           },
           "zerolinecolor": "white",
           "zerolinewidth": 2
          }
         }
        },
        "title": {
         "text": "Top 10 des heures avec le plus petit nombre de transactions"
        },
        "xaxis": {
         "categoryorder": "total ascending",
         "title": {
          "text": "Heure (step)"
         }
        },
        "yaxis": {
         "title": {
          "text": "Nombre de transactions"
         }
        }
       }
      }
     },
     "metadata": {},
     "output_type": "display_data"
    }
   ],
   "source": [
    "import plotly.graph_objects as go\n",
    "from pyspark.sql.functions import col\n",
    "\n",
    "# Gestion d'erreur pour un DataFrame vide\n",
    "try:\n",
    "    # Convertir le DataFrame Spark en Pandas DataFrame\n",
    "    pandas_df = top_10_least_hours.toPandas()\n",
    "\n",
    "    # Créer le graphique à barres\n",
    "    fig = go.Figure(data=[go.Bar(\n",
    "        x=pandas_df[\"step\"],\n",
    "        y=pandas_df[\"transaction_count\"],\n",
    "        marker_color='rgb(255, 165, 0)', # Orange pour la visibilité\n",
    "        marker_line_color='rgb(205, 133, 63)', # Brun foncé pour le contour\n",
    "        marker_line_width=1.5,\n",
    "        opacity=0.8\n",
    "    )])\n",
    "\n",
    "    # Personnaliser le graphique\n",
    "    fig.update_layout(\n",
    "        title='Top 10 des heures avec le plus petit nombre de transactions',\n",
    "        xaxis_title='Heure (step)',\n",
    "        yaxis_title='Nombre de transactions',\n",
    "        plot_bgcolor='rgba(0,0,0,0)',  # Fond transparent\n",
    "        paper_bgcolor='rgba(0,0,0,0)',  # Fond transparent\n",
    "        xaxis={'categoryorder':'total ascending'} # Trie les catégories par ordre croissant du nombre total\n",
    "    )\n",
    "\n",
    "    # Afficher le graphique\n",
    "    fig.show()\n",
    "except Exception as e:\n",
    "    print(f\"Une erreur s'est produite : {e}\")\n",
    "    print(\"Veuillez vérifier que le DataFrame 'top_10_least_hours' est correctement défini et non vide.\")"
   ]
  },
  {
   "cell_type": "markdown",
   "id": "560ad96f",
   "metadata": {},
   "source": [
    "### <font color=\"#0d94cd\">Indicateur : Top 10 des heures comptant le plus grand montant de transactions </font>"
   ]
  },
  {
   "cell_type": "code",
   "execution_count": 15,
   "id": "08863b26",
   "metadata": {},
   "outputs": [
    {
     "name": "stdout",
     "output_type": "stream",
     "text": [
      "Top 10 des heures comptant le plus grand montant de transactions:\n",
      "+----+--------------------+\n",
      "|step|        total_amount|\n",
      "+----+--------------------+\n",
      "| 304|2.496355034394003...|\n",
      "| 305|1.900524656595013E10|\n",
      "| 327|1.432407214133000...|\n",
      "| 303|1.172471495912000...|\n",
      "| 328|1.164770910403008...|\n",
      "| 300| 9.602057363439966E9|\n",
      "| 298| 9.417978632749947E9|\n",
      "| 302| 9.284963497209927E9|\n",
      "| 301| 8.875641423119991E9|\n",
      "| 299| 8.851568808700045E9|\n",
      "+----+--------------------+\n",
      "\n"
     ]
    }
   ],
   "source": [
    "# Regrouper par 'step' and compter les transactions\n",
    "hourly_amounts = df.groupBy(\"step\").agg(sum(\"amount\").alias(\"total_amount\"))\n",
    "\n",
    "# Obtenir le top 10 des heures avec le plus grand nombre de transactions \n",
    "top_10_hours = hourly_amounts.orderBy(\"total_amount\", ascending=False).limit(10)\n",
    "\n",
    "# Afficher les résultats\n",
    "print(\"Top 10 des heures comptant le plus grand montant de transactions:\")\n",
    "top_10_hours.show()"
   ]
  },
  {
   "cell_type": "code",
   "execution_count": 16,
   "id": "e7a9a20a",
   "metadata": {},
   "outputs": [
    {
     "data": {
      "application/vnd.plotly.v1+json": {
       "config": {
        "plotlyServerURL": "https://plot.ly"
       },
       "data": [
        {
         "marker": {
          "color": "rgb(50,171,96)",
          "line": {
           "color": "rgb(34,139,34)",
           "width": 1.5
          }
         },
         "opacity": 0.8,
         "type": "bar",
         "x": [
          304,
          305,
          327,
          303,
          328,
          300,
          298,
          302,
          301,
          299
         ],
         "y": [
          24963550343.940037,
          19005246565.95013,
          14324072141.330004,
          11724714959.120007,
          11647709104.030085,
          9602057363.439966,
          9417978632.749947,
          9284963497.209927,
          8875641423.119991,
          8851568808.700045
         ]
        }
       ],
       "layout": {
        "paper_bgcolor": "rgba(0,0,0,0)",
        "plot_bgcolor": "rgba(0,0,0,0)",
        "template": {
         "data": {
          "bar": [
           {
            "error_x": {
             "color": "#2a3f5f"
            },
            "error_y": {
             "color": "#2a3f5f"
            },
            "marker": {
             "line": {
              "color": "#E5ECF6",
              "width": 0.5
             },
             "pattern": {
              "fillmode": "overlay",
              "size": 10,
              "solidity": 0.2
             }
            },
            "type": "bar"
           }
          ],
          "barpolar": [
           {
            "marker": {
             "line": {
              "color": "#E5ECF6",
              "width": 0.5
             },
             "pattern": {
              "fillmode": "overlay",
              "size": 10,
              "solidity": 0.2
             }
            },
            "type": "barpolar"
           }
          ],
          "carpet": [
           {
            "aaxis": {
             "endlinecolor": "#2a3f5f",
             "gridcolor": "white",
             "linecolor": "white",
             "minorgridcolor": "white",
             "startlinecolor": "#2a3f5f"
            },
            "baxis": {
             "endlinecolor": "#2a3f5f",
             "gridcolor": "white",
             "linecolor": "white",
             "minorgridcolor": "white",
             "startlinecolor": "#2a3f5f"
            },
            "type": "carpet"
           }
          ],
          "choropleth": [
           {
            "colorbar": {
             "outlinewidth": 0,
             "ticks": ""
            },
            "type": "choropleth"
           }
          ],
          "contour": [
           {
            "colorbar": {
             "outlinewidth": 0,
             "ticks": ""
            },
            "colorscale": [
             [
              0,
              "#0d0887"
             ],
             [
              0.1111111111111111,
              "#46039f"
             ],
             [
              0.2222222222222222,
              "#7201a8"
             ],
             [
              0.3333333333333333,
              "#9c179e"
             ],
             [
              0.4444444444444444,
              "#bd3786"
             ],
             [
              0.5555555555555556,
              "#d8576b"
             ],
             [
              0.6666666666666666,
              "#ed7953"
             ],
             [
              0.7777777777777778,
              "#fb9f3a"
             ],
             [
              0.8888888888888888,
              "#fdca26"
             ],
             [
              1,
              "#f0f921"
             ]
            ],
            "type": "contour"
           }
          ],
          "contourcarpet": [
           {
            "colorbar": {
             "outlinewidth": 0,
             "ticks": ""
            },
            "type": "contourcarpet"
           }
          ],
          "heatmap": [
           {
            "colorbar": {
             "outlinewidth": 0,
             "ticks": ""
            },
            "colorscale": [
             [
              0,
              "#0d0887"
             ],
             [
              0.1111111111111111,
              "#46039f"
             ],
             [
              0.2222222222222222,
              "#7201a8"
             ],
             [
              0.3333333333333333,
              "#9c179e"
             ],
             [
              0.4444444444444444,
              "#bd3786"
             ],
             [
              0.5555555555555556,
              "#d8576b"
             ],
             [
              0.6666666666666666,
              "#ed7953"
             ],
             [
              0.7777777777777778,
              "#fb9f3a"
             ],
             [
              0.8888888888888888,
              "#fdca26"
             ],
             [
              1,
              "#f0f921"
             ]
            ],
            "type": "heatmap"
           }
          ],
          "heatmapgl": [
           {
            "colorbar": {
             "outlinewidth": 0,
             "ticks": ""
            },
            "colorscale": [
             [
              0,
              "#0d0887"
             ],
             [
              0.1111111111111111,
              "#46039f"
             ],
             [
              0.2222222222222222,
              "#7201a8"
             ],
             [
              0.3333333333333333,
              "#9c179e"
             ],
             [
              0.4444444444444444,
              "#bd3786"
             ],
             [
              0.5555555555555556,
              "#d8576b"
             ],
             [
              0.6666666666666666,
              "#ed7953"
             ],
             [
              0.7777777777777778,
              "#fb9f3a"
             ],
             [
              0.8888888888888888,
              "#fdca26"
             ],
             [
              1,
              "#f0f921"
             ]
            ],
            "type": "heatmapgl"
           }
          ],
          "histogram": [
           {
            "marker": {
             "pattern": {
              "fillmode": "overlay",
              "size": 10,
              "solidity": 0.2
             }
            },
            "type": "histogram"
           }
          ],
          "histogram2d": [
           {
            "colorbar": {
             "outlinewidth": 0,
             "ticks": ""
            },
            "colorscale": [
             [
              0,
              "#0d0887"
             ],
             [
              0.1111111111111111,
              "#46039f"
             ],
             [
              0.2222222222222222,
              "#7201a8"
             ],
             [
              0.3333333333333333,
              "#9c179e"
             ],
             [
              0.4444444444444444,
              "#bd3786"
             ],
             [
              0.5555555555555556,
              "#d8576b"
             ],
             [
              0.6666666666666666,
              "#ed7953"
             ],
             [
              0.7777777777777778,
              "#fb9f3a"
             ],
             [
              0.8888888888888888,
              "#fdca26"
             ],
             [
              1,
              "#f0f921"
             ]
            ],
            "type": "histogram2d"
           }
          ],
          "histogram2dcontour": [
           {
            "colorbar": {
             "outlinewidth": 0,
             "ticks": ""
            },
            "colorscale": [
             [
              0,
              "#0d0887"
             ],
             [
              0.1111111111111111,
              "#46039f"
             ],
             [
              0.2222222222222222,
              "#7201a8"
             ],
             [
              0.3333333333333333,
              "#9c179e"
             ],
             [
              0.4444444444444444,
              "#bd3786"
             ],
             [
              0.5555555555555556,
              "#d8576b"
             ],
             [
              0.6666666666666666,
              "#ed7953"
             ],
             [
              0.7777777777777778,
              "#fb9f3a"
             ],
             [
              0.8888888888888888,
              "#fdca26"
             ],
             [
              1,
              "#f0f921"
             ]
            ],
            "type": "histogram2dcontour"
           }
          ],
          "mesh3d": [
           {
            "colorbar": {
             "outlinewidth": 0,
             "ticks": ""
            },
            "type": "mesh3d"
           }
          ],
          "parcoords": [
           {
            "line": {
             "colorbar": {
              "outlinewidth": 0,
              "ticks": ""
             }
            },
            "type": "parcoords"
           }
          ],
          "pie": [
           {
            "automargin": true,
            "type": "pie"
           }
          ],
          "scatter": [
           {
            "fillpattern": {
             "fillmode": "overlay",
             "size": 10,
             "solidity": 0.2
            },
            "type": "scatter"
           }
          ],
          "scatter3d": [
           {
            "line": {
             "colorbar": {
              "outlinewidth": 0,
              "ticks": ""
             }
            },
            "marker": {
             "colorbar": {
              "outlinewidth": 0,
              "ticks": ""
             }
            },
            "type": "scatter3d"
           }
          ],
          "scattercarpet": [
           {
            "marker": {
             "colorbar": {
              "outlinewidth": 0,
              "ticks": ""
             }
            },
            "type": "scattercarpet"
           }
          ],
          "scattergeo": [
           {
            "marker": {
             "colorbar": {
              "outlinewidth": 0,
              "ticks": ""
             }
            },
            "type": "scattergeo"
           }
          ],
          "scattergl": [
           {
            "marker": {
             "colorbar": {
              "outlinewidth": 0,
              "ticks": ""
             }
            },
            "type": "scattergl"
           }
          ],
          "scattermapbox": [
           {
            "marker": {
             "colorbar": {
              "outlinewidth": 0,
              "ticks": ""
             }
            },
            "type": "scattermapbox"
           }
          ],
          "scatterpolar": [
           {
            "marker": {
             "colorbar": {
              "outlinewidth": 0,
              "ticks": ""
             }
            },
            "type": "scatterpolar"
           }
          ],
          "scatterpolargl": [
           {
            "marker": {
             "colorbar": {
              "outlinewidth": 0,
              "ticks": ""
             }
            },
            "type": "scatterpolargl"
           }
          ],
          "scatterternary": [
           {
            "marker": {
             "colorbar": {
              "outlinewidth": 0,
              "ticks": ""
             }
            },
            "type": "scatterternary"
           }
          ],
          "surface": [
           {
            "colorbar": {
             "outlinewidth": 0,
             "ticks": ""
            },
            "colorscale": [
             [
              0,
              "#0d0887"
             ],
             [
              0.1111111111111111,
              "#46039f"
             ],
             [
              0.2222222222222222,
              "#7201a8"
             ],
             [
              0.3333333333333333,
              "#9c179e"
             ],
             [
              0.4444444444444444,
              "#bd3786"
             ],
             [
              0.5555555555555556,
              "#d8576b"
             ],
             [
              0.6666666666666666,
              "#ed7953"
             ],
             [
              0.7777777777777778,
              "#fb9f3a"
             ],
             [
              0.8888888888888888,
              "#fdca26"
             ],
             [
              1,
              "#f0f921"
             ]
            ],
            "type": "surface"
           }
          ],
          "table": [
           {
            "cells": {
             "fill": {
              "color": "#EBF0F8"
             },
             "line": {
              "color": "white"
             }
            },
            "header": {
             "fill": {
              "color": "#C8D4E3"
             },
             "line": {
              "color": "white"
             }
            },
            "type": "table"
           }
          ]
         },
         "layout": {
          "annotationdefaults": {
           "arrowcolor": "#2a3f5f",
           "arrowhead": 0,
           "arrowwidth": 1
          },
          "autotypenumbers": "strict",
          "coloraxis": {
           "colorbar": {
            "outlinewidth": 0,
            "ticks": ""
           }
          },
          "colorscale": {
           "diverging": [
            [
             0,
             "#8e0152"
            ],
            [
             0.1,
             "#c51b7d"
            ],
            [
             0.2,
             "#de77ae"
            ],
            [
             0.3,
             "#f1b6da"
            ],
            [
             0.4,
             "#fde0ef"
            ],
            [
             0.5,
             "#f7f7f7"
            ],
            [
             0.6,
             "#e6f5d0"
            ],
            [
             0.7,
             "#b8e186"
            ],
            [
             0.8,
             "#7fbc41"
            ],
            [
             0.9,
             "#4d9221"
            ],
            [
             1,
             "#276419"
            ]
           ],
           "sequential": [
            [
             0,
             "#0d0887"
            ],
            [
             0.1111111111111111,
             "#46039f"
            ],
            [
             0.2222222222222222,
             "#7201a8"
            ],
            [
             0.3333333333333333,
             "#9c179e"
            ],
            [
             0.4444444444444444,
             "#bd3786"
            ],
            [
             0.5555555555555556,
             "#d8576b"
            ],
            [
             0.6666666666666666,
             "#ed7953"
            ],
            [
             0.7777777777777778,
             "#fb9f3a"
            ],
            [
             0.8888888888888888,
             "#fdca26"
            ],
            [
             1,
             "#f0f921"
            ]
           ],
           "sequentialminus": [
            [
             0,
             "#0d0887"
            ],
            [
             0.1111111111111111,
             "#46039f"
            ],
            [
             0.2222222222222222,
             "#7201a8"
            ],
            [
             0.3333333333333333,
             "#9c179e"
            ],
            [
             0.4444444444444444,
             "#bd3786"
            ],
            [
             0.5555555555555556,
             "#d8576b"
            ],
            [
             0.6666666666666666,
             "#ed7953"
            ],
            [
             0.7777777777777778,
             "#fb9f3a"
            ],
            [
             0.8888888888888888,
             "#fdca26"
            ],
            [
             1,
             "#f0f921"
            ]
           ]
          },
          "colorway": [
           "#636efa",
           "#EF553B",
           "#00cc96",
           "#ab63fa",
           "#FFA15A",
           "#19d3f3",
           "#FF6692",
           "#B6E880",
           "#FF97FF",
           "#FECB52"
          ],
          "font": {
           "color": "#2a3f5f"
          },
          "geo": {
           "bgcolor": "white",
           "lakecolor": "white",
           "landcolor": "#E5ECF6",
           "showlakes": true,
           "showland": true,
           "subunitcolor": "white"
          },
          "hoverlabel": {
           "align": "left"
          },
          "hovermode": "closest",
          "mapbox": {
           "style": "light"
          },
          "paper_bgcolor": "white",
          "plot_bgcolor": "#E5ECF6",
          "polar": {
           "angularaxis": {
            "gridcolor": "white",
            "linecolor": "white",
            "ticks": ""
           },
           "bgcolor": "#E5ECF6",
           "radialaxis": {
            "gridcolor": "white",
            "linecolor": "white",
            "ticks": ""
           }
          },
          "scene": {
           "xaxis": {
            "backgroundcolor": "#E5ECF6",
            "gridcolor": "white",
            "gridwidth": 2,
            "linecolor": "white",
            "showbackground": true,
            "ticks": "",
            "zerolinecolor": "white"
           },
           "yaxis": {
            "backgroundcolor": "#E5ECF6",
            "gridcolor": "white",
            "gridwidth": 2,
            "linecolor": "white",
            "showbackground": true,
            "ticks": "",
            "zerolinecolor": "white"
           },
           "zaxis": {
            "backgroundcolor": "#E5ECF6",
            "gridcolor": "white",
            "gridwidth": 2,
            "linecolor": "white",
            "showbackground": true,
            "ticks": "",
            "zerolinecolor": "white"
           }
          },
          "shapedefaults": {
           "line": {
            "color": "#2a3f5f"
           }
          },
          "ternary": {
           "aaxis": {
            "gridcolor": "white",
            "linecolor": "white",
            "ticks": ""
           },
           "baxis": {
            "gridcolor": "white",
            "linecolor": "white",
            "ticks": ""
           },
           "bgcolor": "#E5ECF6",
           "caxis": {
            "gridcolor": "white",
            "linecolor": "white",
            "ticks": ""
           }
          },
          "title": {
           "x": 0.05
          },
          "xaxis": {
           "automargin": true,
           "gridcolor": "white",
           "linecolor": "white",
           "ticks": "",
           "title": {
            "standoff": 15
           },
           "zerolinecolor": "white",
           "zerolinewidth": 2
          },
          "yaxis": {
           "automargin": true,
           "gridcolor": "white",
           "linecolor": "white",
           "ticks": "",
           "title": {
            "standoff": 15
           },
           "zerolinecolor": "white",
           "zerolinewidth": 2
          }
         }
        },
        "title": {
         "text": "Top 10 des heures avec les plus grands montants de transactions"
        },
        "xaxis": {
         "title": {
          "text": "Heure (step)"
         }
        },
        "yaxis": {
         "title": {
          "text": "Montant total des transactions"
         }
        }
       }
      }
     },
     "metadata": {},
     "output_type": "display_data"
    }
   ],
   "source": [
    "import plotly.graph_objects as go\n",
    "from pyspark.sql.functions import col\n",
    "\n",
    "# Convertir le DataFrame Spark en Pandas DataFrame\n",
    "pandas_df = top_10_hours.toPandas()\n",
    "\n",
    "# Créer le graphique à barres\n",
    "fig = go.Figure(data=[go.Bar(\n",
    "    x=pandas_df[\"step\"],\n",
    "    y=pandas_df[\"total_amount\"],\n",
    "    marker_color='rgb(50,171,96)', # Couleur verte pour le positif\n",
    "    marker_line_color='rgb(34,139,34)', # Couleur verte foncée pour le contour\n",
    "    marker_line_width=1.5,\n",
    "    opacity=0.8\n",
    ")])\n",
    "\n",
    "# Personnaliser le graphique\n",
    "fig.update_layout(\n",
    "    title='Top 10 des heures avec les plus grands montants de transactions',\n",
    "    xaxis_title='Heure (step)',\n",
    "    yaxis_title='Montant total des transactions',\n",
    "    plot_bgcolor='rgba(0,0,0,0)', # Fond transparent\n",
    "    paper_bgcolor='rgba(0,0,0,0)'  # Fond transparent\n",
    ")\n",
    "\n",
    "# Afficher le graphique\n",
    "fig.show()"
   ]
  },
  {
   "cell_type": "markdown",
   "id": "cee1e616",
   "metadata": {},
   "source": [
    "### <font color=\"#0d94cd\">Indicateur : Top 10 des heures comptant le plus petit montant de transactions </font>"
   ]
  },
  {
   "cell_type": "code",
   "execution_count": 11,
   "id": "1174d16c",
   "metadata": {},
   "outputs": [
    {
     "name": "stdout",
     "output_type": "stream",
     "text": [
      "Top 10 Hours with the Smallest Transaction Amounts:\n",
      "+----+------------------+\n",
      "|step|      total_amount|\n",
      "+----+------------------+\n",
      "| 112|           84837.7|\n",
      "| 721|         189712.36|\n",
      "| 626|265400.04000000004|\n",
      "| 484|501135.22000000003|\n",
      "| 539|         556966.14|\n",
      "| 655| 598814.7799999999|\n",
      "| 593|         795846.68|\n",
      "| 623| 842672.1599999999|\n",
      "| 515|         854962.98|\n",
      "| 682|         877562.34|\n",
      "+----+------------------+\n",
      "\n"
     ]
    }
   ],
   "source": [
    "# Regrouper par 'step' and compter les transactions\n",
    "hourly_amounts = df.groupBy(\"step\").agg(sum(\"amount\").alias(\"total_amount\"))\n",
    "\n",
    "# Obtenir le top 10 des heures avec le plus grand nombre de transactions \n",
    "top_10_least_hours = hourly_amounts.orderBy(\"total_amount\").limit(10)\n",
    "\n",
    "# Afficher les résultats\n",
    "print(\"Top 10 Hours with the Smallest Transaction Amounts:\")\n",
    "top_10_least_hours.show()\n",
    "\n"
   ]
  },
  {
   "cell_type": "code",
   "execution_count": 17,
   "id": "d559bd56",
   "metadata": {},
   "outputs": [
    {
     "data": {
      "application/vnd.plotly.v1+json": {
       "config": {
        "plotlyServerURL": "https://plot.ly"
       },
       "data": [
        {
         "marker": {
          "color": "rgb(220,20,60)",
          "line": {
           "color": "rgb(139,0,0)",
           "width": 1.5
          }
         },
         "opacity": 0.8,
         "type": "bar",
         "x": [
          112,
          721,
          626,
          484,
          539,
          655,
          593,
          623,
          515,
          682
         ],
         "y": [
          84837.7,
          189712.36,
          265400.04000000004,
          501135.22000000003,
          556966.14,
          598814.7799999999,
          795846.68,
          842672.1599999999,
          854962.98,
          877562.34
         ]
        }
       ],
       "layout": {
        "paper_bgcolor": "rgba(0,0,0,0)",
        "plot_bgcolor": "rgba(0,0,0,0)",
        "template": {
         "data": {
          "bar": [
           {
            "error_x": {
             "color": "#2a3f5f"
            },
            "error_y": {
             "color": "#2a3f5f"
            },
            "marker": {
             "line": {
              "color": "#E5ECF6",
              "width": 0.5
             },
             "pattern": {
              "fillmode": "overlay",
              "size": 10,
              "solidity": 0.2
             }
            },
            "type": "bar"
           }
          ],
          "barpolar": [
           {
            "marker": {
             "line": {
              "color": "#E5ECF6",
              "width": 0.5
             },
             "pattern": {
              "fillmode": "overlay",
              "size": 10,
              "solidity": 0.2
             }
            },
            "type": "barpolar"
           }
          ],
          "carpet": [
           {
            "aaxis": {
             "endlinecolor": "#2a3f5f",
             "gridcolor": "white",
             "linecolor": "white",
             "minorgridcolor": "white",
             "startlinecolor": "#2a3f5f"
            },
            "baxis": {
             "endlinecolor": "#2a3f5f",
             "gridcolor": "white",
             "linecolor": "white",
             "minorgridcolor": "white",
             "startlinecolor": "#2a3f5f"
            },
            "type": "carpet"
           }
          ],
          "choropleth": [
           {
            "colorbar": {
             "outlinewidth": 0,
             "ticks": ""
            },
            "type": "choropleth"
           }
          ],
          "contour": [
           {
            "colorbar": {
             "outlinewidth": 0,
             "ticks": ""
            },
            "colorscale": [
             [
              0,
              "#0d0887"
             ],
             [
              0.1111111111111111,
              "#46039f"
             ],
             [
              0.2222222222222222,
              "#7201a8"
             ],
             [
              0.3333333333333333,
              "#9c179e"
             ],
             [
              0.4444444444444444,
              "#bd3786"
             ],
             [
              0.5555555555555556,
              "#d8576b"
             ],
             [
              0.6666666666666666,
              "#ed7953"
             ],
             [
              0.7777777777777778,
              "#fb9f3a"
             ],
             [
              0.8888888888888888,
              "#fdca26"
             ],
             [
              1,
              "#f0f921"
             ]
            ],
            "type": "contour"
           }
          ],
          "contourcarpet": [
           {
            "colorbar": {
             "outlinewidth": 0,
             "ticks": ""
            },
            "type": "contourcarpet"
           }
          ],
          "heatmap": [
           {
            "colorbar": {
             "outlinewidth": 0,
             "ticks": ""
            },
            "colorscale": [
             [
              0,
              "#0d0887"
             ],
             [
              0.1111111111111111,
              "#46039f"
             ],
             [
              0.2222222222222222,
              "#7201a8"
             ],
             [
              0.3333333333333333,
              "#9c179e"
             ],
             [
              0.4444444444444444,
              "#bd3786"
             ],
             [
              0.5555555555555556,
              "#d8576b"
             ],
             [
              0.6666666666666666,
              "#ed7953"
             ],
             [
              0.7777777777777778,
              "#fb9f3a"
             ],
             [
              0.8888888888888888,
              "#fdca26"
             ],
             [
              1,
              "#f0f921"
             ]
            ],
            "type": "heatmap"
           }
          ],
          "heatmapgl": [
           {
            "colorbar": {
             "outlinewidth": 0,
             "ticks": ""
            },
            "colorscale": [
             [
              0,
              "#0d0887"
             ],
             [
              0.1111111111111111,
              "#46039f"
             ],
             [
              0.2222222222222222,
              "#7201a8"
             ],
             [
              0.3333333333333333,
              "#9c179e"
             ],
             [
              0.4444444444444444,
              "#bd3786"
             ],
             [
              0.5555555555555556,
              "#d8576b"
             ],
             [
              0.6666666666666666,
              "#ed7953"
             ],
             [
              0.7777777777777778,
              "#fb9f3a"
             ],
             [
              0.8888888888888888,
              "#fdca26"
             ],
             [
              1,
              "#f0f921"
             ]
            ],
            "type": "heatmapgl"
           }
          ],
          "histogram": [
           {
            "marker": {
             "pattern": {
              "fillmode": "overlay",
              "size": 10,
              "solidity": 0.2
             }
            },
            "type": "histogram"
           }
          ],
          "histogram2d": [
           {
            "colorbar": {
             "outlinewidth": 0,
             "ticks": ""
            },
            "colorscale": [
             [
              0,
              "#0d0887"
             ],
             [
              0.1111111111111111,
              "#46039f"
             ],
             [
              0.2222222222222222,
              "#7201a8"
             ],
             [
              0.3333333333333333,
              "#9c179e"
             ],
             [
              0.4444444444444444,
              "#bd3786"
             ],
             [
              0.5555555555555556,
              "#d8576b"
             ],
             [
              0.6666666666666666,
              "#ed7953"
             ],
             [
              0.7777777777777778,
              "#fb9f3a"
             ],
             [
              0.8888888888888888,
              "#fdca26"
             ],
             [
              1,
              "#f0f921"
             ]
            ],
            "type": "histogram2d"
           }
          ],
          "histogram2dcontour": [
           {
            "colorbar": {
             "outlinewidth": 0,
             "ticks": ""
            },
            "colorscale": [
             [
              0,
              "#0d0887"
             ],
             [
              0.1111111111111111,
              "#46039f"
             ],
             [
              0.2222222222222222,
              "#7201a8"
             ],
             [
              0.3333333333333333,
              "#9c179e"
             ],
             [
              0.4444444444444444,
              "#bd3786"
             ],
             [
              0.5555555555555556,
              "#d8576b"
             ],
             [
              0.6666666666666666,
              "#ed7953"
             ],
             [
              0.7777777777777778,
              "#fb9f3a"
             ],
             [
              0.8888888888888888,
              "#fdca26"
             ],
             [
              1,
              "#f0f921"
             ]
            ],
            "type": "histogram2dcontour"
           }
          ],
          "mesh3d": [
           {
            "colorbar": {
             "outlinewidth": 0,
             "ticks": ""
            },
            "type": "mesh3d"
           }
          ],
          "parcoords": [
           {
            "line": {
             "colorbar": {
              "outlinewidth": 0,
              "ticks": ""
             }
            },
            "type": "parcoords"
           }
          ],
          "pie": [
           {
            "automargin": true,
            "type": "pie"
           }
          ],
          "scatter": [
           {
            "fillpattern": {
             "fillmode": "overlay",
             "size": 10,
             "solidity": 0.2
            },
            "type": "scatter"
           }
          ],
          "scatter3d": [
           {
            "line": {
             "colorbar": {
              "outlinewidth": 0,
              "ticks": ""
             }
            },
            "marker": {
             "colorbar": {
              "outlinewidth": 0,
              "ticks": ""
             }
            },
            "type": "scatter3d"
           }
          ],
          "scattercarpet": [
           {
            "marker": {
             "colorbar": {
              "outlinewidth": 0,
              "ticks": ""
             }
            },
            "type": "scattercarpet"
           }
          ],
          "scattergeo": [
           {
            "marker": {
             "colorbar": {
              "outlinewidth": 0,
              "ticks": ""
             }
            },
            "type": "scattergeo"
           }
          ],
          "scattergl": [
           {
            "marker": {
             "colorbar": {
              "outlinewidth": 0,
              "ticks": ""
             }
            },
            "type": "scattergl"
           }
          ],
          "scattermapbox": [
           {
            "marker": {
             "colorbar": {
              "outlinewidth": 0,
              "ticks": ""
             }
            },
            "type": "scattermapbox"
           }
          ],
          "scatterpolar": [
           {
            "marker": {
             "colorbar": {
              "outlinewidth": 0,
              "ticks": ""
             }
            },
            "type": "scatterpolar"
           }
          ],
          "scatterpolargl": [
           {
            "marker": {
             "colorbar": {
              "outlinewidth": 0,
              "ticks": ""
             }
            },
            "type": "scatterpolargl"
           }
          ],
          "scatterternary": [
           {
            "marker": {
             "colorbar": {
              "outlinewidth": 0,
              "ticks": ""
             }
            },
            "type": "scatterternary"
           }
          ],
          "surface": [
           {
            "colorbar": {
             "outlinewidth": 0,
             "ticks": ""
            },
            "colorscale": [
             [
              0,
              "#0d0887"
             ],
             [
              0.1111111111111111,
              "#46039f"
             ],
             [
              0.2222222222222222,
              "#7201a8"
             ],
             [
              0.3333333333333333,
              "#9c179e"
             ],
             [
              0.4444444444444444,
              "#bd3786"
             ],
             [
              0.5555555555555556,
              "#d8576b"
             ],
             [
              0.6666666666666666,
              "#ed7953"
             ],
             [
              0.7777777777777778,
              "#fb9f3a"
             ],
             [
              0.8888888888888888,
              "#fdca26"
             ],
             [
              1,
              "#f0f921"
             ]
            ],
            "type": "surface"
           }
          ],
          "table": [
           {
            "cells": {
             "fill": {
              "color": "#EBF0F8"
             },
             "line": {
              "color": "white"
             }
            },
            "header": {
             "fill": {
              "color": "#C8D4E3"
             },
             "line": {
              "color": "white"
             }
            },
            "type": "table"
           }
          ]
         },
         "layout": {
          "annotationdefaults": {
           "arrowcolor": "#2a3f5f",
           "arrowhead": 0,
           "arrowwidth": 1
          },
          "autotypenumbers": "strict",
          "coloraxis": {
           "colorbar": {
            "outlinewidth": 0,
            "ticks": ""
           }
          },
          "colorscale": {
           "diverging": [
            [
             0,
             "#8e0152"
            ],
            [
             0.1,
             "#c51b7d"
            ],
            [
             0.2,
             "#de77ae"
            ],
            [
             0.3,
             "#f1b6da"
            ],
            [
             0.4,
             "#fde0ef"
            ],
            [
             0.5,
             "#f7f7f7"
            ],
            [
             0.6,
             "#e6f5d0"
            ],
            [
             0.7,
             "#b8e186"
            ],
            [
             0.8,
             "#7fbc41"
            ],
            [
             0.9,
             "#4d9221"
            ],
            [
             1,
             "#276419"
            ]
           ],
           "sequential": [
            [
             0,
             "#0d0887"
            ],
            [
             0.1111111111111111,
             "#46039f"
            ],
            [
             0.2222222222222222,
             "#7201a8"
            ],
            [
             0.3333333333333333,
             "#9c179e"
            ],
            [
             0.4444444444444444,
             "#bd3786"
            ],
            [
             0.5555555555555556,
             "#d8576b"
            ],
            [
             0.6666666666666666,
             "#ed7953"
            ],
            [
             0.7777777777777778,
             "#fb9f3a"
            ],
            [
             0.8888888888888888,
             "#fdca26"
            ],
            [
             1,
             "#f0f921"
            ]
           ],
           "sequentialminus": [
            [
             0,
             "#0d0887"
            ],
            [
             0.1111111111111111,
             "#46039f"
            ],
            [
             0.2222222222222222,
             "#7201a8"
            ],
            [
             0.3333333333333333,
             "#9c179e"
            ],
            [
             0.4444444444444444,
             "#bd3786"
            ],
            [
             0.5555555555555556,
             "#d8576b"
            ],
            [
             0.6666666666666666,
             "#ed7953"
            ],
            [
             0.7777777777777778,
             "#fb9f3a"
            ],
            [
             0.8888888888888888,
             "#fdca26"
            ],
            [
             1,
             "#f0f921"
            ]
           ]
          },
          "colorway": [
           "#636efa",
           "#EF553B",
           "#00cc96",
           "#ab63fa",
           "#FFA15A",
           "#19d3f3",
           "#FF6692",
           "#B6E880",
           "#FF97FF",
           "#FECB52"
          ],
          "font": {
           "color": "#2a3f5f"
          },
          "geo": {
           "bgcolor": "white",
           "lakecolor": "white",
           "landcolor": "#E5ECF6",
           "showlakes": true,
           "showland": true,
           "subunitcolor": "white"
          },
          "hoverlabel": {
           "align": "left"
          },
          "hovermode": "closest",
          "mapbox": {
           "style": "light"
          },
          "paper_bgcolor": "white",
          "plot_bgcolor": "#E5ECF6",
          "polar": {
           "angularaxis": {
            "gridcolor": "white",
            "linecolor": "white",
            "ticks": ""
           },
           "bgcolor": "#E5ECF6",
           "radialaxis": {
            "gridcolor": "white",
            "linecolor": "white",
            "ticks": ""
           }
          },
          "scene": {
           "xaxis": {
            "backgroundcolor": "#E5ECF6",
            "gridcolor": "white",
            "gridwidth": 2,
            "linecolor": "white",
            "showbackground": true,
            "ticks": "",
            "zerolinecolor": "white"
           },
           "yaxis": {
            "backgroundcolor": "#E5ECF6",
            "gridcolor": "white",
            "gridwidth": 2,
            "linecolor": "white",
            "showbackground": true,
            "ticks": "",
            "zerolinecolor": "white"
           },
           "zaxis": {
            "backgroundcolor": "#E5ECF6",
            "gridcolor": "white",
            "gridwidth": 2,
            "linecolor": "white",
            "showbackground": true,
            "ticks": "",
            "zerolinecolor": "white"
           }
          },
          "shapedefaults": {
           "line": {
            "color": "#2a3f5f"
           }
          },
          "ternary": {
           "aaxis": {
            "gridcolor": "white",
            "linecolor": "white",
            "ticks": ""
           },
           "baxis": {
            "gridcolor": "white",
            "linecolor": "white",
            "ticks": ""
           },
           "bgcolor": "#E5ECF6",
           "caxis": {
            "gridcolor": "white",
            "linecolor": "white",
            "ticks": ""
           }
          },
          "title": {
           "x": 0.05
          },
          "xaxis": {
           "automargin": true,
           "gridcolor": "white",
           "linecolor": "white",
           "ticks": "",
           "title": {
            "standoff": 15
           },
           "zerolinecolor": "white",
           "zerolinewidth": 2
          },
          "yaxis": {
           "automargin": true,
           "gridcolor": "white",
           "linecolor": "white",
           "ticks": "",
           "title": {
            "standoff": 15
           },
           "zerolinecolor": "white",
           "zerolinewidth": 2
          }
         }
        },
        "title": {
         "text": "Top 10 des heures avec les plus petits montants de transactions"
        },
        "xaxis": {
         "title": {
          "text": "Heure (step)"
         }
        },
        "yaxis": {
         "title": {
          "text": "Montant total des transactions"
         }
        }
       }
      }
     },
     "metadata": {},
     "output_type": "display_data"
    }
   ],
   "source": [
    "import plotly.graph_objects as go\n",
    "from pyspark.sql.functions import col\n",
    "\n",
    "# Convertir le DataFrame Spark en Pandas DataFrame\n",
    "pandas_df = top_10_least_hours.toPandas()\n",
    "\n",
    "# Créer le graphique à barres\n",
    "fig = go.Figure(data=[go.Bar(\n",
    "    x=pandas_df[\"step\"],\n",
    "    y=pandas_df[\"total_amount\"],\n",
    "    marker_color='rgb(220,20,60)',  # Couleur rouge pour mettre en évidence les faibles montants\n",
    "    marker_line_color='rgb(139,0,0)', # Couleur rouge foncé pour le contour\n",
    "    marker_line_width=1.5,\n",
    "    opacity=0.8\n",
    ")])\n",
    "\n",
    "# Personnaliser le graphique\n",
    "fig.update_layout(\n",
    "    title='Top 10 des heures avec les plus petits montants de transactions',\n",
    "    xaxis_title='Heure (step)',\n",
    "    yaxis_title='Montant total des transactions',\n",
    "    plot_bgcolor='rgba(0,0,0,0)',  # Fond transparent\n",
    "    paper_bgcolor='rgba(0,0,0,0)'   # Fond transparent\n",
    ")\n",
    "\n",
    "# Afficher le graphique\n",
    "fig.show()"
   ]
  },
  {
   "cell_type": "markdown",
   "id": "a31cc165",
   "metadata": {},
   "source": [
    "### <font color=\"#0d94cd\">Indicateur : Nombre total et montant des transactions par jour</font>"
   ]
  },
  {
   "cell_type": "code",
   "execution_count": 22,
   "id": "2edf6175",
   "metadata": {},
   "outputs": [
    {
     "name": "stdout",
     "output_type": "stream",
     "text": [
      "Nombre total et montant des transactions par jour:\n",
      "+---+------------------+--------------------+\n",
      "|day|total_transactions|        total_amount|\n",
      "+---+------------------+--------------------+\n",
      "|  0|            571039|9.173970258160297E10|\n",
      "|  1|            452761| 7.10898669024628E10|\n",
      "|  2|              6749| 9.281746321600013E8|\n",
      "|  3|             21904|3.1518479300100055E9|\n",
      "|  4|             12995|1.6861370484100018E9|\n",
      "|  5|            440626|7.341008258019112E10|\n",
      "|  6|            420282|6.700567404560116E10|\n",
      "|  7|            449147|7.006377068409976E10|\n",
      "|  8|            418103|5.796253997410179E10|\n",
      "|  9|            392886|6.524498387007921E10|\n",
      "| 10|            418006|6.041964595587115E10|\n",
      "| 11|            349800|5.741695897376041...|\n",
      "| 12|            429335|1.389909706628576E11|\n",
      "| 13|            398210|1.001901509473237...|\n",
      "| 14|            400706|7.746717370340065E10|\n",
      "| 15|            375514| 6.79221535155595E10|\n",
      "| 16|            421098|7.367417821921854E10|\n",
      "| 17|             29251| 4.726785950240015E9|\n",
      "| 18|             11286|1.9090611308999877E9|\n",
      "| 19|             19739|  3.62637792313999E9|\n",
      "+---+------------------+--------------------+\n",
      "only showing top 20 rows\n",
      "\n"
     ]
    }
   ],
   "source": [
    "# Calculer le nombre total de transactions et de montants par jour\n",
    "\n",
    "daily_summary = df.groupBy((col(\"step\") / 24).cast(\"int\").alias(\"day\")) \\\n",
    "                  .agg(count(\"*\").alias(\"total_transactions\"), \n",
    "                       sum(\"amount\").alias(\"total_amount\")) \\\n",
    "                  .orderBy(\"day\")\n",
    "\n",
    "# Afficher les résultats\n",
    "print(\"Nombre total et montant des transactions par jour:\")\n",
    "daily_summary.show()\n"
   ]
  },
  {
   "cell_type": "code",
   "execution_count": 24,
   "id": "ba0ea1b9",
   "metadata": {},
   "outputs": [
    {
     "data": {
      "application/vnd.plotly.v1+json": {
       "config": {
        "plotlyServerURL": "https://plot.ly"
       },
       "data": [
        {
         "marker": {
          "color": "rgb(0, 100, 0)",
          "line": {
           "color": "rgb(0, 139, 0)",
           "width": 1.5
          }
         },
         "name": "Transactions",
         "opacity": 0.8,
         "type": "bar",
         "x": [
          0,
          1,
          2,
          3,
          4,
          5,
          6,
          7,
          8,
          9,
          10,
          11,
          12,
          13,
          14,
          15,
          16,
          17,
          18,
          19,
          20,
          21,
          22,
          23,
          24,
          25,
          26,
          27,
          28,
          29,
          30
         ],
         "xaxis": "x",
         "y": [
          571039,
          452761,
          6749,
          21904,
          12995,
          440626,
          420282,
          449147,
          418103,
          392886,
          418006,
          349800,
          429335,
          398210,
          400706,
          375514,
          421098,
          29251,
          11286,
          19739,
          24589,
          52510,
          50432,
          33349,
          58712,
          13893,
          8574,
          14522,
          55037,
          11283,
          282
         ],
         "yaxis": "y"
        },
        {
         "marker": {
          "color": "rgb(0, 0, 139)",
          "line": {
           "color": "rgb(0, 0, 255)",
           "width": 1.5
          }
         },
         "name": "Montant",
         "opacity": 0.8,
         "type": "bar",
         "x": [
          0,
          1,
          2,
          3,
          4,
          5,
          6,
          7,
          8,
          9,
          10,
          11,
          12,
          13,
          14,
          15,
          16,
          17,
          18,
          19,
          20,
          21,
          22,
          23,
          24,
          25,
          26,
          27,
          28,
          29,
          30
         ],
         "xaxis": "x2",
         "y": [
          91739702581.60297,
          71089866902.4628,
          928174632.1600013,
          3151847930.0100055,
          1686137048.4100018,
          73410082580.19112,
          67005674045.60116,
          70063770684.09976,
          57962539974.10179,
          65244983870.07921,
          60419645955.87115,
          57416958973.760414,
          138990970662.8576,
          100190150947.32373,
          77467173703.40065,
          67922153515.5595,
          73674178219.21854,
          4726785950.240015,
          1909061130.8999877,
          3626377923.13999,
          4832327065.860039,
          9439998440.399923,
          8130728065.019995,
          5310925999.840057,
          9223593931.719948,
          2237217017.0099974,
          1776018990.5799994,
          2973242212.570011,
          9396287053.979998,
          1996665270.5099974,
          449703481.2999997
         ],
         "yaxis": "y2"
        }
       ],
       "layout": {
        "annotations": [
         {
          "font": {
           "size": 16
          },
          "showarrow": false,
          "text": "Nombre total de transactions par jour",
          "x": 0.5,
          "xanchor": "center",
          "xref": "paper",
          "y": 1,
          "yanchor": "bottom",
          "yref": "paper"
         },
         {
          "font": {
           "size": 16
          },
          "showarrow": false,
          "text": "Montant total des transactions par jour",
          "x": 0.5,
          "xanchor": "center",
          "xref": "paper",
          "y": 0.375,
          "yanchor": "bottom",
          "yref": "paper"
         }
        ],
        "height": 800,
        "paper_bgcolor": "rgba(0,0,0,0)",
        "plot_bgcolor": "rgba(0,0,0,0)",
        "showlegend": true,
        "template": {
         "data": {
          "bar": [
           {
            "error_x": {
             "color": "#2a3f5f"
            },
            "error_y": {
             "color": "#2a3f5f"
            },
            "marker": {
             "line": {
              "color": "#E5ECF6",
              "width": 0.5
             },
             "pattern": {
              "fillmode": "overlay",
              "size": 10,
              "solidity": 0.2
             }
            },
            "type": "bar"
           }
          ],
          "barpolar": [
           {
            "marker": {
             "line": {
              "color": "#E5ECF6",
              "width": 0.5
             },
             "pattern": {
              "fillmode": "overlay",
              "size": 10,
              "solidity": 0.2
             }
            },
            "type": "barpolar"
           }
          ],
          "carpet": [
           {
            "aaxis": {
             "endlinecolor": "#2a3f5f",
             "gridcolor": "white",
             "linecolor": "white",
             "minorgridcolor": "white",
             "startlinecolor": "#2a3f5f"
            },
            "baxis": {
             "endlinecolor": "#2a3f5f",
             "gridcolor": "white",
             "linecolor": "white",
             "minorgridcolor": "white",
             "startlinecolor": "#2a3f5f"
            },
            "type": "carpet"
           }
          ],
          "choropleth": [
           {
            "colorbar": {
             "outlinewidth": 0,
             "ticks": ""
            },
            "type": "choropleth"
           }
          ],
          "contour": [
           {
            "colorbar": {
             "outlinewidth": 0,
             "ticks": ""
            },
            "colorscale": [
             [
              0,
              "#0d0887"
             ],
             [
              0.1111111111111111,
              "#46039f"
             ],
             [
              0.2222222222222222,
              "#7201a8"
             ],
             [
              0.3333333333333333,
              "#9c179e"
             ],
             [
              0.4444444444444444,
              "#bd3786"
             ],
             [
              0.5555555555555556,
              "#d8576b"
             ],
             [
              0.6666666666666666,
              "#ed7953"
             ],
             [
              0.7777777777777778,
              "#fb9f3a"
             ],
             [
              0.8888888888888888,
              "#fdca26"
             ],
             [
              1,
              "#f0f921"
             ]
            ],
            "type": "contour"
           }
          ],
          "contourcarpet": [
           {
            "colorbar": {
             "outlinewidth": 0,
             "ticks": ""
            },
            "type": "contourcarpet"
           }
          ],
          "heatmap": [
           {
            "colorbar": {
             "outlinewidth": 0,
             "ticks": ""
            },
            "colorscale": [
             [
              0,
              "#0d0887"
             ],
             [
              0.1111111111111111,
              "#46039f"
             ],
             [
              0.2222222222222222,
              "#7201a8"
             ],
             [
              0.3333333333333333,
              "#9c179e"
             ],
             [
              0.4444444444444444,
              "#bd3786"
             ],
             [
              0.5555555555555556,
              "#d8576b"
             ],
             [
              0.6666666666666666,
              "#ed7953"
             ],
             [
              0.7777777777777778,
              "#fb9f3a"
             ],
             [
              0.8888888888888888,
              "#fdca26"
             ],
             [
              1,
              "#f0f921"
             ]
            ],
            "type": "heatmap"
           }
          ],
          "heatmapgl": [
           {
            "colorbar": {
             "outlinewidth": 0,
             "ticks": ""
            },
            "colorscale": [
             [
              0,
              "#0d0887"
             ],
             [
              0.1111111111111111,
              "#46039f"
             ],
             [
              0.2222222222222222,
              "#7201a8"
             ],
             [
              0.3333333333333333,
              "#9c179e"
             ],
             [
              0.4444444444444444,
              "#bd3786"
             ],
             [
              0.5555555555555556,
              "#d8576b"
             ],
             [
              0.6666666666666666,
              "#ed7953"
             ],
             [
              0.7777777777777778,
              "#fb9f3a"
             ],
             [
              0.8888888888888888,
              "#fdca26"
             ],
             [
              1,
              "#f0f921"
             ]
            ],
            "type": "heatmapgl"
           }
          ],
          "histogram": [
           {
            "marker": {
             "pattern": {
              "fillmode": "overlay",
              "size": 10,
              "solidity": 0.2
             }
            },
            "type": "histogram"
           }
          ],
          "histogram2d": [
           {
            "colorbar": {
             "outlinewidth": 0,
             "ticks": ""
            },
            "colorscale": [
             [
              0,
              "#0d0887"
             ],
             [
              0.1111111111111111,
              "#46039f"
             ],
             [
              0.2222222222222222,
              "#7201a8"
             ],
             [
              0.3333333333333333,
              "#9c179e"
             ],
             [
              0.4444444444444444,
              "#bd3786"
             ],
             [
              0.5555555555555556,
              "#d8576b"
             ],
             [
              0.6666666666666666,
              "#ed7953"
             ],
             [
              0.7777777777777778,
              "#fb9f3a"
             ],
             [
              0.8888888888888888,
              "#fdca26"
             ],
             [
              1,
              "#f0f921"
             ]
            ],
            "type": "histogram2d"
           }
          ],
          "histogram2dcontour": [
           {
            "colorbar": {
             "outlinewidth": 0,
             "ticks": ""
            },
            "colorscale": [
             [
              0,
              "#0d0887"
             ],
             [
              0.1111111111111111,
              "#46039f"
             ],
             [
              0.2222222222222222,
              "#7201a8"
             ],
             [
              0.3333333333333333,
              "#9c179e"
             ],
             [
              0.4444444444444444,
              "#bd3786"
             ],
             [
              0.5555555555555556,
              "#d8576b"
             ],
             [
              0.6666666666666666,
              "#ed7953"
             ],
             [
              0.7777777777777778,
              "#fb9f3a"
             ],
             [
              0.8888888888888888,
              "#fdca26"
             ],
             [
              1,
              "#f0f921"
             ]
            ],
            "type": "histogram2dcontour"
           }
          ],
          "mesh3d": [
           {
            "colorbar": {
             "outlinewidth": 0,
             "ticks": ""
            },
            "type": "mesh3d"
           }
          ],
          "parcoords": [
           {
            "line": {
             "colorbar": {
              "outlinewidth": 0,
              "ticks": ""
             }
            },
            "type": "parcoords"
           }
          ],
          "pie": [
           {
            "automargin": true,
            "type": "pie"
           }
          ],
          "scatter": [
           {
            "fillpattern": {
             "fillmode": "overlay",
             "size": 10,
             "solidity": 0.2
            },
            "type": "scatter"
           }
          ],
          "scatter3d": [
           {
            "line": {
             "colorbar": {
              "outlinewidth": 0,
              "ticks": ""
             }
            },
            "marker": {
             "colorbar": {
              "outlinewidth": 0,
              "ticks": ""
             }
            },
            "type": "scatter3d"
           }
          ],
          "scattercarpet": [
           {
            "marker": {
             "colorbar": {
              "outlinewidth": 0,
              "ticks": ""
             }
            },
            "type": "scattercarpet"
           }
          ],
          "scattergeo": [
           {
            "marker": {
             "colorbar": {
              "outlinewidth": 0,
              "ticks": ""
             }
            },
            "type": "scattergeo"
           }
          ],
          "scattergl": [
           {
            "marker": {
             "colorbar": {
              "outlinewidth": 0,
              "ticks": ""
             }
            },
            "type": "scattergl"
           }
          ],
          "scattermapbox": [
           {
            "marker": {
             "colorbar": {
              "outlinewidth": 0,
              "ticks": ""
             }
            },
            "type": "scattermapbox"
           }
          ],
          "scatterpolar": [
           {
            "marker": {
             "colorbar": {
              "outlinewidth": 0,
              "ticks": ""
             }
            },
            "type": "scatterpolar"
           }
          ],
          "scatterpolargl": [
           {
            "marker": {
             "colorbar": {
              "outlinewidth": 0,
              "ticks": ""
             }
            },
            "type": "scatterpolargl"
           }
          ],
          "scatterternary": [
           {
            "marker": {
             "colorbar": {
              "outlinewidth": 0,
              "ticks": ""
             }
            },
            "type": "scatterternary"
           }
          ],
          "surface": [
           {
            "colorbar": {
             "outlinewidth": 0,
             "ticks": ""
            },
            "colorscale": [
             [
              0,
              "#0d0887"
             ],
             [
              0.1111111111111111,
              "#46039f"
             ],
             [
              0.2222222222222222,
              "#7201a8"
             ],
             [
              0.3333333333333333,
              "#9c179e"
             ],
             [
              0.4444444444444444,
              "#bd3786"
             ],
             [
              0.5555555555555556,
              "#d8576b"
             ],
             [
              0.6666666666666666,
              "#ed7953"
             ],
             [
              0.7777777777777778,
              "#fb9f3a"
             ],
             [
              0.8888888888888888,
              "#fdca26"
             ],
             [
              1,
              "#f0f921"
             ]
            ],
            "type": "surface"
           }
          ],
          "table": [
           {
            "cells": {
             "fill": {
              "color": "#EBF0F8"
             },
             "line": {
              "color": "white"
             }
            },
            "header": {
             "fill": {
              "color": "#C8D4E3"
             },
             "line": {
              "color": "white"
             }
            },
            "type": "table"
           }
          ]
         },
         "layout": {
          "annotationdefaults": {
           "arrowcolor": "#2a3f5f",
           "arrowhead": 0,
           "arrowwidth": 1
          },
          "autotypenumbers": "strict",
          "coloraxis": {
           "colorbar": {
            "outlinewidth": 0,
            "ticks": ""
           }
          },
          "colorscale": {
           "diverging": [
            [
             0,
             "#8e0152"
            ],
            [
             0.1,
             "#c51b7d"
            ],
            [
             0.2,
             "#de77ae"
            ],
            [
             0.3,
             "#f1b6da"
            ],
            [
             0.4,
             "#fde0ef"
            ],
            [
             0.5,
             "#f7f7f7"
            ],
            [
             0.6,
             "#e6f5d0"
            ],
            [
             0.7,
             "#b8e186"
            ],
            [
             0.8,
             "#7fbc41"
            ],
            [
             0.9,
             "#4d9221"
            ],
            [
             1,
             "#276419"
            ]
           ],
           "sequential": [
            [
             0,
             "#0d0887"
            ],
            [
             0.1111111111111111,
             "#46039f"
            ],
            [
             0.2222222222222222,
             "#7201a8"
            ],
            [
             0.3333333333333333,
             "#9c179e"
            ],
            [
             0.4444444444444444,
             "#bd3786"
            ],
            [
             0.5555555555555556,
             "#d8576b"
            ],
            [
             0.6666666666666666,
             "#ed7953"
            ],
            [
             0.7777777777777778,
             "#fb9f3a"
            ],
            [
             0.8888888888888888,
             "#fdca26"
            ],
            [
             1,
             "#f0f921"
            ]
           ],
           "sequentialminus": [
            [
             0,
             "#0d0887"
            ],
            [
             0.1111111111111111,
             "#46039f"
            ],
            [
             0.2222222222222222,
             "#7201a8"
            ],
            [
             0.3333333333333333,
             "#9c179e"
            ],
            [
             0.4444444444444444,
             "#bd3786"
            ],
            [
             0.5555555555555556,
             "#d8576b"
            ],
            [
             0.6666666666666666,
             "#ed7953"
            ],
            [
             0.7777777777777778,
             "#fb9f3a"
            ],
            [
             0.8888888888888888,
             "#fdca26"
            ],
            [
             1,
             "#f0f921"
            ]
           ]
          },
          "colorway": [
           "#636efa",
           "#EF553B",
           "#00cc96",
           "#ab63fa",
           "#FFA15A",
           "#19d3f3",
           "#FF6692",
           "#B6E880",
           "#FF97FF",
           "#FECB52"
          ],
          "font": {
           "color": "#2a3f5f"
          },
          "geo": {
           "bgcolor": "white",
           "lakecolor": "white",
           "landcolor": "#E5ECF6",
           "showlakes": true,
           "showland": true,
           "subunitcolor": "white"
          },
          "hoverlabel": {
           "align": "left"
          },
          "hovermode": "closest",
          "mapbox": {
           "style": "light"
          },
          "paper_bgcolor": "white",
          "plot_bgcolor": "#E5ECF6",
          "polar": {
           "angularaxis": {
            "gridcolor": "white",
            "linecolor": "white",
            "ticks": ""
           },
           "bgcolor": "#E5ECF6",
           "radialaxis": {
            "gridcolor": "white",
            "linecolor": "white",
            "ticks": ""
           }
          },
          "scene": {
           "xaxis": {
            "backgroundcolor": "#E5ECF6",
            "gridcolor": "white",
            "gridwidth": 2,
            "linecolor": "white",
            "showbackground": true,
            "ticks": "",
            "zerolinecolor": "white"
           },
           "yaxis": {
            "backgroundcolor": "#E5ECF6",
            "gridcolor": "white",
            "gridwidth": 2,
            "linecolor": "white",
            "showbackground": true,
            "ticks": "",
            "zerolinecolor": "white"
           },
           "zaxis": {
            "backgroundcolor": "#E5ECF6",
            "gridcolor": "white",
            "gridwidth": 2,
            "linecolor": "white",
            "showbackground": true,
            "ticks": "",
            "zerolinecolor": "white"
           }
          },
          "shapedefaults": {
           "line": {
            "color": "#2a3f5f"
           }
          },
          "ternary": {
           "aaxis": {
            "gridcolor": "white",
            "linecolor": "white",
            "ticks": ""
           },
           "baxis": {
            "gridcolor": "white",
            "linecolor": "white",
            "ticks": ""
           },
           "bgcolor": "#E5ECF6",
           "caxis": {
            "gridcolor": "white",
            "linecolor": "white",
            "ticks": ""
           }
          },
          "title": {
           "x": 0.05
          },
          "xaxis": {
           "automargin": true,
           "gridcolor": "white",
           "linecolor": "white",
           "ticks": "",
           "title": {
            "standoff": 15
           },
           "zerolinecolor": "white",
           "zerolinewidth": 2
          },
          "yaxis": {
           "automargin": true,
           "gridcolor": "white",
           "linecolor": "white",
           "ticks": "",
           "title": {
            "standoff": 15
           },
           "zerolinecolor": "white",
           "zerolinewidth": 2
          }
         }
        },
        "title": {
         "text": "Résumé quotidien des transactions"
        },
        "xaxis": {
         "anchor": "y",
         "domain": [
          0,
          1
         ]
        },
        "xaxis2": {
         "anchor": "y2",
         "domain": [
          0,
          1
         ]
        },
        "yaxis": {
         "anchor": "x",
         "domain": [
          0.625,
          1
         ]
        },
        "yaxis2": {
         "anchor": "x2",
         "domain": [
          0,
          0.375
         ]
        }
       }
      }
     },
     "metadata": {},
     "output_type": "display_data"
    }
   ],
   "source": [
    "\n",
    "from plotly.subplots import make_subplots\n",
    "\n",
    "\n",
    "try:\n",
    "    # Convertir le DataFrame Spark en Pandas DataFrame\n",
    "    pandas_df = daily_summary.toPandas()\n",
    "\n",
    "    # Créer des sous-graphiques\n",
    "    fig = make_subplots(rows=2, cols=1, subplot_titles=(\"Nombre total de transactions par jour\", \"Montant total des transactions par jour\"))\n",
    "\n",
    "    # Ajouter le premier graphique (nombre de transactions)\n",
    "    fig.add_trace(go.Bar(\n",
    "        x=pandas_df[\"day\"],\n",
    "        y=pandas_df[\"total_transactions\"],\n",
    "        marker_color='rgb(0, 100, 0)', # Vert foncé\n",
    "        marker_line_color='rgb(0, 139, 0)', # Vert clair\n",
    "        marker_line_width=1.5,\n",
    "        opacity=0.8,\n",
    "        name=\"Transactions\"\n",
    "    ), row=1, col=1)\n",
    "\n",
    "    # Ajouter le deuxième graphique (montant des transactions)\n",
    "    fig.add_trace(go.Bar(\n",
    "        x=pandas_df[\"day\"],\n",
    "        y=pandas_df[\"total_amount\"],\n",
    "        marker_color='rgb(0, 0, 139)', # Bleu foncé\n",
    "        marker_line_color='rgb(0, 0, 255)', # Bleu clair\n",
    "        marker_line_width=1.5,\n",
    "        opacity=0.8,\n",
    "        name=\"Montant\"\n",
    "    ), row=2, col=1)\n",
    "\n",
    "    # Personnaliser le graphique\n",
    "    fig.update_layout(\n",
    "        title='Résumé quotidien des transactions',\n",
    "        height=800, # Augmenter la hauteur pour deux graphiques\n",
    "        plot_bgcolor='rgba(0,0,0,0)',\n",
    "        paper_bgcolor='rgba(0,0,0,0)',\n",
    "        showlegend=True\n",
    "    )\n",
    "\n",
    "    # Afficher le graphique\n",
    "    fig.show()\n",
    "\n",
    "except Exception as e:\n",
    "    print(f\"Une erreur s'est produite : {e}\")\n",
    "    print(\"Veuillez vérifier que le DataFrame 'daily_summary' est correctement défini et non vide.\")"
   ]
  },
  {
   "cell_type": "markdown",
   "id": "SxupOQ2MvLrm",
   "metadata": {
    "id": "SxupOQ2MvLrm"
   },
   "source": [
    "## <font id = '3.2' color=\"#0d94cd\">3.2. Analyse des fraudes  </font>"
   ]
  },
  {
   "cell_type": "markdown",
   "id": "84e49bc0",
   "metadata": {},
   "source": [
    "### <font color=\"#0d94cd\">Indicateur : Nombre total et montant des Fraudes </font>"
   ]
  },
  {
   "cell_type": "code",
   "execution_count": 73,
   "id": "EGpsCE7XzLZt",
   "metadata": {
    "colab": {
     "base_uri": "https://localhost:8080/"
    },
    "executionInfo": {
     "elapsed": 2092,
     "status": "ok",
     "timestamp": 1739820704603,
     "user": {
      "displayName": "Hadja Hadidja",
      "userId": "13124269598925753814"
     },
     "user_tz": -60
    },
    "id": "EGpsCE7XzLZt",
    "outputId": "d5dfa067-73c7-4251-9496-5683f06680ca"
   },
   "outputs": [
    {
     "name": "stdout",
     "output_type": "stream",
     "text": [
      "Nombre total de transactions frauduleuses : 8213\n",
      "Montant total des transactions frauduleuses : 12056415427.839972\n"
     ]
    }
   ],
   "source": [
    "# Filter for fraudulent transactions (where isFraud is marked as 1)\n",
    "fraudulent_transactions = df.filter(col(\"isFraud\") == 1)\n",
    "\n",
    "# Calculate total count and amount of fraudulent transactions\n",
    "total_fraud_count = fraudulent_transactions.count()\n",
    "total_fraud_amount = fraudulent_transactions.select(sum(\"amount\")).first()[0] or 0\n",
    "\n",
    "# Display results\n",
    "print(f\"Nombre total de transactions frauduleuses : {total_fraud_count}\")\n",
    "print(f\"Montant total des transactions frauduleuses : {total_fraud_amount}\")"
   ]
  },
  {
   "cell_type": "markdown",
   "id": "fc7e25d1",
   "metadata": {},
   "source": [
    "### <font color=\"#0d94cd\">Indicateur : Nombre de transactions frauduleuses par type  </font>"
   ]
  },
  {
   "cell_type": "code",
   "execution_count": 74,
   "id": "ulm0B-Z7zE4i",
   "metadata": {
    "id": "ulm0B-Z7zE4i"
   },
   "outputs": [
    {
     "data": {
      "application/vnd.plotly.v1+json": {
       "config": {
        "plotlyServerURL": "https://plot.ly"
       },
       "data": [
        {
         "domain": {
          "x": [
           0,
           1
          ],
          "y": [
           0,
           1
          ]
         },
         "hovertemplate": "type=%{label}<br>fraud_count=%{value}<extra></extra>",
         "labels": [
          "TRANSFER",
          "CASH_OUT"
         ],
         "legendgroup": "",
         "name": "",
         "showlegend": true,
         "type": "pie",
         "values": [
          4097,
          4116
         ]
        }
       ],
       "layout": {
        "legend": {
         "tracegroupgap": 0
        },
        "template": {
         "data": {
          "bar": [
           {
            "error_x": {
             "color": "#2a3f5f"
            },
            "error_y": {
             "color": "#2a3f5f"
            },
            "marker": {
             "line": {
              "color": "#E5ECF6",
              "width": 0.5
             },
             "pattern": {
              "fillmode": "overlay",
              "size": 10,
              "solidity": 0.2
             }
            },
            "type": "bar"
           }
          ],
          "barpolar": [
           {
            "marker": {
             "line": {
              "color": "#E5ECF6",
              "width": 0.5
             },
             "pattern": {
              "fillmode": "overlay",
              "size": 10,
              "solidity": 0.2
             }
            },
            "type": "barpolar"
           }
          ],
          "carpet": [
           {
            "aaxis": {
             "endlinecolor": "#2a3f5f",
             "gridcolor": "white",
             "linecolor": "white",
             "minorgridcolor": "white",
             "startlinecolor": "#2a3f5f"
            },
            "baxis": {
             "endlinecolor": "#2a3f5f",
             "gridcolor": "white",
             "linecolor": "white",
             "minorgridcolor": "white",
             "startlinecolor": "#2a3f5f"
            },
            "type": "carpet"
           }
          ],
          "choropleth": [
           {
            "colorbar": {
             "outlinewidth": 0,
             "ticks": ""
            },
            "type": "choropleth"
           }
          ],
          "contour": [
           {
            "colorbar": {
             "outlinewidth": 0,
             "ticks": ""
            },
            "colorscale": [
             [
              0,
              "#0d0887"
             ],
             [
              0.1111111111111111,
              "#46039f"
             ],
             [
              0.2222222222222222,
              "#7201a8"
             ],
             [
              0.3333333333333333,
              "#9c179e"
             ],
             [
              0.4444444444444444,
              "#bd3786"
             ],
             [
              0.5555555555555556,
              "#d8576b"
             ],
             [
              0.6666666666666666,
              "#ed7953"
             ],
             [
              0.7777777777777778,
              "#fb9f3a"
             ],
             [
              0.8888888888888888,
              "#fdca26"
             ],
             [
              1,
              "#f0f921"
             ]
            ],
            "type": "contour"
           }
          ],
          "contourcarpet": [
           {
            "colorbar": {
             "outlinewidth": 0,
             "ticks": ""
            },
            "type": "contourcarpet"
           }
          ],
          "heatmap": [
           {
            "colorbar": {
             "outlinewidth": 0,
             "ticks": ""
            },
            "colorscale": [
             [
              0,
              "#0d0887"
             ],
             [
              0.1111111111111111,
              "#46039f"
             ],
             [
              0.2222222222222222,
              "#7201a8"
             ],
             [
              0.3333333333333333,
              "#9c179e"
             ],
             [
              0.4444444444444444,
              "#bd3786"
             ],
             [
              0.5555555555555556,
              "#d8576b"
             ],
             [
              0.6666666666666666,
              "#ed7953"
             ],
             [
              0.7777777777777778,
              "#fb9f3a"
             ],
             [
              0.8888888888888888,
              "#fdca26"
             ],
             [
              1,
              "#f0f921"
             ]
            ],
            "type": "heatmap"
           }
          ],
          "heatmapgl": [
           {
            "colorbar": {
             "outlinewidth": 0,
             "ticks": ""
            },
            "colorscale": [
             [
              0,
              "#0d0887"
             ],
             [
              0.1111111111111111,
              "#46039f"
             ],
             [
              0.2222222222222222,
              "#7201a8"
             ],
             [
              0.3333333333333333,
              "#9c179e"
             ],
             [
              0.4444444444444444,
              "#bd3786"
             ],
             [
              0.5555555555555556,
              "#d8576b"
             ],
             [
              0.6666666666666666,
              "#ed7953"
             ],
             [
              0.7777777777777778,
              "#fb9f3a"
             ],
             [
              0.8888888888888888,
              "#fdca26"
             ],
             [
              1,
              "#f0f921"
             ]
            ],
            "type": "heatmapgl"
           }
          ],
          "histogram": [
           {
            "marker": {
             "pattern": {
              "fillmode": "overlay",
              "size": 10,
              "solidity": 0.2
             }
            },
            "type": "histogram"
           }
          ],
          "histogram2d": [
           {
            "colorbar": {
             "outlinewidth": 0,
             "ticks": ""
            },
            "colorscale": [
             [
              0,
              "#0d0887"
             ],
             [
              0.1111111111111111,
              "#46039f"
             ],
             [
              0.2222222222222222,
              "#7201a8"
             ],
             [
              0.3333333333333333,
              "#9c179e"
             ],
             [
              0.4444444444444444,
              "#bd3786"
             ],
             [
              0.5555555555555556,
              "#d8576b"
             ],
             [
              0.6666666666666666,
              "#ed7953"
             ],
             [
              0.7777777777777778,
              "#fb9f3a"
             ],
             [
              0.8888888888888888,
              "#fdca26"
             ],
             [
              1,
              "#f0f921"
             ]
            ],
            "type": "histogram2d"
           }
          ],
          "histogram2dcontour": [
           {
            "colorbar": {
             "outlinewidth": 0,
             "ticks": ""
            },
            "colorscale": [
             [
              0,
              "#0d0887"
             ],
             [
              0.1111111111111111,
              "#46039f"
             ],
             [
              0.2222222222222222,
              "#7201a8"
             ],
             [
              0.3333333333333333,
              "#9c179e"
             ],
             [
              0.4444444444444444,
              "#bd3786"
             ],
             [
              0.5555555555555556,
              "#d8576b"
             ],
             [
              0.6666666666666666,
              "#ed7953"
             ],
             [
              0.7777777777777778,
              "#fb9f3a"
             ],
             [
              0.8888888888888888,
              "#fdca26"
             ],
             [
              1,
              "#f0f921"
             ]
            ],
            "type": "histogram2dcontour"
           }
          ],
          "mesh3d": [
           {
            "colorbar": {
             "outlinewidth": 0,
             "ticks": ""
            },
            "type": "mesh3d"
           }
          ],
          "parcoords": [
           {
            "line": {
             "colorbar": {
              "outlinewidth": 0,
              "ticks": ""
             }
            },
            "type": "parcoords"
           }
          ],
          "pie": [
           {
            "automargin": true,
            "type": "pie"
           }
          ],
          "scatter": [
           {
            "fillpattern": {
             "fillmode": "overlay",
             "size": 10,
             "solidity": 0.2
            },
            "type": "scatter"
           }
          ],
          "scatter3d": [
           {
            "line": {
             "colorbar": {
              "outlinewidth": 0,
              "ticks": ""
             }
            },
            "marker": {
             "colorbar": {
              "outlinewidth": 0,
              "ticks": ""
             }
            },
            "type": "scatter3d"
           }
          ],
          "scattercarpet": [
           {
            "marker": {
             "colorbar": {
              "outlinewidth": 0,
              "ticks": ""
             }
            },
            "type": "scattercarpet"
           }
          ],
          "scattergeo": [
           {
            "marker": {
             "colorbar": {
              "outlinewidth": 0,
              "ticks": ""
             }
            },
            "type": "scattergeo"
           }
          ],
          "scattergl": [
           {
            "marker": {
             "colorbar": {
              "outlinewidth": 0,
              "ticks": ""
             }
            },
            "type": "scattergl"
           }
          ],
          "scattermapbox": [
           {
            "marker": {
             "colorbar": {
              "outlinewidth": 0,
              "ticks": ""
             }
            },
            "type": "scattermapbox"
           }
          ],
          "scatterpolar": [
           {
            "marker": {
             "colorbar": {
              "outlinewidth": 0,
              "ticks": ""
             }
            },
            "type": "scatterpolar"
           }
          ],
          "scatterpolargl": [
           {
            "marker": {
             "colorbar": {
              "outlinewidth": 0,
              "ticks": ""
             }
            },
            "type": "scatterpolargl"
           }
          ],
          "scatterternary": [
           {
            "marker": {
             "colorbar": {
              "outlinewidth": 0,
              "ticks": ""
             }
            },
            "type": "scatterternary"
           }
          ],
          "surface": [
           {
            "colorbar": {
             "outlinewidth": 0,
             "ticks": ""
            },
            "colorscale": [
             [
              0,
              "#0d0887"
             ],
             [
              0.1111111111111111,
              "#46039f"
             ],
             [
              0.2222222222222222,
              "#7201a8"
             ],
             [
              0.3333333333333333,
              "#9c179e"
             ],
             [
              0.4444444444444444,
              "#bd3786"
             ],
             [
              0.5555555555555556,
              "#d8576b"
             ],
             [
              0.6666666666666666,
              "#ed7953"
             ],
             [
              0.7777777777777778,
              "#fb9f3a"
             ],
             [
              0.8888888888888888,
              "#fdca26"
             ],
             [
              1,
              "#f0f921"
             ]
            ],
            "type": "surface"
           }
          ],
          "table": [
           {
            "cells": {
             "fill": {
              "color": "#EBF0F8"
             },
             "line": {
              "color": "white"
             }
            },
            "header": {
             "fill": {
              "color": "#C8D4E3"
             },
             "line": {
              "color": "white"
             }
            },
            "type": "table"
           }
          ]
         },
         "layout": {
          "annotationdefaults": {
           "arrowcolor": "#2a3f5f",
           "arrowhead": 0,
           "arrowwidth": 1
          },
          "autotypenumbers": "strict",
          "coloraxis": {
           "colorbar": {
            "outlinewidth": 0,
            "ticks": ""
           }
          },
          "colorscale": {
           "diverging": [
            [
             0,
             "#8e0152"
            ],
            [
             0.1,
             "#c51b7d"
            ],
            [
             0.2,
             "#de77ae"
            ],
            [
             0.3,
             "#f1b6da"
            ],
            [
             0.4,
             "#fde0ef"
            ],
            [
             0.5,
             "#f7f7f7"
            ],
            [
             0.6,
             "#e6f5d0"
            ],
            [
             0.7,
             "#b8e186"
            ],
            [
             0.8,
             "#7fbc41"
            ],
            [
             0.9,
             "#4d9221"
            ],
            [
             1,
             "#276419"
            ]
           ],
           "sequential": [
            [
             0,
             "#0d0887"
            ],
            [
             0.1111111111111111,
             "#46039f"
            ],
            [
             0.2222222222222222,
             "#7201a8"
            ],
            [
             0.3333333333333333,
             "#9c179e"
            ],
            [
             0.4444444444444444,
             "#bd3786"
            ],
            [
             0.5555555555555556,
             "#d8576b"
            ],
            [
             0.6666666666666666,
             "#ed7953"
            ],
            [
             0.7777777777777778,
             "#fb9f3a"
            ],
            [
             0.8888888888888888,
             "#fdca26"
            ],
            [
             1,
             "#f0f921"
            ]
           ],
           "sequentialminus": [
            [
             0,
             "#0d0887"
            ],
            [
             0.1111111111111111,
             "#46039f"
            ],
            [
             0.2222222222222222,
             "#7201a8"
            ],
            [
             0.3333333333333333,
             "#9c179e"
            ],
            [
             0.4444444444444444,
             "#bd3786"
            ],
            [
             0.5555555555555556,
             "#d8576b"
            ],
            [
             0.6666666666666666,
             "#ed7953"
            ],
            [
             0.7777777777777778,
             "#fb9f3a"
            ],
            [
             0.8888888888888888,
             "#fdca26"
            ],
            [
             1,
             "#f0f921"
            ]
           ]
          },
          "colorway": [
           "#636efa",
           "#EF553B",
           "#00cc96",
           "#ab63fa",
           "#FFA15A",
           "#19d3f3",
           "#FF6692",
           "#B6E880",
           "#FF97FF",
           "#FECB52"
          ],
          "font": {
           "color": "#2a3f5f"
          },
          "geo": {
           "bgcolor": "white",
           "lakecolor": "white",
           "landcolor": "#E5ECF6",
           "showlakes": true,
           "showland": true,
           "subunitcolor": "white"
          },
          "hoverlabel": {
           "align": "left"
          },
          "hovermode": "closest",
          "mapbox": {
           "style": "light"
          },
          "paper_bgcolor": "white",
          "plot_bgcolor": "#E5ECF6",
          "polar": {
           "angularaxis": {
            "gridcolor": "white",
            "linecolor": "white",
            "ticks": ""
           },
           "bgcolor": "#E5ECF6",
           "radialaxis": {
            "gridcolor": "white",
            "linecolor": "white",
            "ticks": ""
           }
          },
          "scene": {
           "xaxis": {
            "backgroundcolor": "#E5ECF6",
            "gridcolor": "white",
            "gridwidth": 2,
            "linecolor": "white",
            "showbackground": true,
            "ticks": "",
            "zerolinecolor": "white"
           },
           "yaxis": {
            "backgroundcolor": "#E5ECF6",
            "gridcolor": "white",
            "gridwidth": 2,
            "linecolor": "white",
            "showbackground": true,
            "ticks": "",
            "zerolinecolor": "white"
           },
           "zaxis": {
            "backgroundcolor": "#E5ECF6",
            "gridcolor": "white",
            "gridwidth": 2,
            "linecolor": "white",
            "showbackground": true,
            "ticks": "",
            "zerolinecolor": "white"
           }
          },
          "shapedefaults": {
           "line": {
            "color": "#2a3f5f"
           }
          },
          "ternary": {
           "aaxis": {
            "gridcolor": "white",
            "linecolor": "white",
            "ticks": ""
           },
           "baxis": {
            "gridcolor": "white",
            "linecolor": "white",
            "ticks": ""
           },
           "bgcolor": "#E5ECF6",
           "caxis": {
            "gridcolor": "white",
            "linecolor": "white",
            "ticks": ""
           }
          },
          "title": {
           "x": 0.05
          },
          "xaxis": {
           "automargin": true,
           "gridcolor": "white",
           "linecolor": "white",
           "ticks": "",
           "title": {
            "standoff": 15
           },
           "zerolinecolor": "white",
           "zerolinewidth": 2
          },
          "yaxis": {
           "automargin": true,
           "gridcolor": "white",
           "linecolor": "white",
           "ticks": "",
           "title": {
            "standoff": 15
           },
           "zerolinecolor": "white",
           "zerolinewidth": 2
          }
         }
        },
        "title": {
         "text": "Distribution des transactions frauduleuses par type"
        }
       }
      }
     },
     "metadata": {},
     "output_type": "display_data"
    },
    {
     "name": "stdout",
     "output_type": "stream",
     "text": [
      "Nombre de transactions frauduleuses par type:\n",
      "+--------+-----------+\n",
      "|    type|fraud_count|\n",
      "+--------+-----------+\n",
      "|TRANSFER|       4097|\n",
      "|CASH_OUT|       4116|\n",
      "+--------+-----------+\n",
      "\n"
     ]
    }
   ],
   "source": [
    "# Group by transaction type and count fraudulent transactions\n",
    "fraud_by_type = df.filter(df.isFraud == 1).groupBy(\"type\").agg(count(\"*\").alias(\"fraud_count\"))\n",
    "\n",
    "# Convert to Pandas DataFrame for visualization\n",
    "fraud_by_type_pd = fraud_by_type.toPandas()\n",
    "\n",
    "# Create a pie chart using Plotly\n",
    "fig = px.pie(fraud_by_type_pd, values='fraud_count', names='type', title='Distribution des transactions frauduleuses par type')\n",
    "fig.show()\n",
    "\n",
    "# Display the results\n",
    "print(\"Nombre de transactions frauduleuses par type:\")\n",
    "fraud_by_type.show()"
   ]
  },
  {
   "cell_type": "markdown",
   "id": "3fCZ7EQS2hU6",
   "metadata": {
    "id": "3fCZ7EQS2hU6"
   },
   "source": [
    "Le graphique ci-dessus illustre la proportion de chaque type de transaction impliqué dans les transactions frauduleuses. On peut observer que la quasi-totalité des transactions frauduleuses sont de type TRANSFER (Virements)  et CASH_OUT (retraits) , représentant respectivement environ 50% chaacun du total des fraudes.\n",
    "\n",
    "Les autres types de transactions, à savoir CASH_IN, PAYMENT et DEBIT, ne sont pas associés à des cas de fraude dans cet ensemble de données. Il est donc important de porter une attention particulière à ces types de transactions pour détecter et prévenir la fraude. Les autres types de transactions semblent moins exposés au risque de fraude dans ce contexte."
   ]
  },
  {
   "cell_type": "markdown",
   "id": "3631e0a9",
   "metadata": {},
   "source": [
    "### <font color=\"#0d94cd\">Indicateur : Top 10 des clients les plus concernés par les fraudes  </font>"
   ]
  },
  {
   "cell_type": "code",
   "execution_count": 78,
   "id": "lCSrgQAEpLdA",
   "metadata": {
    "colab": {
     "base_uri": "https://localhost:8080/"
    },
    "executionInfo": {
     "elapsed": 809,
     "status": "ok",
     "timestamp": 1739820708821,
     "user": {
      "displayName": "Hadja Hadidja",
      "userId": "13124269598925753814"
     },
     "user_tz": -60
    },
    "id": "lCSrgQAEpLdA",
    "outputId": "9f0e1e3d-f3a3-46a4-a642-82b2e6519c4f"
   },
   "outputs": [
    {
     "name": "stdout",
     "output_type": "stream",
     "text": [
      "Top 10 des clients  l'origine de fraudes :\n",
      "+-----------+-----------+\n",
      "|   nameOrig|fraud_count|\n",
      "+-----------+-----------+\n",
      "|C2079232448|          1|\n",
      "| C439464764|          1|\n",
      "| C281192595|          1|\n",
      "|C1061805919|          1|\n",
      "|C1313615833|          1|\n",
      "|C1668561632|          1|\n",
      "| C708686257|          1|\n",
      "|C2100014537|          1|\n",
      "|C1766811336|          1|\n",
      "|C1701978189|          1|\n",
      "+-----------+-----------+\n",
      "\n",
      "Top 10 des clients destinataires de fraudes :\n",
      "+-----------+-----------+\n",
      "|   nameDest|fraud_count|\n",
      "+-----------+-----------+\n",
      "| C200064275|          2|\n",
      "| C803116137|          2|\n",
      "|C1827219533|          2|\n",
      "| C410033330|          2|\n",
      "| C935310781|          2|\n",
      "| C475338087|          2|\n",
      "|C1601170327|          2|\n",
      "| C104038589|          2|\n",
      "| C185805228|          2|\n",
      "| C904300960|          2|\n",
      "+-----------+-----------+\n",
      "\n"
     ]
    }
   ],
   "source": [
    "# Identify clients most affected as originators\n",
    "originators_affected = df.filter(col(\"isFraud\") == 1) \\\n",
    "                        .groupBy(\"nameOrig\") \\\n",
    "                        .agg(count(\"*\").alias(\"fraud_count\")) \\\n",
    "                        .orderBy(col(\"fraud_count\").desc()) \\\n",
    "                        .limit(10)\n",
    "\n",
    "# Display results for originators\n",
    "print(\"Top 10 des clients  l'origine de fraudes :\")\n",
    "originators_affected.show()\n",
    "\n",
    "# Identify clients most affected as destinations\n",
    "destinations_affected = df.filter(col(\"isFraud\") == 1) \\\n",
    "                        .groupBy(\"nameDest\") \\\n",
    "                        .agg(count(\"*\").alias(\"fraud_count\")) \\\n",
    "                        .orderBy(col(\"fraud_count\").desc()) \\\n",
    "                        .limit(10)\n",
    "\n",
    "# Display results for destinations\n",
    "print(\"Top 10 des clients destinataires de fraudes :\")\n",
    "destinations_affected.show()\n"
   ]
  },
  {
   "cell_type": "markdown",
   "id": "6O0UoGeX7LHv",
   "metadata": {
    "id": "6O0UoGeX7LHv"
   },
   "source": [
    "Etant donné que les transactions frauduleuses ne sont pas récurrentes, chaque client à déjà effectué au plus une fois, une transaction frauduleuse"
   ]
  },
  {
   "cell_type": "markdown",
   "id": "4ac84a2c",
   "metadata": {},
   "source": [
    "### <font color=\"#0d94cd\">Indicateur : Top 10 des heures où surviennent le plus de fraudes  </font>"
   ]
  },
  {
   "cell_type": "code",
   "execution_count": 80,
   "id": "Hk4nbows3Ri3",
   "metadata": {
    "colab": {
     "base_uri": "https://localhost:8080/"
    },
    "executionInfo": {
     "elapsed": 998,
     "status": "ok",
     "timestamp": 1739820709815,
     "user": {
      "displayName": "Hadja Hadidja",
      "userId": "13124269598925753814"
     },
     "user_tz": -60
    },
    "id": "Hk4nbows3Ri3",
    "outputId": "dc864df2-787b-4f91-b2b1-b2edf9735c34"
   },
   "outputs": [
    {
     "name": "stdout",
     "output_type": "stream",
     "text": [
      "Top 10 des heures où surviennent le plus de transactions frauduleuses:\n",
      "+----+-----------+\n",
      "|step|fraud_count|\n",
      "+----+-----------+\n",
      "| 212|         40|\n",
      "| 523|         30|\n",
      "| 249|         28|\n",
      "| 501|         28|\n",
      "| 425|         28|\n",
      "| 387|         28|\n",
      "| 730|         28|\n",
      "| 160|         26|\n",
      "| 398|         26|\n",
      "|  66|         24|\n",
      "+----+-----------+\n",
      "\n"
     ]
    }
   ],
   "source": [
    "# Filter for fraudulent transactions\n",
    "fraudulent_transactions = df.filter(col(\"isFraud\") == 1)\n",
    "\n",
    "# Group by 'step' and count fraudulent transactions\n",
    "fraud_by_hour = fraudulent_transactions.groupBy(\"step\").agg(count(\"*\").alias(\"fraud_count\"))\n",
    "\n",
    "# Get top 10 hours with the most fraudulent transactions\n",
    "top_10_fraud_hours = fraud_by_hour.orderBy(\"fraud_count\", ascending=False).limit(10)\n",
    "\n",
    "# Display results\n",
    "print(\"Top 10 des heures où surviennent le plus de transactions frauduleuses:\")\n",
    "top_10_fraud_hours.show()\n"
   ]
  },
  {
   "cell_type": "markdown",
   "id": "755773c3",
   "metadata": {},
   "source": [
    "### <font color=\"#0d94cd\">Indicateur : Top 10 des jours où surviennent le plus de fraudes  </font>"
   ]
  },
  {
   "cell_type": "code",
   "execution_count": 81,
   "id": "rYWhhTyo82Sw",
   "metadata": {
    "id": "rYWhhTyo82Sw"
   },
   "outputs": [
    {
     "name": "stdout",
     "output_type": "stream",
     "text": [
      "Top 10 des jours où surviennent le plus de fraudes : \n",
      "+---+-----------+\n",
      "|day|fraud_count|\n",
      "+---+-----------+\n",
      "| 16|        316|\n",
      "|  2|        306|\n",
      "|  1|        305|\n",
      "| 11|        296|\n",
      "| 30|        282|\n",
      "|  6|        280|\n",
      "| 25|        280|\n",
      "| 26|        276|\n",
      "| 23|        276|\n",
      "|  9|        274|\n",
      "+---+-----------+\n",
      "\n"
     ]
    }
   ],
   "source": [
    "# Filter for fraudulent transactions (where isFraud is marked as 1)\n",
    "fraudulent_transactions = df.filter(col(\"isFraud\") == 1)\n",
    "\n",
    "# Group by day (integer division of step by 24)\n",
    "daily_fraud_summary = fraudulent_transactions.groupBy((col(\"step\") / 24).cast(\"int\").alias(\"day\")) \\\n",
    "                                             .agg(count(\"*\").alias(\"fraud_count\")) \\\n",
    "                                             .orderBy(col(\"fraud_count\").desc()) \\\n",
    "                                             .limit(10)\n",
    "\n",
    "# Display results\n",
    "print(\"Top 10 des jours où surviennent le plus de fraudes : \")\n",
    "daily_fraud_summary.show()\n"
   ]
  },
  {
   "cell_type": "markdown",
   "id": "cb33ce1e",
   "metadata": {},
   "source": [
    "### <font color=\"#0d94cd\">Indicateur : Montant moyen des fraudes  </font>"
   ]
  },
  {
   "cell_type": "code",
   "execution_count": 84,
   "id": "6qP0hWeuAwWh",
   "metadata": {
    "id": "6qP0hWeuAwWh"
   },
   "outputs": [
    {
     "name": "stdout",
     "output_type": "stream",
     "text": [
      "Montant moyen des fraudes : 1467967.30 €\n"
     ]
    }
   ],
   "source": [
    "from pyspark.sql.functions import avg\n",
    "# Calculate the average amount of fraudulent transactions\n",
    "average_fraud_amount = fraudulent_transactions.select(avg(\"amount\")).first()[0] or 0\n",
    "\n",
    "# Display results\n",
    "print(f\"Montant moyen des fraudes : {average_fraud_amount:.2f} €\")"
   ]
  },
  {
   "cell_type": "markdown",
   "id": "dHCHU5UjGrkX",
   "metadata": {
    "id": "dHCHU5UjGrkX"
   },
   "source": [
    "Ce tableau indique que le montant moyen des transactions frauduleuses est d'environ 1 467 967,30. Cela signifie qu'en moyenne, les transactions frauduleuses impliquent des sommes d'argent considérablement plus élevées que les transactions non frauduleuses."
   ]
  },
  {
   "cell_type": "markdown",
   "id": "cdf23cb9",
   "metadata": {},
   "source": [
    "### <font color=\"#0d94cd\">Indicateur : Distribution des montants moyens de fraudes par type </font>"
   ]
  },
  {
   "cell_type": "code",
   "execution_count": 85,
   "id": "ZaP_jkzDAwso",
   "metadata": {
    "colab": {
     "base_uri": "https://localhost:8080/",
     "height": 1000
    },
    "executionInfo": {
     "elapsed": 11365,
     "status": "error",
     "timestamp": 1739820757497,
     "user": {
      "displayName": "Hadja Hadidja",
      "userId": "13124269598925753814"
     },
     "user_tz": -60
    },
    "id": "ZaP_jkzDAwso",
    "outputId": "031e8e07-2d38-4f8b-ce5b-688e50308c0a"
   },
   "outputs": [
    {
     "data": {
      "application/vnd.plotly.v1+json": {
       "config": {
        "plotlyServerURL": "https://plot.ly"
       },
       "data": [
        {
         "alignmentgroup": "True",
         "hovertemplate": "type=%{x}<br>average_fraud_amount=%{y}<extra></extra>",
         "legendgroup": "",
         "marker": {
          "color": "#636efa",
          "pattern": {
           "shape": ""
          }
         },
         "name": "",
         "offsetgroup": "",
         "orientation": "v",
         "showlegend": false,
         "textposition": "auto",
         "type": "bar",
         "x": [
          "TRANSFER",
          "CASH_OUT"
         ],
         "xaxis": "x",
         "y": [
          1480891.672933854,
          1455102.5859645281
         ],
         "yaxis": "y"
        }
       ],
       "layout": {
        "barmode": "relative",
        "legend": {
         "tracegroupgap": 0
        },
        "template": {
         "data": {
          "bar": [
           {
            "error_x": {
             "color": "#2a3f5f"
            },
            "error_y": {
             "color": "#2a3f5f"
            },
            "marker": {
             "line": {
              "color": "#E5ECF6",
              "width": 0.5
             },
             "pattern": {
              "fillmode": "overlay",
              "size": 10,
              "solidity": 0.2
             }
            },
            "type": "bar"
           }
          ],
          "barpolar": [
           {
            "marker": {
             "line": {
              "color": "#E5ECF6",
              "width": 0.5
             },
             "pattern": {
              "fillmode": "overlay",
              "size": 10,
              "solidity": 0.2
             }
            },
            "type": "barpolar"
           }
          ],
          "carpet": [
           {
            "aaxis": {
             "endlinecolor": "#2a3f5f",
             "gridcolor": "white",
             "linecolor": "white",
             "minorgridcolor": "white",
             "startlinecolor": "#2a3f5f"
            },
            "baxis": {
             "endlinecolor": "#2a3f5f",
             "gridcolor": "white",
             "linecolor": "white",
             "minorgridcolor": "white",
             "startlinecolor": "#2a3f5f"
            },
            "type": "carpet"
           }
          ],
          "choropleth": [
           {
            "colorbar": {
             "outlinewidth": 0,
             "ticks": ""
            },
            "type": "choropleth"
           }
          ],
          "contour": [
           {
            "colorbar": {
             "outlinewidth": 0,
             "ticks": ""
            },
            "colorscale": [
             [
              0,
              "#0d0887"
             ],
             [
              0.1111111111111111,
              "#46039f"
             ],
             [
              0.2222222222222222,
              "#7201a8"
             ],
             [
              0.3333333333333333,
              "#9c179e"
             ],
             [
              0.4444444444444444,
              "#bd3786"
             ],
             [
              0.5555555555555556,
              "#d8576b"
             ],
             [
              0.6666666666666666,
              "#ed7953"
             ],
             [
              0.7777777777777778,
              "#fb9f3a"
             ],
             [
              0.8888888888888888,
              "#fdca26"
             ],
             [
              1,
              "#f0f921"
             ]
            ],
            "type": "contour"
           }
          ],
          "contourcarpet": [
           {
            "colorbar": {
             "outlinewidth": 0,
             "ticks": ""
            },
            "type": "contourcarpet"
           }
          ],
          "heatmap": [
           {
            "colorbar": {
             "outlinewidth": 0,
             "ticks": ""
            },
            "colorscale": [
             [
              0,
              "#0d0887"
             ],
             [
              0.1111111111111111,
              "#46039f"
             ],
             [
              0.2222222222222222,
              "#7201a8"
             ],
             [
              0.3333333333333333,
              "#9c179e"
             ],
             [
              0.4444444444444444,
              "#bd3786"
             ],
             [
              0.5555555555555556,
              "#d8576b"
             ],
             [
              0.6666666666666666,
              "#ed7953"
             ],
             [
              0.7777777777777778,
              "#fb9f3a"
             ],
             [
              0.8888888888888888,
              "#fdca26"
             ],
             [
              1,
              "#f0f921"
             ]
            ],
            "type": "heatmap"
           }
          ],
          "heatmapgl": [
           {
            "colorbar": {
             "outlinewidth": 0,
             "ticks": ""
            },
            "colorscale": [
             [
              0,
              "#0d0887"
             ],
             [
              0.1111111111111111,
              "#46039f"
             ],
             [
              0.2222222222222222,
              "#7201a8"
             ],
             [
              0.3333333333333333,
              "#9c179e"
             ],
             [
              0.4444444444444444,
              "#bd3786"
             ],
             [
              0.5555555555555556,
              "#d8576b"
             ],
             [
              0.6666666666666666,
              "#ed7953"
             ],
             [
              0.7777777777777778,
              "#fb9f3a"
             ],
             [
              0.8888888888888888,
              "#fdca26"
             ],
             [
              1,
              "#f0f921"
             ]
            ],
            "type": "heatmapgl"
           }
          ],
          "histogram": [
           {
            "marker": {
             "pattern": {
              "fillmode": "overlay",
              "size": 10,
              "solidity": 0.2
             }
            },
            "type": "histogram"
           }
          ],
          "histogram2d": [
           {
            "colorbar": {
             "outlinewidth": 0,
             "ticks": ""
            },
            "colorscale": [
             [
              0,
              "#0d0887"
             ],
             [
              0.1111111111111111,
              "#46039f"
             ],
             [
              0.2222222222222222,
              "#7201a8"
             ],
             [
              0.3333333333333333,
              "#9c179e"
             ],
             [
              0.4444444444444444,
              "#bd3786"
             ],
             [
              0.5555555555555556,
              "#d8576b"
             ],
             [
              0.6666666666666666,
              "#ed7953"
             ],
             [
              0.7777777777777778,
              "#fb9f3a"
             ],
             [
              0.8888888888888888,
              "#fdca26"
             ],
             [
              1,
              "#f0f921"
             ]
            ],
            "type": "histogram2d"
           }
          ],
          "histogram2dcontour": [
           {
            "colorbar": {
             "outlinewidth": 0,
             "ticks": ""
            },
            "colorscale": [
             [
              0,
              "#0d0887"
             ],
             [
              0.1111111111111111,
              "#46039f"
             ],
             [
              0.2222222222222222,
              "#7201a8"
             ],
             [
              0.3333333333333333,
              "#9c179e"
             ],
             [
              0.4444444444444444,
              "#bd3786"
             ],
             [
              0.5555555555555556,
              "#d8576b"
             ],
             [
              0.6666666666666666,
              "#ed7953"
             ],
             [
              0.7777777777777778,
              "#fb9f3a"
             ],
             [
              0.8888888888888888,
              "#fdca26"
             ],
             [
              1,
              "#f0f921"
             ]
            ],
            "type": "histogram2dcontour"
           }
          ],
          "mesh3d": [
           {
            "colorbar": {
             "outlinewidth": 0,
             "ticks": ""
            },
            "type": "mesh3d"
           }
          ],
          "parcoords": [
           {
            "line": {
             "colorbar": {
              "outlinewidth": 0,
              "ticks": ""
             }
            },
            "type": "parcoords"
           }
          ],
          "pie": [
           {
            "automargin": true,
            "type": "pie"
           }
          ],
          "scatter": [
           {
            "fillpattern": {
             "fillmode": "overlay",
             "size": 10,
             "solidity": 0.2
            },
            "type": "scatter"
           }
          ],
          "scatter3d": [
           {
            "line": {
             "colorbar": {
              "outlinewidth": 0,
              "ticks": ""
             }
            },
            "marker": {
             "colorbar": {
              "outlinewidth": 0,
              "ticks": ""
             }
            },
            "type": "scatter3d"
           }
          ],
          "scattercarpet": [
           {
            "marker": {
             "colorbar": {
              "outlinewidth": 0,
              "ticks": ""
             }
            },
            "type": "scattercarpet"
           }
          ],
          "scattergeo": [
           {
            "marker": {
             "colorbar": {
              "outlinewidth": 0,
              "ticks": ""
             }
            },
            "type": "scattergeo"
           }
          ],
          "scattergl": [
           {
            "marker": {
             "colorbar": {
              "outlinewidth": 0,
              "ticks": ""
             }
            },
            "type": "scattergl"
           }
          ],
          "scattermapbox": [
           {
            "marker": {
             "colorbar": {
              "outlinewidth": 0,
              "ticks": ""
             }
            },
            "type": "scattermapbox"
           }
          ],
          "scatterpolar": [
           {
            "marker": {
             "colorbar": {
              "outlinewidth": 0,
              "ticks": ""
             }
            },
            "type": "scatterpolar"
           }
          ],
          "scatterpolargl": [
           {
            "marker": {
             "colorbar": {
              "outlinewidth": 0,
              "ticks": ""
             }
            },
            "type": "scatterpolargl"
           }
          ],
          "scatterternary": [
           {
            "marker": {
             "colorbar": {
              "outlinewidth": 0,
              "ticks": ""
             }
            },
            "type": "scatterternary"
           }
          ],
          "surface": [
           {
            "colorbar": {
             "outlinewidth": 0,
             "ticks": ""
            },
            "colorscale": [
             [
              0,
              "#0d0887"
             ],
             [
              0.1111111111111111,
              "#46039f"
             ],
             [
              0.2222222222222222,
              "#7201a8"
             ],
             [
              0.3333333333333333,
              "#9c179e"
             ],
             [
              0.4444444444444444,
              "#bd3786"
             ],
             [
              0.5555555555555556,
              "#d8576b"
             ],
             [
              0.6666666666666666,
              "#ed7953"
             ],
             [
              0.7777777777777778,
              "#fb9f3a"
             ],
             [
              0.8888888888888888,
              "#fdca26"
             ],
             [
              1,
              "#f0f921"
             ]
            ],
            "type": "surface"
           }
          ],
          "table": [
           {
            "cells": {
             "fill": {
              "color": "#EBF0F8"
             },
             "line": {
              "color": "white"
             }
            },
            "header": {
             "fill": {
              "color": "#C8D4E3"
             },
             "line": {
              "color": "white"
             }
            },
            "type": "table"
           }
          ]
         },
         "layout": {
          "annotationdefaults": {
           "arrowcolor": "#2a3f5f",
           "arrowhead": 0,
           "arrowwidth": 1
          },
          "autotypenumbers": "strict",
          "coloraxis": {
           "colorbar": {
            "outlinewidth": 0,
            "ticks": ""
           }
          },
          "colorscale": {
           "diverging": [
            [
             0,
             "#8e0152"
            ],
            [
             0.1,
             "#c51b7d"
            ],
            [
             0.2,
             "#de77ae"
            ],
            [
             0.3,
             "#f1b6da"
            ],
            [
             0.4,
             "#fde0ef"
            ],
            [
             0.5,
             "#f7f7f7"
            ],
            [
             0.6,
             "#e6f5d0"
            ],
            [
             0.7,
             "#b8e186"
            ],
            [
             0.8,
             "#7fbc41"
            ],
            [
             0.9,
             "#4d9221"
            ],
            [
             1,
             "#276419"
            ]
           ],
           "sequential": [
            [
             0,
             "#0d0887"
            ],
            [
             0.1111111111111111,
             "#46039f"
            ],
            [
             0.2222222222222222,
             "#7201a8"
            ],
            [
             0.3333333333333333,
             "#9c179e"
            ],
            [
             0.4444444444444444,
             "#bd3786"
            ],
            [
             0.5555555555555556,
             "#d8576b"
            ],
            [
             0.6666666666666666,
             "#ed7953"
            ],
            [
             0.7777777777777778,
             "#fb9f3a"
            ],
            [
             0.8888888888888888,
             "#fdca26"
            ],
            [
             1,
             "#f0f921"
            ]
           ],
           "sequentialminus": [
            [
             0,
             "#0d0887"
            ],
            [
             0.1111111111111111,
             "#46039f"
            ],
            [
             0.2222222222222222,
             "#7201a8"
            ],
            [
             0.3333333333333333,
             "#9c179e"
            ],
            [
             0.4444444444444444,
             "#bd3786"
            ],
            [
             0.5555555555555556,
             "#d8576b"
            ],
            [
             0.6666666666666666,
             "#ed7953"
            ],
            [
             0.7777777777777778,
             "#fb9f3a"
            ],
            [
             0.8888888888888888,
             "#fdca26"
            ],
            [
             1,
             "#f0f921"
            ]
           ]
          },
          "colorway": [
           "#636efa",
           "#EF553B",
           "#00cc96",
           "#ab63fa",
           "#FFA15A",
           "#19d3f3",
           "#FF6692",
           "#B6E880",
           "#FF97FF",
           "#FECB52"
          ],
          "font": {
           "color": "#2a3f5f"
          },
          "geo": {
           "bgcolor": "white",
           "lakecolor": "white",
           "landcolor": "#E5ECF6",
           "showlakes": true,
           "showland": true,
           "subunitcolor": "white"
          },
          "hoverlabel": {
           "align": "left"
          },
          "hovermode": "closest",
          "mapbox": {
           "style": "light"
          },
          "paper_bgcolor": "white",
          "plot_bgcolor": "#E5ECF6",
          "polar": {
           "angularaxis": {
            "gridcolor": "white",
            "linecolor": "white",
            "ticks": ""
           },
           "bgcolor": "#E5ECF6",
           "radialaxis": {
            "gridcolor": "white",
            "linecolor": "white",
            "ticks": ""
           }
          },
          "scene": {
           "xaxis": {
            "backgroundcolor": "#E5ECF6",
            "gridcolor": "white",
            "gridwidth": 2,
            "linecolor": "white",
            "showbackground": true,
            "ticks": "",
            "zerolinecolor": "white"
           },
           "yaxis": {
            "backgroundcolor": "#E5ECF6",
            "gridcolor": "white",
            "gridwidth": 2,
            "linecolor": "white",
            "showbackground": true,
            "ticks": "",
            "zerolinecolor": "white"
           },
           "zaxis": {
            "backgroundcolor": "#E5ECF6",
            "gridcolor": "white",
            "gridwidth": 2,
            "linecolor": "white",
            "showbackground": true,
            "ticks": "",
            "zerolinecolor": "white"
           }
          },
          "shapedefaults": {
           "line": {
            "color": "#2a3f5f"
           }
          },
          "ternary": {
           "aaxis": {
            "gridcolor": "white",
            "linecolor": "white",
            "ticks": ""
           },
           "baxis": {
            "gridcolor": "white",
            "linecolor": "white",
            "ticks": ""
           },
           "bgcolor": "#E5ECF6",
           "caxis": {
            "gridcolor": "white",
            "linecolor": "white",
            "ticks": ""
           }
          },
          "title": {
           "x": 0.05
          },
          "xaxis": {
           "automargin": true,
           "gridcolor": "white",
           "linecolor": "white",
           "ticks": "",
           "title": {
            "standoff": 15
           },
           "zerolinecolor": "white",
           "zerolinewidth": 2
          },
          "yaxis": {
           "automargin": true,
           "gridcolor": "white",
           "linecolor": "white",
           "ticks": "",
           "title": {
            "standoff": 15
           },
           "zerolinecolor": "white",
           "zerolinewidth": 2
          }
         }
        },
        "title": {
         "text": "Distribution des montants moyens de fraude par type de transaction"
        },
        "xaxis": {
         "anchor": "y",
         "domain": [
          0,
          1
         ],
         "title": {
          "text": "type"
         }
        },
        "yaxis": {
         "anchor": "x",
         "domain": [
          0,
          1
         ],
         "title": {
          "text": "average_fraud_amount"
         }
        }
       }
      }
     },
     "metadata": {},
     "output_type": "display_data"
    },
    {
     "name": "stdout",
     "output_type": "stream",
     "text": [
      "Distribution des montants moyens de fraude par type de transaction:\n",
      "+--------+--------------------+\n",
      "|    type|average_fraud_amount|\n",
      "+--------+--------------------+\n",
      "|TRANSFER|   1480891.672933854|\n",
      "|CASH_OUT|  1455102.5859645281|\n",
      "+--------+--------------------+\n",
      "\n"
     ]
    }
   ],
   "source": [
    "# Calculate the average amount of fraudulent transactions by type\n",
    "avg_fraud_by_type = fraudulent_transactions.groupBy(\"type\") \\\n",
    "                                          .agg(avg(\"amount\").alias(\"average_fraud_amount\"))\n",
    "\n",
    "# Convert to Pandas DataFrame for visualization\n",
    "avg_fraud_by_type_pd = avg_fraud_by_type.toPandas()\n",
    "\n",
    "# Create a bar chart using Plotly\n",
    "fig = px.bar(avg_fraud_by_type_pd, x='type', y='average_fraud_amount',\n",
    "             title='Distribution des montants moyens de fraude par type de transaction')\n",
    "\n",
    "fig.show()\n",
    "\n",
    "# Display results\n",
    "print(\"Distribution des montants moyens de fraude par type de transaction:\")\n",
    "avg_fraud_by_type.show()"
   ]
  },
  {
   "cell_type": "code",
   "execution_count": 86,
   "id": "aJmNm7jSAw4l",
   "metadata": {
    "id": "aJmNm7jSAw4l"
   },
   "outputs": [
    {
     "data": {
      "text/plain": [
       "<AxesSubplot:ylabel='amount'>"
      ]
     },
     "execution_count": 86,
     "metadata": {},
     "output_type": "execute_result"
    },
    {
     "data": {
      "image/png": "[encoded data removed]",
      "text/plain": [
       "<Figure size 432x288 with 1 Axes>"
      ]
     },
     "metadata": {
      "needs_background": "light"
     },
     "output_type": "display_data"
    }
   ],
   "source": [
    "data = df.select(\"amount\", \"isFraud\").toPandas()\n",
    "# BoxPlot des transactions avant et après les transactions frauduleuses\n",
    "\n",
    "data[\"isFraud\"] = data[\"isFraud\"].replace({0: \"Non frauduleux\", 1: \"Frauduleux\"})\n",
    "\n",
    "sns.boxplot(y='amount', data=data, hue='isFraud')\n",
    "plt.title(\"Distribution du montant des transactions par type de transaction\")\n",
    "plt.xlabel(\"Type de transaction\")\n",
    "plt.ylabel(\"Montant\")\n",
    "plt.show()"
   ]
  },
  {
   "cell_type": "markdown",
   "id": "ad19bc22",
   "metadata": {},
   "source": [
    "### <font color=\"#0d94cd\">Indicateur : Soldes moyens avant et après les fraudes </font>"
   ]
  },
  {
   "cell_type": "code",
   "execution_count": 87,
   "id": "_QgP-x6wAw8R",
   "metadata": {
    "id": "_QgP-x6wAw8R"
   },
   "outputs": [
    {
     "name": "stdout",
     "output_type": "stream",
     "text": [
      "+------------------+\n",
      "|avg(oldbalanceOrg)|\n",
      "+------------------+\n",
      "|1649667.6057116734|\n",
      "+------------------+\n",
      "\n",
      "+-------------------+\n",
      "|avg(newbalanceOrig)|\n",
      "+-------------------+\n",
      "| 192392.63183611355|\n",
      "+-------------------+\n",
      "\n"
     ]
    }
   ],
   "source": [
    "# Comparaison des soldes avant et après les transactions frauduleuses\n",
    "transactions_frauduleuses = df.filter(df[\"isFraud\"] == 1)\n",
    "soldes_avant_frauduleux = transactions_frauduleuses.agg({\"oldbalanceOrg\": \"avg\"})\n",
    "soldes_apres_frauduleux = transactions_frauduleuses.agg({\"newbalanceOrig\": \"avg\"})\n",
    "\n",
    "soldes_avant_frauduleux.show()\n",
    "soldes_apres_frauduleux.show()\n"
   ]
  },
  {
   "cell_type": "markdown",
   "id": "7c422e2e",
   "metadata": {},
   "source": [
    "### <font color=\"#0d94cd\">Indicateur : Liste des comptes qui ont été vidés </font>"
   ]
  },
  {
   "cell_type": "code",
   "execution_count": null,
   "id": "9195167e",
   "metadata": {},
   "outputs": [
    {
     "name": "stdout",
     "output_type": "stream",
     "text": [
      "+----+--------+---------+-----------+-------------+--------------+-----------+--------------+--------------+-------+--------------+\n",
      "|step|    type|   amount|   nameOrig|oldbalanceOrg|newbalanceOrig|   nameDest|oldbalanceDest|newbalanceDest|isFraud|isFlaggedFraud|\n",
      "+----+--------+---------+-----------+-------------+--------------+-----------+--------------+--------------+-------+--------------+\n",
      "|   1|TRANSFER|    181.0|C1305486145|        181.0|           0.0| C553264065|           0.0|           0.0|      1|             0|\n",
      "|   1|CASH_OUT|    181.0| C840083671|        181.0|           0.0|  C38997010|       21182.0|           0.0|      1|             0|\n",
      "|   1| PAYMENT|  4024.36|C1265012928|       2671.0|           0.0|M1176932104|           0.0|           0.0|      0|             0|\n",
      "|   1|   DEBIT|  9644.94|C1900366749|       4465.0|           0.0| C997608398|       10845.0|     157982.12|      0|             0|\n",
      "|   1| PAYMENT| 11633.76|C1716932897|      10127.0|           0.0| M801569151|           0.0|           0.0|      0|             0|\n",
      "|   1|CASH_OUT|229133.94| C905080434|      15325.0|           0.0| C476402209|        5083.0|      51513.44|      0|             0|\n",
      "|   1| PAYMENT|  1563.82| C761750706|        450.0|           0.0|M1731217984|           0.0|           0.0|      0|             0|\n",
      "|   1|TRANSFER| 215310.3|C1670993182|        705.0|           0.0|C1100439041|       22425.0|           0.0|      0|             0|\n",
      "|   1|TRANSFER|311685.89|C1984094095|      10835.0|           0.0| C932583850|        6267.0|    2719172.89|      0|             0|\n",
      "|   1| PAYMENT|  6061.13|C1043358826|        443.0|           0.0|M1558079303|           0.0|           0.0|      0|             0|\n",
      "|   1| PAYMENT|  8901.99|C1632497828|      2958.91|           0.0|  M33419717|           0.0|           0.0|      0|             0|\n",
      "|   1| PAYMENT|  9920.52| C764826684|          0.0|           0.0|M1940055334|           0.0|           0.0|      0|             0|\n",
      "|   1| PAYMENT|  3448.92|C2103763750|          0.0|           0.0| M335107734|           0.0|           0.0|      0|             0|\n",
      "|   1| PAYMENT|  4206.84| C215078753|          0.0|           0.0|M1757317128|           0.0|           0.0|      0|             0|\n",
      "|   1| PAYMENT|  5885.56| C840514538|          0.0|           0.0|M1804441305|           0.0|           0.0|      0|             0|\n",
      "|   1| PAYMENT|  5307.88|C1768242710|          0.0|           0.0|M1971783162|           0.0|           0.0|      0|             0|\n",
      "|   1| PAYMENT|  5031.22| C247113419|          0.0|           0.0| M151442075|           0.0|           0.0|      0|             0|\n",
      "|   1| PAYMENT| 24213.67|C1238616099|          0.0|           0.0|  M70695990|           0.0|           0.0|      0|             0|\n",
      "|   1| PAYMENT|  8603.42|C1608633989|        253.0|           0.0|M1615617512|           0.0|           0.0|      0|             0|\n",
      "|   1| PAYMENT|  1684.81|C1481594086|        297.0|           0.0|M1569435561|           0.0|           0.0|      0|             0|\n",
      "+----+--------+---------+-----------+-------------+--------------+-----------+--------------+--------------+-------+--------------+\n",
      "only showing top 20 rows\n",
      "\n"
     ]
    }
   ],
   "source": [
    "#Identifier les transactions où newbalanceOrig est inférieur à zéro.\n",
    "\n",
    "transactions_suspectes = df.filter(df[\"newbalanceOrig\"] == 0)\n",
    "transactions_suspectes.show()"
   ]
  },
  {
   "cell_type": "markdown",
   "id": "ee728ca2",
   "metadata": {},
   "source": [
    "### <font color=\"#0d94cd\">Indicateur : Liste des transactions soupçonnées de fraude </font>"
   ]
  },
  {
   "cell_type": "code",
   "execution_count": 91,
   "id": "2Xxna6EZAxWS",
   "metadata": {
    "id": "2Xxna6EZAxWS"
   },
   "outputs": [
    {
     "name": "stdout",
     "output_type": "stream",
     "text": [
      "Liste des transactions soupçonnées de fraude:\n",
      "+----+--------+----------+-----------+-------------+--------------+-----------+--------------+--------------+-------+--------------+\n",
      "|step|    type|    amount|   nameOrig|oldbalanceOrg|newbalanceOrig|   nameDest|oldbalanceDest|newbalanceDest|isFraud|isFlaggedFraud|\n",
      "+----+--------+----------+-----------+-------------+--------------+-----------+--------------+--------------+-------+--------------+\n",
      "| 212|TRANSFER|4953893.08| C728984460|   4953893.08|    4953893.08| C639921569|           0.0|           0.0|      1|             1|\n",
      "| 250|TRANSFER|1343002.08|C1100582606|   1343002.08|    1343002.08|C1147517658|           0.0|           0.0|      1|             1|\n",
      "| 279|TRANSFER| 536624.41|C1035541766|    536624.41|     536624.41|C1100697970|           0.0|           0.0|      1|             1|\n",
      "| 387|TRANSFER|4892193.09| C908544136|   4892193.09|    4892193.09| C891140444|           0.0|           0.0|      1|             1|\n",
      "| 425|TRANSFER|     1.0E7| C689608084|1.958504037E7| 1.958504037E7|C1392803603|           0.0|           0.0|      1|             1|\n",
      "| 425|TRANSFER|9585040.37| C452586515|1.958504037E7| 1.958504037E7|C1109166882|           0.0|           0.0|      1|             1|\n",
      "| 554|TRANSFER| 3576297.1| C193696150|    3576297.1|     3576297.1| C484597480|           0.0|           0.0|      1|             1|\n",
      "| 586|TRANSFER| 353874.22|C1684585475|    353874.22|     353874.22|C1770418982|           0.0|           0.0|      1|             1|\n",
      "| 617|TRANSFER|2542664.27| C786455622|   2542664.27|    2542664.27| C661958277|           0.0|           0.0|      1|             1|\n",
      "| 646|TRANSFER|     1.0E7|  C19004745|1.039904508E7| 1.039904508E7|C1806199534|           0.0|           0.0|      1|             1|\n",
      "| 646|TRANSFER| 399045.08| C724693370|1.039904508E7| 1.039904508E7|C1909486199|           0.0|           0.0|      1|             1|\n",
      "| 671|TRANSFER|3441041.46| C917414431|   3441041.46|    3441041.46|C1082139865|           0.0|           0.0|      1|             1|\n",
      "| 702|TRANSFER|3171085.59|C1892216157|   3171085.59|    3171085.59|C1308068787|           0.0|           0.0|      1|             1|\n",
      "| 730|TRANSFER|     1.0E7|C2140038573|1.731625505E7| 1.731625505E7|C1395467927|           0.0|           0.0|      1|             1|\n",
      "| 730|TRANSFER|7316255.05|C1869569059|1.731625505E7| 1.731625505E7|C1861208726|           0.0|           0.0|      1|             1|\n",
      "| 741|TRANSFER|5674547.89| C992223106|   5674547.89|    5674547.89|C1366804249|           0.0|           0.0|      1|             1|\n",
      "+----+--------+----------+-----------+-------------+--------------+-----------+--------------+--------------+-------+--------------+\n",
      "\n"
     ]
    }
   ],
   "source": [
    "# Filter for suspected fraudulent transactions (where isFraud is marked as 1)\n",
    "suspected_fraud_transactions = df.filter(col(\"isFlaggedFraud\") == 1)\n",
    "\n",
    "# Display results\n",
    "print(\"Liste des transactions soupçonnées de fraude:\")\n",
    "suspected_fraud_transactions.show()"
   ]
  },
  {
   "cell_type": "markdown",
   "id": "yQW_VQMDAzq3",
   "metadata": {
    "id": "yQW_VQMDAzq3"
   },
   "source": [
    "On note que le pourcentage de transaction soupconnées comme étant illégale est très faible dans la base"
   ]
  },
  {
   "cell_type": "markdown",
   "id": "bb061471",
   "metadata": {},
   "source": [
    "### <font color=\"#0d94cd\">Indicateur : Pourcentage de fraudes détectées </font>"
   ]
  },
  {
   "cell_type": "code",
   "execution_count": 93,
   "id": "aef0c601",
   "metadata": {},
   "outputs": [
    {
     "name": "stdout",
     "output_type": "stream",
     "text": [
      "Pourcentage de transactions frauduleuses qui ont été signalées : 0.19%\n"
     ]
    }
   ],
   "source": [
    "# Count total fraudulent transactions\n",
    "total_fraud_count = fraudulent_transactions.count()\n",
    "\n",
    "# Count flagged fraudulent transactions\n",
    "flagged_fraud_count = fraudulent_transactions.filter(col(\"isFlaggedFraud\") == 1).count()\n",
    "\n",
    "# Calculate percentage of flagged frauds\n",
    "if total_fraud_count > 0:\n",
    "    percentage_flagged = (flagged_fraud_count / total_fraud_count) * 100\n",
    "else:\n",
    "    percentage_flagged = 0\n",
    "\n",
    "# Display results\n",
    "print(f\"Pourcentage de transactions frauduleuses qui ont été signalées : {percentage_flagged:.2f}%\")\n"
   ]
  },
  {
   "cell_type": "markdown",
   "id": "e3944cd7",
   "metadata": {},
   "source": [
    "## <font id = '3.4' color=\"#0d94cd\">3.4. Analyse des montants (isFlaggedFraud) </font>"
   ]
  },
  {
   "cell_type": "markdown",
   "id": "ca183732",
   "metadata": {},
   "source": [
    "### <font color=\"#0d94cd\"> Indicateur : Montant total de transactions par type (PAYMENT, TRANSFER, etc.) ; </font>"
   ]
  },
  {
   "cell_type": "code",
   "execution_count": 25,
   "id": "bc6d6552",
   "metadata": {},
   "outputs": [
    {
     "data": {
      "application/vnd.plotly.v1+json": {
       "config": {
        "plotlyServerURL": "https://plot.ly"
       },
       "data": [
        {
         "alignmentgroup": "True",
         "hovertemplate": "Transaction Type=%{x}<br>Total Amount=%{y}<extra></extra>",
         "legendgroup": "",
         "marker": {
          "color": "#636efa",
          "pattern": {
           "shape": ""
          }
         },
         "name": "",
         "offsetgroup": "",
         "orientation": "v",
         "showlegend": false,
         "textposition": "auto",
         "type": "bar",
         "x": [
          "TRANSFER",
          "CASH_IN",
          "CASH_OUT",
          "PAYMENT",
          "DEBIT"
         ],
         "xaxis": "x",
         "y": [
          485291987263.16675,
          236367391912.45865,
          394412995224.4882,
          28093371138.37033,
          227199221.27999964
         ],
         "yaxis": "y"
        }
       ],
       "layout": {
        "barmode": "relative",
        "legend": {
         "tracegroupgap": 0
        },
        "template": {
         "data": {
          "bar": [
           {
            "error_x": {
             "color": "#2a3f5f"
            },
            "error_y": {
             "color": "#2a3f5f"
            },
            "marker": {
             "line": {
              "color": "#E5ECF6",
              "width": 0.5
             },
             "pattern": {
              "fillmode": "overlay",
              "size": 10,
              "solidity": 0.2
             }
            },
            "type": "bar"
           }
          ],
          "barpolar": [
           {
            "marker": {
             "line": {
              "color": "#E5ECF6",
              "width": 0.5
             },
             "pattern": {
              "fillmode": "overlay",
              "size": 10,
              "solidity": 0.2
             }
            },
            "type": "barpolar"
           }
          ],
          "carpet": [
           {
            "aaxis": {
             "endlinecolor": "#2a3f5f",
             "gridcolor": "white",
             "linecolor": "white",
             "minorgridcolor": "white",
             "startlinecolor": "#2a3f5f"
            },
            "baxis": {
             "endlinecolor": "#2a3f5f",
             "gridcolor": "white",
             "linecolor": "white",
             "minorgridcolor": "white",
             "startlinecolor": "#2a3f5f"
            },
            "type": "carpet"
           }
          ],
          "choropleth": [
           {
            "colorbar": {
             "outlinewidth": 0,
             "ticks": ""
            },
            "type": "choropleth"
           }
          ],
          "contour": [
           {
            "colorbar": {
             "outlinewidth": 0,
             "ticks": ""
            },
            "colorscale": [
             [
              0,
              "#0d0887"
             ],
             [
              0.1111111111111111,
              "#46039f"
             ],
             [
              0.2222222222222222,
              "#7201a8"
             ],
             [
              0.3333333333333333,
              "#9c179e"
             ],
             [
              0.4444444444444444,
              "#bd3786"
             ],
             [
              0.5555555555555556,
              "#d8576b"
             ],
             [
              0.6666666666666666,
              "#ed7953"
             ],
             [
              0.7777777777777778,
              "#fb9f3a"
             ],
             [
              0.8888888888888888,
              "#fdca26"
             ],
             [
              1,
              "#f0f921"
             ]
            ],
            "type": "contour"
           }
          ],
          "contourcarpet": [
           {
            "colorbar": {
             "outlinewidth": 0,
             "ticks": ""
            },
            "type": "contourcarpet"
           }
          ],
          "heatmap": [
           {
            "colorbar": {
             "outlinewidth": 0,
             "ticks": ""
            },
            "colorscale": [
             [
              0,
              "#0d0887"
             ],
             [
              0.1111111111111111,
              "#46039f"
             ],
             [
              0.2222222222222222,
              "#7201a8"
             ],
             [
              0.3333333333333333,
              "#9c179e"
             ],
             [
              0.4444444444444444,
              "#bd3786"
             ],
             [
              0.5555555555555556,
              "#d8576b"
             ],
             [
              0.6666666666666666,
              "#ed7953"
             ],
             [
              0.7777777777777778,
              "#fb9f3a"
             ],
             [
              0.8888888888888888,
              "#fdca26"
             ],
             [
              1,
              "#f0f921"
             ]
            ],
            "type": "heatmap"
           }
          ],
          "heatmapgl": [
           {
            "colorbar": {
             "outlinewidth": 0,
             "ticks": ""
            },
            "colorscale": [
             [
              0,
              "#0d0887"
             ],
             [
              0.1111111111111111,
              "#46039f"
             ],
             [
              0.2222222222222222,
              "#7201a8"
             ],
             [
              0.3333333333333333,
              "#9c179e"
             ],
             [
              0.4444444444444444,
              "#bd3786"
             ],
             [
              0.5555555555555556,
              "#d8576b"
             ],
             [
              0.6666666666666666,
              "#ed7953"
             ],
             [
              0.7777777777777778,
              "#fb9f3a"
             ],
             [
              0.8888888888888888,
              "#fdca26"
             ],
             [
              1,
              "#f0f921"
             ]
            ],
            "type": "heatmapgl"
           }
          ],
          "histogram": [
           {
            "marker": {
             "pattern": {
              "fillmode": "overlay",
              "size": 10,
              "solidity": 0.2
             }
            },
            "type": "histogram"
           }
          ],
          "histogram2d": [
           {
            "colorbar": {
             "outlinewidth": 0,
             "ticks": ""
            },
            "colorscale": [
             [
              0,
              "#0d0887"
             ],
             [
              0.1111111111111111,
              "#46039f"
             ],
             [
              0.2222222222222222,
              "#7201a8"
             ],
             [
              0.3333333333333333,
              "#9c179e"
             ],
             [
              0.4444444444444444,
              "#bd3786"
             ],
             [
              0.5555555555555556,
              "#d8576b"
             ],
             [
              0.6666666666666666,
              "#ed7953"
             ],
             [
              0.7777777777777778,
              "#fb9f3a"
             ],
             [
              0.8888888888888888,
              "#fdca26"
             ],
             [
              1,
              "#f0f921"
             ]
            ],
            "type": "histogram2d"
           }
          ],
          "histogram2dcontour": [
           {
            "colorbar": {
             "outlinewidth": 0,
             "ticks": ""
            },
            "colorscale": [
             [
              0,
              "#0d0887"
             ],
             [
              0.1111111111111111,
              "#46039f"
             ],
             [
              0.2222222222222222,
              "#7201a8"
             ],
             [
              0.3333333333333333,
              "#9c179e"
             ],
             [
              0.4444444444444444,
              "#bd3786"
             ],
             [
              0.5555555555555556,
              "#d8576b"
             ],
             [
              0.6666666666666666,
              "#ed7953"
             ],
             [
              0.7777777777777778,
              "#fb9f3a"
             ],
             [
              0.8888888888888888,
              "#fdca26"
             ],
             [
              1,
              "#f0f921"
             ]
            ],
            "type": "histogram2dcontour"
           }
          ],
          "mesh3d": [
           {
            "colorbar": {
             "outlinewidth": 0,
             "ticks": ""
            },
            "type": "mesh3d"
           }
          ],
          "parcoords": [
           {
            "line": {
             "colorbar": {
              "outlinewidth": 0,
              "ticks": ""
             }
            },
            "type": "parcoords"
           }
          ],
          "pie": [
           {
            "automargin": true,
            "type": "pie"
           }
          ],
          "scatter": [
           {
            "fillpattern": {
             "fillmode": "overlay",
             "size": 10,
             "solidity": 0.2
            },
            "type": "scatter"
           }
          ],
          "scatter3d": [
           {
            "line": {
             "colorbar": {
              "outlinewidth": 0,
              "ticks": ""
             }
            },
            "marker": {
             "colorbar": {
              "outlinewidth": 0,
              "ticks": ""
             }
            },
            "type": "scatter3d"
           }
          ],
          "scattercarpet": [
           {
            "marker": {
             "colorbar": {
              "outlinewidth": 0,
              "ticks": ""
             }
            },
            "type": "scattercarpet"
           }
          ],
          "scattergeo": [
           {
            "marker": {
             "colorbar": {
              "outlinewidth": 0,
              "ticks": ""
             }
            },
            "type": "scattergeo"
           }
          ],
          "scattergl": [
           {
            "marker": {
             "colorbar": {
              "outlinewidth": 0,
              "ticks": ""
             }
            },
            "type": "scattergl"
           }
          ],
          "scattermapbox": [
           {
            "marker": {
             "colorbar": {
              "outlinewidth": 0,
              "ticks": ""
             }
            },
            "type": "scattermapbox"
           }
          ],
          "scatterpolar": [
           {
            "marker": {
             "colorbar": {
              "outlinewidth": 0,
              "ticks": ""
             }
            },
            "type": "scatterpolar"
           }
          ],
          "scatterpolargl": [
           {
            "marker": {
             "colorbar": {
              "outlinewidth": 0,
              "ticks": ""
             }
            },
            "type": "scatterpolargl"
           }
          ],
          "scatterternary": [
           {
            "marker": {
             "colorbar": {
              "outlinewidth": 0,
              "ticks": ""
             }
            },
            "type": "scatterternary"
           }
          ],
          "surface": [
           {
            "colorbar": {
             "outlinewidth": 0,
             "ticks": ""
            },
            "colorscale": [
             [
              0,
              "#0d0887"
             ],
             [
              0.1111111111111111,
              "#46039f"
             ],
             [
              0.2222222222222222,
              "#7201a8"
             ],
             [
              0.3333333333333333,
              "#9c179e"
             ],
             [
              0.4444444444444444,
              "#bd3786"
             ],
             [
              0.5555555555555556,
              "#d8576b"
             ],
             [
              0.6666666666666666,
              "#ed7953"
             ],
             [
              0.7777777777777778,
              "#fb9f3a"
             ],
             [
              0.8888888888888888,
              "#fdca26"
             ],
             [
              1,
              "#f0f921"
             ]
            ],
            "type": "surface"
           }
          ],
          "table": [
           {
            "cells": {
             "fill": {
              "color": "#EBF0F8"
             },
             "line": {
              "color": "white"
             }
            },
            "header": {
             "fill": {
              "color": "#C8D4E3"
             },
             "line": {
              "color": "white"
             }
            },
            "type": "table"
           }
          ]
         },
         "layout": {
          "annotationdefaults": {
           "arrowcolor": "#2a3f5f",
           "arrowhead": 0,
           "arrowwidth": 1
          },
          "autotypenumbers": "strict",
          "coloraxis": {
           "colorbar": {
            "outlinewidth": 0,
            "ticks": ""
           }
          },
          "colorscale": {
           "diverging": [
            [
             0,
             "#8e0152"
            ],
            [
             0.1,
             "#c51b7d"
            ],
            [
             0.2,
             "#de77ae"
            ],
            [
             0.3,
             "#f1b6da"
            ],
            [
             0.4,
             "#fde0ef"
            ],
            [
             0.5,
             "#f7f7f7"
            ],
            [
             0.6,
             "#e6f5d0"
            ],
            [
             0.7,
             "#b8e186"
            ],
            [
             0.8,
             "#7fbc41"
            ],
            [
             0.9,
             "#4d9221"
            ],
            [
             1,
             "#276419"
            ]
           ],
           "sequential": [
            [
             0,
             "#0d0887"
            ],
            [
             0.1111111111111111,
             "#46039f"
            ],
            [
             0.2222222222222222,
             "#7201a8"
            ],
            [
             0.3333333333333333,
             "#9c179e"
            ],
            [
             0.4444444444444444,
             "#bd3786"
            ],
            [
             0.5555555555555556,
             "#d8576b"
            ],
            [
             0.6666666666666666,
             "#ed7953"
            ],
            [
             0.7777777777777778,
             "#fb9f3a"
            ],
            [
             0.8888888888888888,
             "#fdca26"
            ],
            [
             1,
             "#f0f921"
            ]
           ],
           "sequentialminus": [
            [
             0,
             "#0d0887"
            ],
            [
             0.1111111111111111,
             "#46039f"
            ],
            [
             0.2222222222222222,
             "#7201a8"
            ],
            [
             0.3333333333333333,
             "#9c179e"
            ],
            [
             0.4444444444444444,
             "#bd3786"
            ],
            [
             0.5555555555555556,
             "#d8576b"
            ],
            [
             0.6666666666666666,
             "#ed7953"
            ],
            [
             0.7777777777777778,
             "#fb9f3a"
            ],
            [
             0.8888888888888888,
             "#fdca26"
            ],
            [
             1,
             "#f0f921"
            ]
           ]
          },
          "colorway": [
           "#636efa",
           "#EF553B",
           "#00cc96",
           "#ab63fa",
           "#FFA15A",
           "#19d3f3",
           "#FF6692",
           "#B6E880",
           "#FF97FF",
           "#FECB52"
          ],
          "font": {
           "color": "#2a3f5f"
          },
          "geo": {
           "bgcolor": "white",
           "lakecolor": "white",
           "landcolor": "#E5ECF6",
           "showlakes": true,
           "showland": true,
           "subunitcolor": "white"
          },
          "hoverlabel": {
           "align": "left"
          },
          "hovermode": "closest",
          "mapbox": {
           "style": "light"
          },
          "paper_bgcolor": "white",
          "plot_bgcolor": "#E5ECF6",
          "polar": {
           "angularaxis": {
            "gridcolor": "white",
            "linecolor": "white",
            "ticks": ""
           },
           "bgcolor": "#E5ECF6",
           "radialaxis": {
            "gridcolor": "white",
            "linecolor": "white",
            "ticks": ""
           }
          },
          "scene": {
           "xaxis": {
            "backgroundcolor": "#E5ECF6",
            "gridcolor": "white",
            "gridwidth": 2,
            "linecolor": "white",
            "showbackground": true,
            "ticks": "",
            "zerolinecolor": "white"
           },
           "yaxis": {
            "backgroundcolor": "#E5ECF6",
            "gridcolor": "white",
            "gridwidth": 2,
            "linecolor": "white",
            "showbackground": true,
            "ticks": "",
            "zerolinecolor": "white"
           },
           "zaxis": {
            "backgroundcolor": "#E5ECF6",
            "gridcolor": "white",
            "gridwidth": 2,
            "linecolor": "white",
            "showbackground": true,
            "ticks": "",
            "zerolinecolor": "white"
           }
          },
          "shapedefaults": {
           "line": {
            "color": "#2a3f5f"
           }
          },
          "ternary": {
           "aaxis": {
            "gridcolor": "white",
            "linecolor": "white",
            "ticks": ""
           },
           "baxis": {
            "gridcolor": "white",
            "linecolor": "white",
            "ticks": ""
           },
           "bgcolor": "#E5ECF6",
           "caxis": {
            "gridcolor": "white",
            "linecolor": "white",
            "ticks": ""
           }
          },
          "title": {
           "x": 0.05
          },
          "xaxis": {
           "automargin": true,
           "gridcolor": "white",
           "linecolor": "white",
           "ticks": "",
           "title": {
            "standoff": 15
           },
           "zerolinecolor": "white",
           "zerolinewidth": 2
          },
          "yaxis": {
           "automargin": true,
           "gridcolor": "white",
           "linecolor": "white",
           "ticks": "",
           "title": {
            "standoff": 15
           },
           "zerolinecolor": "white",
           "zerolinewidth": 2
          }
         }
        },
        "title": {
         "text": "Total Transaction Amount by Type"
        },
        "xaxis": {
         "anchor": "y",
         "domain": [
          0,
          1
         ],
         "title": {
          "text": "Transaction Type"
         }
        },
        "yaxis": {
         "anchor": "x",
         "domain": [
          0,
          1
         ],
         "title": {
          "text": "Total Amount"
         }
        }
       }
      }
     },
     "metadata": {},
     "output_type": "display_data"
    }
   ],
   "source": [
    "# Calculate total amount per transaction type\n",
    "transaction_totals = df.groupBy(\"type\").agg(sum(\"amount\").alias(\"total_amount\"))\n",
    "\n",
    "# Convert to Pandas DataFrame for plotting with Plotly\n",
    "transaction_totals_pd = transaction_totals.toPandas()\n",
    "\n",
    "# Create bar chart using Plotly\n",
    "fig = px.bar(transaction_totals_pd, x=\"type\", y=\"total_amount\",\n",
    "             title=\"Total Transaction Amount by Type\",\n",
    "             labels={\"type\": \"Transaction Type\", \"total_amount\": \"Total Amount\"})\n",
    "\n",
    "# Show the plot\n",
    "fig.show()\n",
    "\n"
   ]
  },
  {
   "cell_type": "markdown",
   "id": "zKvl4d-0BFGZ",
   "metadata": {
    "id": "zKvl4d-0BFGZ"
   },
   "source": [
    "# <div  id='IV' style=\"padding:20px;color:white;margin:0;font-size:35px;font-family:Verdana;text-align:center;display:fill;border-radius:5px;background-color:lightskyblue;overflow:hidden\"><b> IV. MODELISATION DE LA FRAUDE </b></div>"
   ]
  },
  {
   "cell_type": "markdown",
   "id": "a83a36aa",
   "metadata": {},
   "source": [
    "## <font id = '4.1' color=\"#0d94cd\">4.1. Préparation des données  </font>"
   ]
  },
  {
   "cell_type": "markdown",
   "id": "59361b51",
   "metadata": {},
   "source": [
    "### <font color=\"#0d94cd\"> Sélection des variables </font>"
   ]
  },
  {
   "cell_type": "code",
   "execution_count": 26,
   "id": "n-nAHA9ocoFJ",
   "metadata": {
    "id": "n-nAHA9ocoFJ"
   },
   "outputs": [],
   "source": [
    "df = df.select(\"type\", \"amount\", \"oldbalanceOrg\", \"newbalanceOrig\",\"oldbalanceDest\", \"newbalanceDest\", \"isFraud\")"
   ]
  },
  {
   "cell_type": "markdown",
   "id": "3ed4e73a",
   "metadata": {},
   "source": [
    "### <font color=\"#0d94cd\"> Données d'entrainement et données de test</font>"
   ]
  },
  {
   "cell_type": "code",
   "execution_count": 27,
   "id": "K2_ipNCrAxZs",
   "metadata": {
    "id": "K2_ipNCrAxZs"
   },
   "outputs": [],
   "source": [
    "train, test = df.randomSplit([0.7, 0.3], seed=7)"
   ]
  },
  {
   "cell_type": "code",
   "execution_count": 28,
   "id": "u4Mj57_yCimO",
   "metadata": {
    "id": "u4Mj57_yCimO"
   },
   "outputs": [
    {
     "name": "stdout",
     "output_type": "stream",
     "text": [
      "Train set length: 4451877 records\n",
      "Test set length: 1910743 records\n"
     ]
    }
   ],
   "source": [
    "print(f\"Train set length: {train.count()} records\")\n",
    "print(f\"Test set length: {test.count()} records\")"
   ]
  },
  {
   "cell_type": "code",
   "execution_count": 29,
   "id": "lId-HH0KCio3",
   "metadata": {
    "id": "lId-HH0KCio3"
   },
   "outputs": [
    {
     "data": {
      "text/plain": [
       "[('type', 'string'),\n",
       " ('amount', 'double'),\n",
       " ('oldbalanceOrg', 'double'),\n",
       " ('newbalanceOrig', 'double'),\n",
       " ('oldbalanceDest', 'double'),\n",
       " ('newbalanceDest', 'double'),\n",
       " ('isFraud', 'int')]"
      ]
     },
     "execution_count": 29,
     "metadata": {},
     "output_type": "execute_result"
    }
   ],
   "source": [
    "train.dtypes"
   ]
  },
  {
   "cell_type": "markdown",
   "id": "0de0722f",
   "metadata": {},
   "source": [
    "### <font color=\"#0d94cd\"> Scinder en variables catégorielles et variables numériques pour l'encodage</font>"
   ]
  },
  {
   "cell_type": "code",
   "execution_count": 30,
   "id": "gWJo4i77Cirj",
   "metadata": {
    "id": "gWJo4i77Cirj"
   },
   "outputs": [],
   "source": [
    "catCols = [x for (x, dataType) in train.dtypes if dataType == \"string\"]\n",
    "numCols = [ x for (x, dataType) in train.dtypes if (dataType == \"double\") ]"
   ]
  },
  {
   "cell_type": "code",
   "execution_count": 31,
   "id": "-YQFtCKXDAtH",
   "metadata": {
    "colab": {
     "base_uri": "https://localhost:8080/"
    },
    "executionInfo": {
     "elapsed": 2,
     "status": "ok",
     "timestamp": 1739737710254,
     "user": {
      "displayName": "Henoc",
      "userId": "14543655091629578091"
     },
     "user_tz": -60
    },
    "id": "-YQFtCKXDAtH",
    "outputId": "ec2089df-b4ca-4da2-9837-698baa286de9"
   },
   "outputs": [
    {
     "data": {
      "text/plain": [
       "['type']"
      ]
     },
     "execution_count": 31,
     "metadata": {},
     "output_type": "execute_result"
    }
   ],
   "source": [
    "catCols"
   ]
  },
  {
   "cell_type": "markdown",
   "id": "dwKG-a1XCxhz",
   "metadata": {
    "id": "dwKG-a1XCxhz"
   },
   "source": [
    "### <font color=\"#0d94cd\"> Encodage des variables catégorielles</font>"
   ]
  },
  {
   "cell_type": "code",
   "execution_count": 32,
   "id": "afAb9WusCiu0",
   "metadata": {
    "id": "afAb9WusCiu0"
   },
   "outputs": [],
   "source": [
    "from pyspark.ml.feature import (\n",
    "    OneHotEncoder,\n",
    "    StringIndexer,\n",
    ")\n",
    "\n",
    "\n"
   ]
  },
  {
   "cell_type": "code",
   "execution_count": 33,
   "id": "CmtayVxEDEFS",
   "metadata": {
    "id": "CmtayVxEDEFS"
   },
   "outputs": [],
   "source": [
    "string_indexer = [\n",
    "    StringIndexer(inputCol=x, outputCol=x + \"_StringIndexer\", handleInvalid=\"skip\")\n",
    "    for x in catCols\n",
    "]"
   ]
  },
  {
   "cell_type": "code",
   "execution_count": 34,
   "id": "bH6GNGIqDEH6",
   "metadata": {
    "colab": {
     "base_uri": "https://localhost:8080/"
    },
    "executionInfo": {
     "elapsed": 9629,
     "status": "ok",
     "timestamp": 1739737746774,
     "user": {
      "displayName": "Henoc",
      "userId": "14543655091629578091"
     },
     "user_tz": -60
    },
    "id": "bH6GNGIqDEH6",
    "outputId": "8986defb-3831-4854-bd70-83c7d852850c"
   },
   "outputs": [
    {
     "name": "stdout",
     "output_type": "stream",
     "text": [
      "+--------+---------+-------------+--------------+--------------+--------------+-------+------------------+\n",
      "|    type|   amount|oldbalanceOrg|newbalanceOrig|oldbalanceDest|newbalanceDest|isFraud|type_StringIndexer|\n",
      "+--------+---------+-------------+--------------+--------------+--------------+-------+------------------+\n",
      "| PAYMENT|  9839.64|     170136.0|     160296.36|           0.0|           0.0|      0|               1.0|\n",
      "| PAYMENT|  1864.28|      21249.0|      19384.72|           0.0|           0.0|      0|               1.0|\n",
      "|TRANSFER|    181.0|        181.0|           0.0|           0.0|           0.0|      1|               3.0|\n",
      "|CASH_OUT|    181.0|        181.0|           0.0|       21182.0|           0.0|      1|               0.0|\n",
      "| PAYMENT| 11668.14|      41554.0|      29885.86|           0.0|           0.0|      0|               1.0|\n",
      "| PAYMENT|  7817.71|      53860.0|      46042.29|           0.0|           0.0|      0|               1.0|\n",
      "| PAYMENT|  7107.77|     183195.0|     176087.23|           0.0|           0.0|      0|               1.0|\n",
      "| PAYMENT|  7861.64|    176087.23|     168225.59|           0.0|           0.0|      0|               1.0|\n",
      "| PAYMENT|  4024.36|       2671.0|           0.0|           0.0|           0.0|      0|               1.0|\n",
      "|   DEBIT|  5337.77|      41720.0|      36382.23|       41898.0|      40348.79|      0|               4.0|\n",
      "|   DEBIT|  9644.94|       4465.0|           0.0|       10845.0|     157982.12|      0|               4.0|\n",
      "| PAYMENT|  3099.97|      20771.0|      17671.03|           0.0|           0.0|      0|               1.0|\n",
      "| PAYMENT|  2560.74|       5070.0|       2509.26|           0.0|           0.0|      0|               1.0|\n",
      "| PAYMENT| 11633.76|      10127.0|           0.0|           0.0|           0.0|      0|               1.0|\n",
      "| PAYMENT|  4098.78|     503264.0|     499165.22|           0.0|           0.0|      0|               1.0|\n",
      "|CASH_OUT|229133.94|      15325.0|           0.0|        5083.0|      51513.44|      0|               0.0|\n",
      "| PAYMENT|  1563.82|        450.0|           0.0|           0.0|           0.0|      0|               1.0|\n",
      "| PAYMENT|  1157.86|      21156.0|      19998.14|           0.0|           0.0|      0|               1.0|\n",
      "| PAYMENT|   671.64|      15123.0|      14451.36|           0.0|           0.0|      0|               1.0|\n",
      "|TRANSFER| 215310.3|        705.0|           0.0|       22425.0|           0.0|      0|               3.0|\n",
      "+--------+---------+-------------+--------------+--------------+--------------+-------+------------------+\n",
      "only showing top 20 rows\n",
      "\n"
     ]
    }
   ],
   "source": [
    "string_indexe=string_indexer[0].fit(df).transform(df)\n",
    "string_indexe.show()"
   ]
  },
  {
   "cell_type": "code",
   "execution_count": 35,
   "id": "zJoKr5DMDELD",
   "metadata": {
    "id": "zJoKr5DMDELD"
   },
   "outputs": [],
   "source": [
    "one_hot_encoder = [\n",
    "    OneHotEncoder(\n",
    "        inputCols=[f\"{x}_StringIndexer\" for x in catCols],\n",
    "        outputCols=[f\"{x}_OneHotEncoder\" for x in catCols],\n",
    "    )\n",
    "]"
   ]
  },
  {
   "cell_type": "code",
   "execution_count": 36,
   "id": "ra0plWA8DKTT",
   "metadata": {
    "colab": {
     "base_uri": "https://localhost:8080/"
    },
    "executionInfo": {
     "elapsed": 507,
     "status": "ok",
     "timestamp": 1739737748410,
     "user": {
      "displayName": "Henoc",
      "userId": "14543655091629578091"
     },
     "user_tz": -60
    },
    "id": "ra0plWA8DKTT",
    "outputId": "caeb7802-f140-4092-8aeb-7323054195a7"
   },
   "outputs": [
    {
     "name": "stdout",
     "output_type": "stream",
     "text": [
      "+--------+---------+-------------+--------------+--------------+--------------+-------+------------------+------------------+\n",
      "|    type|   amount|oldbalanceOrg|newbalanceOrig|oldbalanceDest|newbalanceDest|isFraud|type_StringIndexer|type_OneHotEncoder|\n",
      "+--------+---------+-------------+--------------+--------------+--------------+-------+------------------+------------------+\n",
      "| PAYMENT|  9839.64|     170136.0|     160296.36|           0.0|           0.0|      0|               1.0|     (4,[1],[1.0])|\n",
      "| PAYMENT|  1864.28|      21249.0|      19384.72|           0.0|           0.0|      0|               1.0|     (4,[1],[1.0])|\n",
      "|TRANSFER|    181.0|        181.0|           0.0|           0.0|           0.0|      1|               3.0|     (4,[3],[1.0])|\n",
      "|CASH_OUT|    181.0|        181.0|           0.0|       21182.0|           0.0|      1|               0.0|     (4,[0],[1.0])|\n",
      "| PAYMENT| 11668.14|      41554.0|      29885.86|           0.0|           0.0|      0|               1.0|     (4,[1],[1.0])|\n",
      "| PAYMENT|  7817.71|      53860.0|      46042.29|           0.0|           0.0|      0|               1.0|     (4,[1],[1.0])|\n",
      "| PAYMENT|  7107.77|     183195.0|     176087.23|           0.0|           0.0|      0|               1.0|     (4,[1],[1.0])|\n",
      "| PAYMENT|  7861.64|    176087.23|     168225.59|           0.0|           0.0|      0|               1.0|     (4,[1],[1.0])|\n",
      "| PAYMENT|  4024.36|       2671.0|           0.0|           0.0|           0.0|      0|               1.0|     (4,[1],[1.0])|\n",
      "|   DEBIT|  5337.77|      41720.0|      36382.23|       41898.0|      40348.79|      0|               4.0|         (4,[],[])|\n",
      "|   DEBIT|  9644.94|       4465.0|           0.0|       10845.0|     157982.12|      0|               4.0|         (4,[],[])|\n",
      "| PAYMENT|  3099.97|      20771.0|      17671.03|           0.0|           0.0|      0|               1.0|     (4,[1],[1.0])|\n",
      "| PAYMENT|  2560.74|       5070.0|       2509.26|           0.0|           0.0|      0|               1.0|     (4,[1],[1.0])|\n",
      "| PAYMENT| 11633.76|      10127.0|           0.0|           0.0|           0.0|      0|               1.0|     (4,[1],[1.0])|\n",
      "| PAYMENT|  4098.78|     503264.0|     499165.22|           0.0|           0.0|      0|               1.0|     (4,[1],[1.0])|\n",
      "|CASH_OUT|229133.94|      15325.0|           0.0|        5083.0|      51513.44|      0|               0.0|     (4,[0],[1.0])|\n",
      "| PAYMENT|  1563.82|        450.0|           0.0|           0.0|           0.0|      0|               1.0|     (4,[1],[1.0])|\n",
      "| PAYMENT|  1157.86|      21156.0|      19998.14|           0.0|           0.0|      0|               1.0|     (4,[1],[1.0])|\n",
      "| PAYMENT|   671.64|      15123.0|      14451.36|           0.0|           0.0|      0|               1.0|     (4,[1],[1.0])|\n",
      "|TRANSFER| 215310.3|        705.0|           0.0|       22425.0|           0.0|      0|               3.0|     (4,[3],[1.0])|\n",
      "+--------+---------+-------------+--------------+--------------+--------------+-------+------------------+------------------+\n",
      "only showing top 20 rows\n",
      "\n"
     ]
    }
   ],
   "source": [
    "one_hot_encoder_df=one_hot_encoder[0].fit(string_indexe).transform(string_indexe)\n",
    "one_hot_encoder_df.show()\n"
   ]
  },
  {
   "cell_type": "markdown",
   "id": "3zrCPiA0DKV9",
   "metadata": {
    "id": "3zrCPiA0DKV9"
   },
   "source": [
    "### <font color=\"#0d94cd\"> Assembler les variables avant la modélisation</font>"
   ]
  },
  {
   "cell_type": "code",
   "execution_count": 37,
   "id": "wwrxfFeXDKYj",
   "metadata": {
    "id": "wwrxfFeXDKYj"
   },
   "outputs": [],
   "source": [
    "from pyspark.ml.feature import VectorAssembler"
   ]
  },
  {
   "cell_type": "code",
   "execution_count": 38,
   "id": "oYqW1SSxDKbG",
   "metadata": {
    "id": "oYqW1SSxDKbG"
   },
   "outputs": [],
   "source": [
    "assemblerInput = [x for x in numCols]\n",
    "assemblerInput += [f\"{x}_OneHotEncoder\" for x in catCols]"
   ]
  },
  {
   "cell_type": "code",
   "execution_count": 39,
   "id": "DEH1vndUDKdZ",
   "metadata": {
    "colab": {
     "base_uri": "https://localhost:8080/"
    },
    "executionInfo": {
     "elapsed": 4,
     "status": "ok",
     "timestamp": 1739737760675,
     "user": {
      "displayName": "Henoc",
      "userId": "14543655091629578091"
     },
     "user_tz": -60
    },
    "id": "DEH1vndUDKdZ",
    "outputId": "94b70e62-8a04-4d8c-e236-9d0325f45a3d"
   },
   "outputs": [
    {
     "data": {
      "text/plain": [
       "['amount',\n",
       " 'oldbalanceOrg',\n",
       " 'newbalanceOrig',\n",
       " 'oldbalanceDest',\n",
       " 'newbalanceDest',\n",
       " 'type_OneHotEncoder']"
      ]
     },
     "execution_count": 39,
     "metadata": {},
     "output_type": "execute_result"
    }
   ],
   "source": [
    "assemblerInput"
   ]
  },
  {
   "cell_type": "code",
   "execution_count": 40,
   "id": "AstPTGqoDKfv",
   "metadata": {
    "id": "AstPTGqoDKfv"
   },
   "outputs": [],
   "source": [
    "vector_assembler = VectorAssembler(\n",
    "    inputCols=assemblerInput, outputCol=\"VectorAssembler_features\"\n",
    ")"
   ]
  },
  {
   "cell_type": "code",
   "execution_count": 41,
   "id": "Df-ctWwnDKiO",
   "metadata": {
    "id": "Df-ctWwnDKiO"
   },
   "outputs": [],
   "source": [
    "stages = []\n",
    "stages += string_indexer\n",
    "stages += one_hot_encoder\n",
    "stages += [vector_assembler]\n"
   ]
  },
  {
   "cell_type": "code",
   "execution_count": 42,
   "id": "1WeIfimtDKmx",
   "metadata": {
    "id": "1WeIfimtDKmx"
   },
   "outputs": [],
   "source": [
    "#%%time\n",
    "from pyspark.ml import Pipeline\n",
    "\n",
    "pipeline = Pipeline().setStages(stages)\n",
    "model = pipeline.fit(train)\n",
    "\n",
    "pp_df = model.transform(train)"
   ]
  },
  {
   "cell_type": "code",
   "execution_count": null,
   "id": "H_fh5F9ODbEQ",
   "metadata": {
    "colab": {
     "base_uri": "https://localhost:8080/"
    },
    "executionInfo": {
     "elapsed": 7182,
     "status": "ok",
     "timestamp": 1739737796799,
     "user": {
      "displayName": "Henoc",
      "userId": "14543655091629578091"
     },
     "user_tz": -60
    },
    "id": "H_fh5F9ODbEQ",
    "outputId": "05a7c3f1-3da2-41f8-c0a3-c4faf3d1092a"
   },
   "outputs": [
    {
     "name": "stdout",
     "output_type": "stream",
     "text": [
      "+-------+------+-------------+--------------+--------------------------------------------------+\n",
      "|type   |amount|oldbalanceOrg|newbalanceOrig|VectorAssembler_features                          |\n",
      "+-------+------+-------------+--------------+--------------------------------------------------+\n",
      "|CASH_IN|1.42  |1270713.41   |1270714.83    |[1.42,1270713.41,1270714.83,0.0,0.0,1.0,0.0]      |\n",
      "|CASH_IN|4.35  |4136277.22   |4136281.57    |[4.35,4136277.22,4136281.57,0.0,0.0,1.0,0.0]      |\n",
      "|CASH_IN|4.71  |50198.0      |50202.71      |[4.71,50198.0,50202.71,0.0,0.0,1.0,0.0]           |\n",
      "|CASH_IN|5.19  |18104.0      |18109.19      |[5.19,18104.0,18109.19,0.0,0.0,1.0,0.0]           |\n",
      "|CASH_IN|5.66  |5061561.06   |5061566.72    |[5.66,5061561.06,5061566.72,0.0,0.0,1.0,0.0]      |\n",
      "|CASH_IN|6.5   |1696433.45   |1696439.95    |[6.5,1696433.45,1696439.95,0.0,0.0,1.0,0.0]       |\n",
      "|CASH_IN|8.29  |20392.0      |20400.29      |[8.29,20392.0,20400.29,0.0,0.0,1.0,0.0]           |\n",
      "|CASH_IN|9.02  |2416260.59   |2416269.61    |[9.02,2416260.59,2416269.61,0.0,0.0,1.0,0.0]      |\n",
      "|CASH_IN|9.22  |7730148.9    |7730158.12    |[9.22,7730148.9,7730158.12,0.0,0.0,1.0,0.0]       |\n",
      "|CASH_IN|12.18 |299322.0     |299334.18     |[12.18,299322.0,299334.18,0.0,0.0,1.0,0.0]        |\n",
      "|CASH_IN|13.2  |106204.0     |106217.2      |[13.2,106204.0,106217.2,0.0,0.0,1.0,0.0]          |\n",
      "|CASH_IN|13.86 |6868100.18   |6868114.04    |[13.86,6868100.18,6868114.04,0.0,0.0,1.0,0.0]     |\n",
      "|CASH_IN|15.59 |1.64294897E7 |1.642950528E7 |[15.59,1.64294897E7,1.642950528E7,0.0,0.0,1.0,0.0]|\n",
      "|CASH_IN|16.3  |2.140511936E7|2.140513566E7 |[16.3,2.140511936E7,2.140513566E7,0.0,0.0,1.0,0.0]|\n",
      "|CASH_IN|16.89 |0.0          |16.89         |(7,[0,2,5],[16.89,16.89,1.0])                     |\n",
      "|CASH_IN|18.53 |951352.78    |951371.31     |[18.53,951352.78,951371.31,0.0,0.0,1.0,0.0]       |\n",
      "|CASH_IN|20.34 |991344.41    |991364.74     |[20.34,991344.41,991364.74,0.0,0.0,1.0,0.0]       |\n",
      "|CASH_IN|21.15 |2729078.29   |2729099.44    |[21.15,2729078.29,2729099.44,0.0,0.0,1.0,0.0]     |\n",
      "|CASH_IN|21.57 |104362.0     |104383.57     |[21.57,104362.0,104383.57,0.0,0.0,1.0,0.0]        |\n",
      "|CASH_IN|22.81 |875946.0     |875968.82     |[22.81,875946.0,875968.82,0.0,0.0,1.0,0.0]        |\n",
      "+-------+------+-------------+--------------+--------------------------------------------------+\n",
      "only showing top 20 rows\n",
      "\n"
     ]
    }
   ],
   "source": [
    "pp_df.select(\n",
    "    \"type\", \"amount\", \"oldbalanceOrg\", \"newbalanceOrig\", \"VectorAssembler_features\",\n",
    ").show(truncate=False)"
   ]
  },
  {
   "cell_type": "code",
   "execution_count": 43,
   "id": "vmITkiFADbHk",
   "metadata": {
    "colab": {
     "base_uri": "https://localhost:8080/"
    },
    "executionInfo": {
     "elapsed": 6367,
     "status": "ok",
     "timestamp": 1739737803162,
     "user": {
      "displayName": "Henoc",
      "userId": "14543655091629578091"
     },
     "user_tz": -60
    },
    "id": "vmITkiFADbHk",
    "outputId": "de0f20af-bd4e-4a4a-8917-260971faef15"
   },
   "outputs": [
    {
     "name": "stdout",
     "output_type": "stream",
     "text": [
      "+-------+------+-------------+--------------+--------------+--------------+-------+------------------+------------------+------------------------+\n",
      "|   type|amount|oldbalanceOrg|newbalanceOrig|oldbalanceDest|newbalanceDest|isFraud|type_StringIndexer|type_OneHotEncoder|VectorAssembler_features|\n",
      "+-------+------+-------------+--------------+--------------+--------------+-------+------------------+------------------+------------------------+\n",
      "|CASH_IN|  1.42|   1270713.41|    1270714.83|       7644.26|       7642.84|      0|               2.0|     (4,[2],[1.0])|    [1.42,1270713.41,...|\n",
      "|CASH_IN|  4.35|   4136277.22|    4136281.57|     550806.01|     550801.66|      0|               2.0|     (4,[2],[1.0])|    [4.35,4136277.22,...|\n",
      "|CASH_IN|  4.71|      50198.0|      50202.71|      75699.61|      75694.89|      0|               2.0|     (4,[2],[1.0])|    [4.71,50198.0,502...|\n",
      "|CASH_IN|  5.19|      18104.0|      18109.19|    4753751.26|    4753746.06|      0|               2.0|     (4,[2],[1.0])|    [5.19,18104.0,181...|\n",
      "|CASH_IN|  5.66|   5061561.06|    5061566.72|      60569.78|      60564.12|      0|               2.0|     (4,[2],[1.0])|    [5.66,5061561.06,...|\n",
      "|CASH_IN|   6.5|   1696433.45|    1696439.95|    1761149.91|    2056222.87|      0|               2.0|     (4,[2],[1.0])|    [6.5,1696433.45,1...|\n",
      "|CASH_IN|  8.29|      20392.0|      20400.29|    1805656.73|    1805648.43|      0|               2.0|     (4,[2],[1.0])|    [8.29,20392.0,204...|\n",
      "|CASH_IN|  9.02|   2416260.59|    2416269.61|     342107.85|     215696.34|      0|               2.0|     (4,[2],[1.0])|    [9.02,2416260.59,...|\n",
      "|CASH_IN| 12.18|     299322.0|     299334.18|     111674.12|     111661.94|      0|               2.0|     (4,[2],[1.0])|    [12.18,299322.0,2...|\n",
      "|CASH_IN|  13.2|     106204.0|      106217.2|      50112.07|      50098.87|      0|               2.0|     (4,[2],[1.0])|    [13.2,106204.0,10...|\n",
      "|CASH_IN| 14.36|    613030.46|     613044.82|       31184.0|     947011.93|      0|               2.0|     (4,[2],[1.0])|    [14.36,613030.46,...|\n",
      "|CASH_IN|  14.4|1.143460813E7| 1.143462253E7|       46093.0|     124958.22|      0|               2.0|     (4,[2],[1.0])|    [14.4,1.143460813...|\n",
      "|CASH_IN| 16.89|          0.0|         16.89|     473704.52|     473687.63|      0|               2.0|     (4,[2],[1.0])|    [16.89,0.0,16.89,...|\n",
      "|CASH_IN| 17.33|   8964056.72|    8964074.05|    1129421.51|    1129404.18|      0|               2.0|     (4,[2],[1.0])|    [17.33,8964056.72...|\n",
      "|CASH_IN| 17.53|   1111294.85|    1111312.37|     401071.27|     401053.74|      0|               2.0|     (4,[2],[1.0])|    [17.53,1111294.85...|\n",
      "|CASH_IN| 21.15|   2729078.29|    2729099.44|     328283.23|     328262.09|      0|               2.0|     (4,[2],[1.0])|    [21.15,2729078.29...|\n",
      "|CASH_IN| 21.57|     104362.0|     104383.57|    7251134.87|    7289255.53|      0|               2.0|     (4,[2],[1.0])|    [21.57,104362.0,1...|\n",
      "|CASH_IN| 22.31|          0.0|         22.31|           0.0|    1653244.68|      0|               2.0|     (4,[2],[1.0])|    (9,[0,2,4,7],[22....|\n",
      "|CASH_IN| 22.67|     405940.0|     405962.67|     141837.59|     241427.26|      0|               2.0|     (4,[2],[1.0])|    [22.67,405940.0,4...|\n",
      "|CASH_IN| 23.36|2.442828608E7| 2.442830944E7|    3345782.97|    3313964.31|      0|               2.0|     (4,[2],[1.0])|    [23.36,2.44282860...|\n",
      "+-------+------+-------------+--------------+--------------+--------------+-------+------------------+------------------+------------------------+\n",
      "only showing top 20 rows\n",
      "\n"
     ]
    }
   ],
   "source": [
    "pp_df.show()"
   ]
  },
  {
   "cell_type": "code",
   "execution_count": 44,
   "id": "aflVpT1WDbKv",
   "metadata": {
    "colab": {
     "base_uri": "https://localhost:8080/"
    },
    "executionInfo": {
     "elapsed": 18925,
     "status": "ok",
     "timestamp": 1739737822084,
     "user": {
      "displayName": "Henoc",
      "userId": "14543655091629578091"
     },
     "user_tz": -60
    },
    "id": "aflVpT1WDbKv",
    "outputId": "e94f3f20-0694-44f5-ad13-09524d781aa7"
   },
   "outputs": [
    {
     "data": {
      "text/plain": [
       "1910743"
      ]
     },
     "execution_count": 44,
     "metadata": {},
     "output_type": "execute_result"
    }
   ],
   "source": [
    "\n",
    "test.count()"
   ]
  },
  {
   "cell_type": "code",
   "execution_count": 49,
   "id": "7jxP5bwADbQN",
   "metadata": {
    "id": "7jxP5bwADbQN"
   },
   "outputs": [],
   "source": [
    "df_test=test.where(test.isFraud == 1)\n",
    "df_test_total = test"
   ]
  },
  {
   "cell_type": "markdown",
   "id": "9133f274",
   "metadata": {},
   "source": [
    "## <font id = '4.2' color=\"#0d94cd\">4.2. Exécution des modèle  </font>"
   ]
  },
  {
   "cell_type": "markdown",
   "id": "70mJoYrkDlkY",
   "metadata": {
    "id": "70mJoYrkDlkY"
   },
   "source": [
    "## <font id = '4.2.1' color=\"#0d94cd\">4.2.1. Arbre de décision </font>"
   ]
  },
  {
   "cell_type": "code",
   "execution_count": 50,
   "id": "VWoJikoPDbY2",
   "metadata": {
    "id": "VWoJikoPDbY2"
   },
   "outputs": [],
   "source": [
    "from pyspark.ml.classification import DecisionTreeClassifier\n",
    "import pyspark.sql.functions as F\n",
    "data = pp_df.select(\n",
    "    F.col(\"VectorAssembler_features\").alias(\"features\"),\n",
    "    F.col(\"isFraud\").alias(\"label\"),\n",
    ")"
   ]
  },
  {
   "cell_type": "code",
   "execution_count": 51,
   "id": "qB8pW81_DKqO",
   "metadata": {
    "colab": {
     "base_uri": "https://localhost:8080/"
    },
    "executionInfo": {
     "elapsed": 6865,
     "status": "ok",
     "timestamp": 1739738115798,
     "user": {
      "displayName": "Henoc",
      "userId": "14543655091629578091"
     },
     "user_tz": -60
    },
    "id": "qB8pW81_DKqO",
    "outputId": "87f52bc1-34c3-4e92-b058-1e5e3bb9a6df"
   },
   "outputs": [
    {
     "name": "stdout",
     "output_type": "stream",
     "text": [
      "+----------------------------------------------------------------+-----+\n",
      "|features                                                        |label|\n",
      "+----------------------------------------------------------------+-----+\n",
      "|[1.42,1270713.41,1270714.83,7644.26,7642.84,0.0,0.0,1.0,0.0]    |0    |\n",
      "|[4.35,4136277.22,4136281.57,550806.01,550801.66,0.0,0.0,1.0,0.0]|0    |\n",
      "|[4.71,50198.0,50202.71,75699.61,75694.89,0.0,0.0,1.0,0.0]       |0    |\n",
      "|[5.19,18104.0,18109.19,4753751.26,4753746.06,0.0,0.0,1.0,0.0]   |0    |\n",
      "|[5.66,5061561.06,5061566.72,60569.78,60564.12,0.0,0.0,1.0,0.0]  |0    |\n",
      "+----------------------------------------------------------------+-----+\n",
      "only showing top 5 rows\n",
      "\n"
     ]
    }
   ],
   "source": [
    "data.show(5, truncate=False)"
   ]
  },
  {
   "cell_type": "code",
   "execution_count": 52,
   "id": "QI4TrozsDq5L",
   "metadata": {
    "colab": {
     "base_uri": "https://localhost:8080/"
    },
    "executionInfo": {
     "elapsed": 6803,
     "status": "ok",
     "timestamp": 1739738122598,
     "user": {
      "displayName": "Henoc",
      "userId": "14543655091629578091"
     },
     "user_tz": -60
    },
    "id": "QI4TrozsDq5L",
    "outputId": "872848f0-a25e-48b8-e3d1-ac19d781ed48"
   },
   "outputs": [
    {
     "name": "stdout",
     "output_type": "stream",
     "text": [
      "+-------+------+-------------+--------------+--------------+--------------+-------+\n",
      "|type   |amount|oldbalanceOrg|newbalanceOrig|oldbalanceDest|newbalanceDest|isFraud|\n",
      "+-------+------+-------------+--------------+--------------+--------------+-------+\n",
      "|CASH_IN|1.42  |1270713.41   |1270714.83    |7644.26       |7642.84       |0      |\n",
      "|CASH_IN|4.35  |4136277.22   |4136281.57    |550806.01     |550801.66     |0      |\n",
      "|CASH_IN|4.71  |50198.0      |50202.71      |75699.61      |75694.89      |0      |\n",
      "|CASH_IN|5.19  |18104.0      |18109.19      |4753751.26    |4753746.06    |0      |\n",
      "|CASH_IN|5.66  |5061561.06   |5061566.72    |60569.78      |60564.12      |0      |\n",
      "+-------+------+-------------+--------------+--------------+--------------+-------+\n",
      "only showing top 5 rows\n",
      "\n"
     ]
    }
   ],
   "source": [
    "train.show(5, truncate=False)"
   ]
  },
  {
   "cell_type": "code",
   "execution_count": 53,
   "id": "ee65dFSvDq8N",
   "metadata": {
    "id": "ee65dFSvDq8N"
   },
   "outputs": [],
   "source": [
    "pipeline = Pipeline().setStages(stages)\n",
    "pipe_model = pipeline.fit(df_test_total)\n",
    "test_df = pipe_model.transform(df_test_total)\n",
    "test_data = test_df.select(\n",
    "    F.col(\"VectorAssembler_features\").alias(\"features\"),\n",
    "    F.col(\"isFraud\").alias(\"label\"),\n",
    ")"
   ]
  },
  {
   "cell_type": "code",
   "execution_count": 54,
   "id": "592JrZ4TDq-3",
   "metadata": {
    "colab": {
     "base_uri": "https://localhost:8080/"
    },
    "executionInfo": {
     "elapsed": 7886,
     "status": "ok",
     "timestamp": 1739738243321,
     "user": {
      "displayName": "Henoc",
      "userId": "14543655091629578091"
     },
     "user_tz": -60
    },
    "id": "592JrZ4TDq-3",
    "outputId": "a09d7f32-942e-4b2b-da82-3fe86971a924"
   },
   "outputs": [
    {
     "name": "stdout",
     "output_type": "stream",
     "text": [
      "+-------+------+-------------+--------------+--------------+--------------+-------+\n",
      "|type   |amount|oldbalanceOrg|newbalanceOrig|oldbalanceDest|newbalanceDest|isFraud|\n",
      "+-------+------+-------------+--------------+--------------+--------------+-------+\n",
      "|CASH_IN|4.58  |94241.0      |94245.58      |0.0           |0.0           |0      |\n",
      "|CASH_IN|5.44  |0.0          |5.44          |594031.45     |1014777.06    |0      |\n",
      "|CASH_IN|6.07  |400680.0     |400686.07     |0.0           |0.0           |0      |\n",
      "|CASH_IN|6.76  |11322.0      |11328.76      |0.0           |0.0           |0      |\n",
      "|CASH_IN|8.27  |8428410.94   |8428419.21    |258574.41     |258566.14     |0      |\n",
      "+-------+------+-------------+--------------+--------------+--------------+-------+\n",
      "only showing top 5 rows\n",
      "\n"
     ]
    }
   ],
   "source": [
    "df_test_total.show(5, truncate=False)"
   ]
  },
  {
   "cell_type": "code",
   "execution_count": 55,
   "id": "g82aijtrDrBf",
   "metadata": {
    "colab": {
     "base_uri": "https://localhost:8080/"
    },
    "executionInfo": {
     "elapsed": 6203,
     "status": "ok",
     "timestamp": 1739738249522,
     "user": {
      "displayName": "Henoc",
      "userId": "14543655091629578091"
     },
     "user_tz": -60
    },
    "id": "g82aijtrDrBf",
    "outputId": "ee299239-7810-4910-8824-226a6b7af484"
   },
   "outputs": [
    {
     "name": "stdout",
     "output_type": "stream",
     "text": [
      "+----------------------------------------------------------------+-----+\n",
      "|features                                                        |label|\n",
      "+----------------------------------------------------------------+-----+\n",
      "|(9,[0,1,2,7],[4.58,94241.0,94245.58,1.0])                       |0    |\n",
      "|[5.44,0.0,5.44,594031.45,1014777.06,0.0,0.0,1.0,0.0]            |0    |\n",
      "|(9,[0,1,2,7],[6.07,400680.0,400686.07,1.0])                     |0    |\n",
      "|(9,[0,1,2,7],[6.76,11322.0,11328.76,1.0])                       |0    |\n",
      "|[8.27,8428410.94,8428419.21,258574.41,258566.14,0.0,0.0,1.0,0.0]|0    |\n",
      "+----------------------------------------------------------------+-----+\n",
      "only showing top 5 rows\n",
      "\n"
     ]
    }
   ],
   "source": [
    "test_data.show(5, truncate=False)"
   ]
  },
  {
   "cell_type": "code",
   "execution_count": 56,
   "id": "BsXl4bPQDrDt",
   "metadata": {
    "id": "BsXl4bPQDrDt"
   },
   "outputs": [],
   "source": [
    "from pyspark.ml.classification import DecisionTreeClassifier, LogisticRegression, RandomForestClassifier, NaiveBayes\n",
    "from pyspark.ml.evaluation import MulticlassClassificationEvaluator\n"
   ]
  },
  {
   "cell_type": "code",
   "execution_count": 57,
   "id": "a2tm-dPjDyz7",
   "metadata": {
    "id": "a2tm-dPjDyz7"
   },
   "outputs": [],
   "source": [
    "dt_model = DecisionTreeClassifier().fit(data)"
   ]
  },
  {
   "cell_type": "markdown",
   "id": "c-QdAys7D3iH",
   "metadata": {
    "id": "c-QdAys7D3iH"
   },
   "source": [
    "## <font id = '4.2.1' color=\"#0d94cd\">4.2.2. Autres modèle : Régression logistique, forêt aléatoire et NaiveBayes </font>"
   ]
  },
  {
   "cell_type": "code",
   "execution_count": 58,
   "id": "a4cfJq7zDy4z",
   "metadata": {
    "id": "a4cfJq7zDy4z"
   },
   "outputs": [],
   "source": [
    "\n",
    "lr_model = LogisticRegression().fit(data)\n",
    "rf_model = RandomForestClassifier().fit(data)\n",
    "nb_model = NaiveBayes().fit(data)"
   ]
  },
  {
   "cell_type": "code",
   "execution_count": 59,
   "id": "400_pwwLDy65",
   "metadata": {
    "id": "400_pwwLDy65"
   },
   "outputs": [],
   "source": [
    " models = {\n",
    "     \"Decision Tree\": dt_model,\n",
    "     \"Logistic Regression\": lr_model,\n",
    "     \"Random Forest\": rf_model,\n",
    "     \"Naive Bayes\": nb_model\n",
    " }"
   ]
  },
  {
   "cell_type": "code",
   "execution_count": 60,
   "id": "DpDkpbRnEPzb",
   "metadata": {
    "colab": {
     "base_uri": "https://localhost:8080/",
     "height": 211
    },
    "executionInfo": {
     "elapsed": 503,
     "status": "error",
     "timestamp": 1739738837738,
     "user": {
      "displayName": "Henoc",
      "userId": "14543655091629578091"
     },
     "user_tz": -60
    },
    "id": "DpDkpbRnEPzb",
    "outputId": "e87412b7-b924-4331-8f39-fe9eee94469a"
   },
   "outputs": [
    {
     "name": "stdout",
     "output_type": "stream",
     "text": [
      "Modèle: Decision Tree\n",
      "Classe 1.0:\n",
      "Accuracy: 0.7201119552179128\n",
      "Precision: 1.0\n",
      "Recall: 0.7201119552179128\n",
      "F1-score: 0.8372849837284984\n",
      "\n",
      "Classe 0.0:\n",
      "Accuracy: 0.9999208695752425\n",
      "Precision: 1.0\n",
      "Recall: 0.9999208695752425\n",
      "F1-score: 0.9999604332221533\n",
      "\n",
      "\n",
      "Modèle: Logistic Regression\n",
      "Classe 1.0:\n",
      "Accuracy: 0.4674130347860856\n",
      "Precision: 1.0\n",
      "Recall: 0.4674130347860856\n",
      "F1-score: 0.6370572207084468\n",
      "\n",
      "Classe 0.0:\n",
      "Accuracy: 0.9999255859581752\n",
      "Precision: 1.0\n",
      "Recall: 0.9999255859581752\n",
      "F1-score: 0.9999627915946737\n",
      "\n",
      "\n",
      "Modèle: Random Forest\n",
      "Classe 1.0:\n",
      "Accuracy: 0.3950419832067173\n",
      "Precision: 1.0\n",
      "Recall: 0.3950419832067173\n",
      "F1-score: 0.5663513900831183\n",
      "\n",
      "Classe 0.0:\n",
      "Accuracy: 0.9999984278723558\n",
      "Precision: 1.0\n",
      "Recall: 0.9999984278723558\n",
      "F1-score: 0.9999992139355599\n",
      "\n",
      "\n",
      "Modèle: Naive Bayes\n",
      "Classe 1.0:\n",
      "Accuracy: 0.8668532586965214\n",
      "Precision: 1.0\n",
      "Recall: 0.8668532586965214\n",
      "F1-score: 0.9286785178839152\n",
      "\n",
      "Classe 0.0:\n",
      "Accuracy: 0.6230672000721083\n",
      "Precision: 1.0\n",
      "Recall: 0.6230672000721083\n",
      "F1-score: 0.767765130173818\n",
      "\n",
      "\n"
     ]
    }
   ],
   "source": [
    "# Fonction pour calculer les métriques par classe\n",
    "def classwise_metrics(predictions):\n",
    "    # Obtenir les étiquettes distinctes dans le jeu de données\n",
    "    labels = [float(row['label']) for row in predictions.select('label').distinct().collect()]\n",
    "\n",
    "    class_metrics = {}\n",
    "\n",
    "    for label in labels:\n",
    "        # Filtrer les prédictions pour chaque classe\n",
    "        class_predictions = predictions.filter(predictions.label == label)\n",
    "\n",
    "        # Évaluer la précision, la précision pondérée, le rappel pondéré et le score F1 pour la classe\n",
    "        evaluator_accuracy = MulticlassClassificationEvaluator(metricName=\"accuracy\", labelCol=\"label\", predictionCol=\"prediction\", metricLabel=label)\n",
    "        evaluator_precision = MulticlassClassificationEvaluator(metricName=\"weightedPrecision\", labelCol=\"label\", predictionCol=\"prediction\", metricLabel=label)\n",
    "        evaluator_recall = MulticlassClassificationEvaluator(metricName=\"weightedRecall\", labelCol=\"label\", predictionCol=\"prediction\", metricLabel=label)\n",
    "        evaluator_f1 = MulticlassClassificationEvaluator(metricName=\"f1\", labelCol=\"label\", predictionCol=\"prediction\", metricLabel=label)\n",
    "\n",
    "        accuracy = evaluator_accuracy.evaluate(class_predictions)\n",
    "        precision = evaluator_precision.evaluate(class_predictions)\n",
    "        recall = evaluator_recall.evaluate(class_predictions)\n",
    "        f1_score = evaluator_f1.evaluate(class_predictions)\n",
    "\n",
    "        class_metrics[str(label)] = {\n",
    "            \"Accuracy\": accuracy,\n",
    "            \"Precision\": precision,\n",
    "            \"Recall\": recall,\n",
    "            \"F1-score\": f1_score\n",
    "        }\n",
    "    return class_metrics\n",
    "\n",
    "# Boucle à travers chaque modèle, calculer les métriques par classe et les afficher\n",
    "for model_name, model in models.items():\n",
    "    print(f\"Modèle: {model_name}\")\n",
    "\n",
    "    # Faire des prédictions\n",
    "    predictions = model.transform(test_data)\n",
    "\n",
    "    # Calculer les métriques par classe\n",
    "    class_metrics = classwise_metrics(predictions)\n",
    "\n",
    "    # Afficher les métriques par classe\n",
    "    for class_label, metrics in class_metrics.items():\n",
    "        print(f\"Classe {class_label}:\")\n",
    "        for metric, value in metrics.items():\n",
    "            print(f\"{metric}: {value}\")\n",
    "        print()\n",
    "    print()"
   ]
  },
  {
   "cell_type": "code",
   "execution_count": 64,
   "id": "w0NLLk_WEfja",
   "metadata": {
    "id": "w0NLLk_WEfja"
   },
   "outputs": [
    {
     "name": "stdout",
     "output_type": "stream",
     "text": [
      "Modèle: Decision Tree\n",
      "AUC: 0.5917392100973032\n",
      "\n",
      "Modèle: Logistic Regression\n",
      "AUC: 0.992576551870362\n",
      "\n",
      "Modèle: Random Forest\n",
      "AUC: 0.9811884781775112\n",
      "\n",
      "Modèle: Naive Bayes\n",
      "AUC: 0.44444549652231224\n",
      "\n"
     ]
    }
   ],
   "source": [
    "from pyspark.ml.evaluation import BinaryClassificationEvaluator\n",
    "\n",
    "# Définir les modèles\n",
    "models = {\n",
    "    \"Decision Tree\": dt_model,\n",
    "    \"Logistic Regression\": lr_model,\n",
    "    \"Random Forest\": rf_model,\n",
    "    \"Naive Bayes\": nb_model\n",
    "}\n",
    "\n",
    "# Fonction pour calculer l'AUC\n",
    "def compute_auc(predictions):\n",
    "    evaluator = BinaryClassificationEvaluator(metricName=\"areaUnderROC\")\n",
    "    auc = evaluator.evaluate(predictions)\n",
    "    return auc\n",
    "\n",
    "# Boucle à travers chaque modèle, calculer l'AUC et l'afficher\n",
    "for model_name, model in models.items():\n",
    "    print(f\"Modèle: {model_name}\")\n",
    "\n",
    "    # Faire des prédictions\n",
    "    predictions = model.transform(test_data)\n",
    "\n",
    "    # Calculer l'AUC\n",
    "    auc = compute_auc(predictions)\n",
    "\n",
    "    # Afficher l'AUC\n",
    "    print(f\"AUC: {auc}\")\n",
    "    print()"
   ]
  },
  {
   "cell_type": "code",
   "execution_count": 63,
   "id": "Na0FRAjbDrGY",
   "metadata": {
    "id": "Na0FRAjbDrGY"
   },
   "outputs": [
    {
     "name": "stdout",
     "output_type": "stream",
     "text": [
      "Modèle: Decision Tree\n"
     ]
    },
    {
     "ename": "NameError",
     "evalue": "name 'compute_auc_per_class' is not defined",
     "output_type": "error",
     "traceback": [
      "\u001b[1;31m---------------------------------------------------------------------------\u001b[0m",
      "\u001b[1;31mNameError\u001b[0m                                 Traceback (most recent call last)",
      "\u001b[1;32m~\\AppData\\Local\\Temp/ipykernel_27272/2142316561.py\u001b[0m in \u001b[0;36m<module>\u001b[1;34m\u001b[0m\n\u001b[0;32m      6\u001b[0m \u001b[1;33m\u001b[0m\u001b[0m\n\u001b[0;32m      7\u001b[0m     \u001b[1;31m# Calculer l'AUC pour chaque classe\u001b[0m\u001b[1;33m\u001b[0m\u001b[1;33m\u001b[0m\u001b[0m\n\u001b[1;32m----> 8\u001b[1;33m     \u001b[0mauc_per_class\u001b[0m \u001b[1;33m=\u001b[0m \u001b[0mcompute_auc_per_class\u001b[0m\u001b[1;33m(\u001b[0m\u001b[0mpredictions\u001b[0m\u001b[1;33m)\u001b[0m\u001b[1;33m\u001b[0m\u001b[1;33m\u001b[0m\u001b[0m\n\u001b[0m\u001b[0;32m      9\u001b[0m \u001b[1;33m\u001b[0m\u001b[0m\n\u001b[0;32m     10\u001b[0m     \u001b[1;31m# Afficher l'AUC pour chaque classe\u001b[0m\u001b[1;33m\u001b[0m\u001b[1;33m\u001b[0m\u001b[0m\n",
      "\u001b[1;31mNameError\u001b[0m: name 'compute_auc_per_class' is not defined"
     ]
    }
   ],
   "source": [
    "for model_name, model in models.items():\n",
    "    print(f\"Modèle: {model_name}\")\n",
    "\n",
    "    # Faire des prédictions\n",
    "    predictions = model.transform(test_data)\n",
    "\n",
    "    # Calculer l'AUC pour chaque classe\n",
    "    auc_per_class = compute_auc_per_class(predictions)\n",
    "\n",
    "    # Afficher l'AUC pour chaque classe\n",
    "    print(f\"AUC pour chaque classe: {auc_per_class}\")\n",
    "    print()"
   ]
  },
  {
   "cell_type": "code",
   "execution_count": null,
   "id": "a3-3vDzwDrJB",
   "metadata": {
    "id": "a3-3vDzwDrJB"
   },
   "outputs": [],
   "source": []
  },
  {
   "cell_type": "code",
   "execution_count": null,
   "id": "iBKTv9cZEmyE",
   "metadata": {
    "id": "iBKTv9cZEmyE"
   },
   "outputs": [],
   "source": [
    "from sklearn.metrics import classification_report\n",
    "\n",
    "# Définir les modèles\n",
    "models = {\n",
    "    \"Decision Tree\": dt_model,\n",
    "    \"Logistic Regression\": lr_model,\n",
    "    \"Random Forest\": rf_model,\n",
    "    \"Naive Bayes\": nb_model\n",
    "}\n",
    "\n",
    "# Fonction pour calculer les métriques par classe\n",
    "def classwise_metrics(y_true, y_pred):\n",
    "    report = classification_report(y_true, y_pred, output_dict=True)\n",
    "    return report\n",
    "\n",
    "# Calculer et afficher les métriques par classe pour chaque modèle\n",
    "for model_name, model in models.items():\n",
    "    y_pred = model.predict(X_test)\n",
    "    class_metrics = classwise_metrics(y_test, y_pred)\n",
    "    print(f\"{model_name}:\")\n",
    "    print(classification_report(y_test, y_pred))\n",
    "    print()"
   ]
  },
  {
   "cell_type": "code",
   "execution_count": null,
   "id": "RqFhM6qhEm0Q",
   "metadata": {
    "id": "RqFhM6qhEm0Q"
   },
   "outputs": [],
   "source": [
    "dt_model = DecisionTreeClassifier().fit(data)"
   ]
  },
  {
   "cell_type": "code",
   "execution_count": null,
   "id": "QWqnCMqyEm2r",
   "metadata": {
    "id": "QWqnCMqyEm2r"
   },
   "outputs": [],
   "source": [
    "# Faire des prédictions sur les données de test\n",
    "predictions = dt_model.transform(test_data)\n",
    "\n",
    "# Évaluer le modèle\n",
    "evaluator_accuracy = MulticlassClassificationEvaluator(metricName=\"accuracy\")\n",
    "evaluator_precision = MulticlassClassificationEvaluator(metricName=\"weightedPrecision\")\n",
    "evaluator_recall = MulticlassClassificationEvaluator(metricName=\"weightedRecall\")\n",
    "evaluator_f1 = MulticlassClassificationEvaluator(metricName=\"f1\")\n",
    "\n",
    "accuracy = evaluator_accuracy.evaluate(predictions)\n",
    "precision = evaluator_precision.evaluate(predictions)\n",
    "recall = evaluator_recall.evaluate(predictions)\n",
    "f1_score = evaluator_f1.evaluate(predictions)\n",
    "\n",
    "print(\"Précision:\", accuracy)\n",
    "print(\"Précision pondérée:\", precision)\n",
    "print(\"Rappel pondéré:\", recall)\n",
    "print(\"Score F1:\", f1_score)"
   ]
  },
  {
   "cell_type": "code",
   "execution_count": null,
   "id": "HT8ZpHmpEm5r",
   "metadata": {
    "id": "HT8ZpHmpEm5r"
   },
   "outputs": [],
   "source": [
    "lr_model = LogisticRegression().fit(data)"
   ]
  },
  {
   "cell_type": "code",
   "execution_count": null,
   "id": "Mm_WgcnsEm7c",
   "metadata": {
    "id": "Mm_WgcnsEm7c"
   },
   "outputs": [],
   "source": []
  },
  {
   "cell_type": "code",
   "execution_count": null,
   "id": "927DKkXzEm-4",
   "metadata": {
    "id": "927DKkXzEm-4"
   },
   "outputs": [],
   "source": [
    "# Faire des prédictions sur les données de test\n",
    "predictions = lr_model.transform(test_data)\n",
    "\n",
    "# Évaluer le modèle\n",
    "evaluator_accuracy = MulticlassClassificationEvaluator(metricName=\"accuracy\")\n",
    "evaluator_precision = MulticlassClassificationEvaluator(metricName=\"weightedPrecision\")\n",
    "evaluator_recall = MulticlassClassificationEvaluator(metricName=\"weightedRecall\")\n",
    "evaluator_f1 = MulticlassClassificationEvaluator(metricName=\"f1\")\n",
    "\n",
    "accuracy = evaluator_accuracy.evaluate(predictions)\n",
    "precision = evaluator_precision.evaluate(predictions)\n",
    "recall = evaluator_recall.evaluate(predictions)\n",
    "f1_score = evaluator_f1.evaluate(predictions)\n",
    "\n",
    "print(\"Accuracy:\", accuracy)\n",
    "print(\"Precision:\", precision)\n",
    "print(\"Recall:\", recall)\n",
    "print(\"F1-score:\", f1_score)"
   ]
  },
  {
   "cell_type": "code",
   "execution_count": null,
   "id": "oe0CdV5LFHfE",
   "metadata": {
    "id": "oe0CdV5LFHfE"
   },
   "outputs": [],
   "source": []
  },
  {
   "cell_type": "code",
   "execution_count": null,
   "id": "rPtZLJJ0FHhj",
   "metadata": {
    "id": "rPtZLJJ0FHhj"
   },
   "outputs": [],
   "source": [
    "# Définir le modèle Naive Bayes\n",
    "nb_model = NaiveBayes().fit(data)\n",
    "\n",
    "# Faire des prédictions sur les données de test\n",
    "predictions = nb_model.transform(test_data)\n",
    "\n",
    "# Évaluer le modèle\n",
    "evaluator_accuracy = MulticlassClassificationEvaluator(metricName=\"accuracy\")\n",
    "evaluator_precision = MulticlassClassificationEvaluator(metricName=\"weightedPrecision\")\n",
    "evaluator_recall = MulticlassClassificationEvaluator(metricName=\"weightedRecall\")\n",
    "evaluator_f1 = MulticlassClassificationEvaluator(metricName=\"f1\")\n",
    "\n",
    "accuracy = evaluator_accuracy.evaluate(predictions)\n",
    "precision = evaluator_precision.evaluate(predictions)\n",
    "recall = evaluator_recall.evaluate(predictions)\n",
    "f1_score = evaluator_f1.evaluate(predictions)\n",
    "\n",
    "print(\"Précision:\", accuracy)\n",
    "print(\"Précision pondérée:\", precision)\n",
    "print(\"Rappel pondéré:\", recall)\n",
    "print(\"Score F1:\", f1_score)"
   ]
  },
  {
   "cell_type": "markdown",
   "id": "-4zsPx2_FNH-",
   "metadata": {
    "id": "-4zsPx2_FNH-"
   },
   "source": [
    "FORET ALEATOIRE"
   ]
  },
  {
   "cell_type": "code",
   "execution_count": null,
   "id": "vJb0Dej8FKqa",
   "metadata": {
    "id": "vJb0Dej8FKqa"
   },
   "outputs": [],
   "source": []
  },
  {
   "cell_type": "code",
   "execution_count": null,
   "id": "_zEeXgX2FKtF",
   "metadata": {
    "id": "_zEeXgX2FKtF"
   },
   "outputs": [],
   "source": [
    "from pyspark.ml.classification import RandomForestClassifier"
   ]
  },
  {
   "cell_type": "code",
   "execution_count": null,
   "id": "WnBjr1ptFKvU",
   "metadata": {
    "id": "WnBjr1ptFKvU"
   },
   "outputs": [],
   "source": [
    "rf_model = RandomForestClassifier().fit(data)"
   ]
  },
  {
   "cell_type": "code",
   "execution_count": null,
   "id": "J31IWPkTFKyD",
   "metadata": {
    "id": "J31IWPkTFKyD"
   },
   "outputs": [],
   "source": [
    " Faire des prédictions sur les données de test\n",
    "\n",
    "predictions = rf_model.transform(test_data)\n",
    "\n",
    "# Evaluation  du modèle\n",
    "evaluator_accuracy = MulticlassClassificationEvaluator(metricName=\"accuracy\")\n",
    "evaluator_precision = MulticlassClassificationEvaluator(metricName=\"weightedPrecision\")\n",
    "evaluator_recall = MulticlassClassificationEvaluator(metricName=\"weightedRecall\")\n",
    "evaluator_f1 = MulticlassClassificationEvaluator(metricName=\"f1\")\n",
    "\n",
    "accuracy = evaluator_accuracy.evaluate(predictions)\n",
    "precision = evaluator_precision.evaluate(predictions)\n",
    "recall = evaluator_recall.evaluate(predictions)\n",
    "f1_score = evaluator_f1.evaluate(predictions)\n",
    "\n",
    "print(\"Accuracy:\", accuracy)\n",
    "print(\"Precision:\", precision)\n",
    "print(\"Recall:\", recall)\n",
    "print(\"F1-score:\", f1_score)"
   ]
  },
  {
   "cell_type": "markdown",
   "id": "3ab2f8fc",
   "metadata": {},
   "source": []
  }
 ],
 "metadata": {
  "colab": {
   "provenance": []
  },
  "kernelspec": {
   "display_name": "base",
   "language": "python",
   "name": "python3"
  },
  "language_info": {
   "codemirror_mode": {
    "name": "ipython",
    "version": 3
   },
   "file_extension": ".py",
   "mimetype": "text/x-python",
   "name": "python",
   "nbconvert_exporter": "python",
   "pygments_lexer": "ipython3",
   "version": "3.9.7"
  }
 },
 "nbformat": 4,
 "nbformat_minor": 5
}
